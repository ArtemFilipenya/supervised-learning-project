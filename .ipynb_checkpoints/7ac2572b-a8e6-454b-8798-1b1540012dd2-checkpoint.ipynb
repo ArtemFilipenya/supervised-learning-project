{
 "cells": [
  {
   "cell_type": "markdown",
   "metadata": {
    "id": "H6cQIZr3ElW1"
   },
   "source": [
    "# Анализ и прогнозирование снижения покупательской активности для интернет-магазина «В один клик»"
   ]
  },
  {
   "cell_type": "markdown",
   "metadata": {},
   "source": [
    "GitHub link: https://github.com/ArtemFilipenya/supervised-learning-project"
   ]
  },
  {
   "cell_type": "markdown",
   "metadata": {},
   "source": [
    "Интернет-магазин «В один клик» сталкивается с проблемой снижения активности постоянных покупателей. Привлечение новых клиентов становится менее эффективным, поэтому основной задачей становится удержание уже существующих клиентов. \n",
    "\n",
    "В рамках проекта нужно разработать модель, которая будет прогнозировать вероятность снижения покупательской активности, а также произвести сегментацию клиентов."
   ]
  },
  {
   "cell_type": "markdown",
   "metadata": {},
   "source": [
    "## Цель проекта"
   ]
  },
  {
   "cell_type": "markdown",
   "metadata": {},
   "source": [
    "- Разработать модель, предсказывающую вероятность снижения покупательской активности постоянных клиентов;\n",
    "- Провести сегментацию клиентов на основе результатов моделирования и других признаков;\n",
    "- Проанализировать выделенные сегменты и предложить рекомендации по увеличению покупательской активности;"
   ]
  },
  {
   "cell_type": "markdown",
   "metadata": {},
   "source": [
    "## Ход исследования"
   ]
  },
  {
   "cell_type": "markdown",
   "metadata": {},
   "source": [
    "1. Загрузка и первичный обзор данных\n",
    "2. Предобработка данных\n",
    "3. Исследовательский анализ данных (EDA)\n",
    "    - Анализ каждой таблицы\n",
    "    - Отбор клиентов с активностью не менее трёх месяцев\n",
    "    - Формулировка выводов\n",
    "4. Объединение таблиц\n",
    "    - Объединение market_file, market_money, market_time\n",
    "    - Создание отдельных столбцов для каждого периода\n",
    "5. Корреляционный анализ\n",
    "    - Анализ корреляций количественных признаков\n",
    "    - Проверка и устранение мультиколлинеарности\n",
    "6. Построение пайплайнов и обучение моделей\n",
    "    - Раздельная обработка количественных и категориальных признаков\n",
    "    - Применение разных кодировщиков и скейлеров\n",
    "    - Обучение моделей: KNeighborsClassifier, DecisionTreeClassifier, LogisticRegression, SVC\n",
    "    - Подбор гиперпараметров\n",
    "    - Выбор метрики и лучшей модели\n",
    "7. Анализ важности признаков\n",
    "    - Оценка важности признаков для лучшей модели\n",
    "    - Визуализация с помощью SHAP\n",
    "    - Формулировка выводов\n",
    "8. Сегментация покупателей\n",
    "    - Сегментация на основе моделирования и прибыльности\n",
    "    - Анализ выбранного сегмента\n",
    "    - Предложения по увеличению активности\n",
    "    - Выводы по сегментам\n",
    "9. Общий вывод"
   ]
  },
  {
   "cell_type": "markdown",
   "metadata": {},
   "source": [
    "## Загрузка данных"
   ]
  },
  {
   "cell_type": "code",
   "execution_count": 2,
   "metadata": {},
   "outputs": [
    {
     "name": "stderr",
     "output_type": "stream",
     "text": [
      "  error: subprocess-exited-with-error\n",
      "  \n",
      "  Getting requirements to build wheel did not run successfully.\n",
      "  exit code: 1\n",
      "  \n",
      "  [32 lines of output]\n",
      "  Traceback (most recent call last):\n",
      "    File \u001b[35m\"C:\\Users\\L3gio\\anaconda3\\Lib\\site-packages\\pip\\_vendor\\pyproject_hooks\\_in_process\\_in_process.py\"\u001b[0m, line \u001b[35m389\u001b[0m, in \u001b[35m<module>\u001b[0m\n",
      "      \u001b[31mmain\u001b[0m\u001b[1;31m()\u001b[0m\n",
      "      \u001b[31m~~~~\u001b[0m\u001b[1;31m^^\u001b[0m\n",
      "    File \u001b[35m\"C:\\Users\\L3gio\\anaconda3\\Lib\\site-packages\\pip\\_vendor\\pyproject_hooks\\_in_process\\_in_process.py\"\u001b[0m, line \u001b[35m373\u001b[0m, in \u001b[35mmain\u001b[0m\n",
      "      json_out[\"return_val\"] = \u001b[31mhook\u001b[0m\u001b[1;31m(**hook_input[\"kwargs\"])\u001b[0m\n",
      "                               \u001b[31m~~~~\u001b[0m\u001b[1;31m^^^^^^^^^^^^^^^^^^^^^^^^\u001b[0m\n",
      "    File \u001b[35m\"C:\\Users\\L3gio\\anaconda3\\Lib\\site-packages\\pip\\_vendor\\pyproject_hooks\\_in_process\\_in_process.py\"\u001b[0m, line \u001b[35m137\u001b[0m, in \u001b[35mget_requires_for_build_wheel\u001b[0m\n",
      "      backend = _build_backend()\n",
      "    File \u001b[35m\"C:\\Users\\L3gio\\anaconda3\\Lib\\site-packages\\pip\\_vendor\\pyproject_hooks\\_in_process\\_in_process.py\"\u001b[0m, line \u001b[35m70\u001b[0m, in \u001b[35m_build_backend\u001b[0m\n",
      "      obj = import_module(mod_path)\n",
      "    File \u001b[35m\"C:\\Users\\L3gio\\anaconda3\\Lib\\importlib\\__init__.py\"\u001b[0m, line \u001b[35m88\u001b[0m, in \u001b[35mimport_module\u001b[0m\n",
      "      return \u001b[31m_bootstrap._gcd_import\u001b[0m\u001b[1;31m(name[level:], package, level)\u001b[0m\n",
      "             \u001b[31m~~~~~~~~~~~~~~~~~~~~~~\u001b[0m\u001b[1;31m^^^^^^^^^^^^^^^^^^^^^^^^^^^^^^\u001b[0m\n",
      "    File \u001b[35m\"<frozen importlib._bootstrap>\"\u001b[0m, line \u001b[35m1387\u001b[0m, in \u001b[35m_gcd_import\u001b[0m\n",
      "    File \u001b[35m\"<frozen importlib._bootstrap>\"\u001b[0m, line \u001b[35m1360\u001b[0m, in \u001b[35m_find_and_load\u001b[0m\n",
      "    File \u001b[35m\"<frozen importlib._bootstrap>\"\u001b[0m, line \u001b[35m1310\u001b[0m, in \u001b[35m_find_and_load_unlocked\u001b[0m\n",
      "    File \u001b[35m\"<frozen importlib._bootstrap>\"\u001b[0m, line \u001b[35m488\u001b[0m, in \u001b[35m_call_with_frames_removed\u001b[0m\n",
      "    File \u001b[35m\"<frozen importlib._bootstrap>\"\u001b[0m, line \u001b[35m1387\u001b[0m, in \u001b[35m_gcd_import\u001b[0m\n",
      "    File \u001b[35m\"<frozen importlib._bootstrap>\"\u001b[0m, line \u001b[35m1360\u001b[0m, in \u001b[35m_find_and_load\u001b[0m\n",
      "    File \u001b[35m\"<frozen importlib._bootstrap>\"\u001b[0m, line \u001b[35m1331\u001b[0m, in \u001b[35m_find_and_load_unlocked\u001b[0m\n",
      "    File \u001b[35m\"<frozen importlib._bootstrap>\"\u001b[0m, line \u001b[35m935\u001b[0m, in \u001b[35m_load_unlocked\u001b[0m\n",
      "    File \u001b[35m\"<frozen importlib._bootstrap_external>\"\u001b[0m, line \u001b[35m1026\u001b[0m, in \u001b[35mexec_module\u001b[0m\n",
      "    File \u001b[35m\"<frozen importlib._bootstrap>\"\u001b[0m, line \u001b[35m488\u001b[0m, in \u001b[35m_call_with_frames_removed\u001b[0m\n",
      "    File \u001b[35m\"C:\\Users\\L3gio\\AppData\\Local\\Temp\\pip-build-env-g_z5dd6e\\overlay\\Lib\\site-packages\\setuptools\\__init__.py\"\u001b[0m, line \u001b[35m16\u001b[0m, in \u001b[35m<module>\u001b[0m\n",
      "      import setuptools.version\n",
      "    File \u001b[35m\"C:\\Users\\L3gio\\AppData\\Local\\Temp\\pip-build-env-g_z5dd6e\\overlay\\Lib\\site-packages\\setuptools\\version.py\"\u001b[0m, line \u001b[35m1\u001b[0m, in \u001b[35m<module>\u001b[0m\n",
      "      import pkg_resources\n",
      "    File \u001b[35m\"C:\\Users\\L3gio\\AppData\\Local\\Temp\\pip-build-env-g_z5dd6e\\overlay\\Lib\\site-packages\\pkg_resources\\__init__.py\"\u001b[0m, line \u001b[35m2172\u001b[0m, in \u001b[35m<module>\u001b[0m\n",
      "      register_finder(\u001b[1;31mpkgutil.ImpImporter\u001b[0m, find_on_path)\n",
      "                      \u001b[1;31m^^^^^^^^^^^^^^^^^^^\u001b[0m\n",
      "  \u001b[1;35mAttributeError\u001b[0m: \u001b[35mmodule 'pkgutil' has no attribute 'ImpImporter'. Did you mean: 'zipimporter'?\u001b[0m\n",
      "  [end of output]\n",
      "  \n",
      "  note: This error originates from a subprocess, and is likely not a problem with pip.\n",
      "error: subprocess-exited-with-error\n",
      "\n",
      "Getting requirements to build wheel did not run successfully.\n",
      "exit code: 1\n",
      "\n",
      "See above for output.\n",
      "\n",
      "note: This error originates from a subprocess, and is likely not a problem with pip.\n"
     ]
    }
   ],
   "source": [
    "#Установка библиотек\n",
    "!pip install -q shap scikit-learn==1.1.3 matplotlib==3.5.2\n",
    "\n",
    "# Стандартные библиотеки\n",
    "import warnings\n",
    "\n",
    "# Сторонние библиотеки\n",
    "import numpy as np\n",
    "import pandas as pd\n",
    "import matplotlib.pyplot as plt\n",
    "import seaborn as sns\n",
    "import shap\n",
    "import os\n",
    "\n",
    "from scipy import stats\n",
    "\n",
    "# Scikit-learn: базовые инструменты\n",
    "from sklearn.model_selection import train_test_split, GridSearchCV\n",
    "from sklearn.pipeline import Pipeline\n",
    "from sklearn.compose import ColumnTransformer\n",
    "\n",
    "# Scikit-learn: препроцессинг\n",
    "from sklearn.preprocessing import (\n",
    "    StandardScaler,\n",
    "    MinMaxScaler,\n",
    "    OneHotEncoder,\n",
    "    OrdinalEncoder,\n",
    "    LabelEncoder,\n",
    ")\n",
    "\n",
    "# Scikit-learn: модели\n",
    "from sklearn.linear_model import LogisticRegression\n",
    "from sklearn.neighbors import KNeighborsClassifier\n",
    "from sklearn.tree import DecisionTreeClassifier\n",
    "from sklearn.svm import SVC\n",
    "\n",
    "# Scikit-learn: метрики\n",
    "from sklearn.metrics import f1_score, classification_report, roc_auc_score\n",
    "\n",
    "\n",
    "RANDOM_STATE = 42"
   ]
  },
  {
   "cell_type": "code",
   "execution_count": 3,
   "metadata": {},
   "outputs": [
    {
     "name": "stdout",
     "output_type": "stream",
     "text": [
      "Загрузка market_file из: datasets/market_file.csv\n",
      "Загрузка market_money из: datasets/market_money.csv\n",
      "Загрузка market_time из: datasets/market_time.csv\n",
      "Загрузка money из: datasets/money.csv\n"
     ]
    }
   ],
   "source": [
    "def read_csv_if_exists(path, var_name='DataFrame'):\n",
    "    if os.path.exists(path):\n",
    "        print(f\"Загрузка {var_name} из: {path}\")\n",
    "        return pd.read_csv(path)\n",
    "    else:\n",
    "        print(f\"Файл не найден: {path}\")\n",
    "        return None\n",
    "\n",
    "market_file = read_csv_if_exists('datasets/market_file.csv', 'market_file')\n",
    "market_money = read_csv_if_exists('datasets/market_money.csv', 'market_money')\n",
    "market_time = read_csv_if_exists('datasets/market_time.csv', 'market_time')\n",
    "money = read_csv_if_exists('datasets/money.csv', 'money')"
   ]
  },
  {
   "cell_type": "code",
   "execution_count": null,
   "metadata": {},
   "outputs": [],
   "source": [
    "print(market_file.info())\n",
    "print(f'\\n Кол-во явных дубликатов в таблице \"market_file:\" {market_file.duplicated().sum()}')\n",
    "market_file.head(5)"
   ]
  },
  {
   "cell_type": "code",
   "execution_count": null,
   "metadata": {},
   "outputs": [],
   "source": [
    "print(market_money.info())\n",
    "print(f'\\n Кол-во явных дубликатов в таблице \"market_money:\" {market_money.duplicated().sum()}')\n",
    "market_money.head(5)"
   ]
  },
  {
   "cell_type": "code",
   "execution_count": null,
   "metadata": {},
   "outputs": [],
   "source": [
    "print(market_time.info())\n",
    "print(f'\\n Кол-во явных дубликатов в таблице \"market_time:\" {market_time.duplicated().sum()}')\n",
    "market_time.head(5)"
   ]
  },
  {
   "cell_type": "code",
   "execution_count": null,
   "metadata": {},
   "outputs": [],
   "source": [
    "print(money.info())\n",
    "print(f'\\n Кол-во явных дубликатов в таблице \"money:\" {money.duplicated().sum()}')\n",
    "money.head(5)"
   ]
  },
  {
   "cell_type": "markdown",
   "metadata": {},
   "source": [
    "**Вывод:** \n",
    "`market_file:` Содержит 1300 уникальных клиентов и 13 признаков, полностью соответствует описанию. Пропусков нет, данные чистые.\n",
    "\n",
    "`market_money:` Содержит 3900 строк (по 3 периода на каждого клиента), пропусков нет. Формат данных корректный.\n",
    "\n",
    "`market_time:` Содержит 2600 строк (по 2 периода на каждого клиента), пропусков нет. Формат данных корректный. *Требуется проверить корректность периодов: есть опечатка: `предыдцщий_месяц`.*\n",
    "\n",
    "`money:` Содержит 1300 строк, но 16 пропусков в столбце прибыли. Также есть проблема с разделителем: id и прибыль объединены в один столбец через точку с запятой. \n",
    "*Треубется разделить на два столбца и обработать пропуски. Привести `Прибыль` к типу `float`.*\n",
    "\n",
    "Явные дубликаты отсутствуют."
   ]
  },
  {
   "cell_type": "markdown",
   "metadata": {},
   "source": [
    "## Предобработка данных"
   ]
  },
  {
   "cell_type": "markdown",
   "metadata": {},
   "source": [
    "### Исправление структуры и типа данных таблицы `money`"
   ]
  },
  {
   "cell_type": "code",
   "execution_count": null,
   "metadata": {},
   "outputs": [],
   "source": [
    "money = pd.read_csv('/datasets/money.csv', sep=';', names=['id', 'Прибыль'], header=0)\n",
    "\n",
    "money['id'] = money['id'].astype(int)\n",
    "money['Прибыль'] = money['Прибыль'].str.replace(',', '.').astype(float)\n",
    "\n",
    "print(money.info())\n",
    "print('\\n Кол-во пропусков: \\n', money.isna().sum())\n",
    "money.head(5)"
   ]
  },
  {
   "cell_type": "markdown",
   "metadata": {},
   "source": [
    "### Проверка поля `id` на уникальность"
   ]
  },
  {
   "cell_type": "code",
   "execution_count": null,
   "metadata": {},
   "outputs": [],
   "source": [
    "print('Уникальных id в market_file:', market_file['id'].nunique())\n",
    "print('Всего строк в market_file:', len(market_file))\n",
    "print('Уникальных id в money:', money['id'].nunique())\n",
    "print('Всего строк в money:', len(money))"
   ]
  },
  {
   "cell_type": "markdown",
   "metadata": {},
   "source": [
    "**Вывод:** Необходимо проверить поле `id` на уникальность в таблицах `market_file`, `money`, поскольку каждая строка - это отдельный пользователь. Нужно убедиться, что нет дубликатов. В таблицах `market_money` и `market_time` поля могут повторяться, потому что у одного пользователя может быть несколько записей.\n",
    "\n",
    "Исходя из проверки можно сделать вывод, что с полем `id` все в порядке, дубликатов нет."
   ]
  },
  {
   "cell_type": "markdown",
   "metadata": {},
   "source": [
    "### Приведение к типу `category`"
   ]
  },
  {
   "cell_type": "code",
   "execution_count": null,
   "metadata": {},
   "outputs": [],
   "source": [
    "# market_time\n",
    "market_time['Период'] = market_time['Период'].astype('category')\n",
    "\n",
    "# market_money\n",
    "market_money['Период'] = market_money['Период'].astype('category')\n",
    "\n",
    "# market_file\n",
    "market_file['Покупательская активность'] = market_file['Покупательская активность'].astype('category')\n",
    "market_file['Тип сервиса'] = market_file['Тип сервиса'].astype('category')\n",
    "market_file['Разрешить сообщать'] = market_file['Разрешить сообщать'].astype('category')\n",
    "market_file['Популярная_категория'] = market_file['Популярная_категория'].astype('category')"
   ]
  },
  {
   "cell_type": "code",
   "execution_count": null,
   "metadata": {},
   "outputs": [],
   "source": [
    "print(market_time.info())\n",
    "print(market_money.info())\n",
    "print(market_file.info())"
   ]
  },
  {
   "cell_type": "markdown",
   "metadata": {},
   "source": [
    "### Поиск и обработка неявных дубликатов"
   ]
  },
  {
   "cell_type": "code",
   "execution_count": null,
   "metadata": {},
   "outputs": [],
   "source": [
    "dfs = [\n",
    "    ('market_file', market_file),\n",
    "    ('market_time', market_time),\n",
    "    ('market_money', market_money)\n",
    "]\n",
    "\n",
    "# Поиск категориальных значений и вывод их уникальных значений\n",
    "for name, df in dfs:\n",
    "    print(f'\\nКатегориальные столбцы в {name}:')\n",
    "    cat_cols = df.select_dtypes(include=['object', 'category']).columns\n",
    "    for col in cat_cols:\n",
    "        print(f'    {col}:')\n",
    "        print(f'        {df[col].unique()}')"
   ]
  },
  {
   "cell_type": "code",
   "execution_count": null,
   "metadata": {},
   "outputs": [],
   "source": [
    "market_file['Тип сервиса'] = market_file['Тип сервиса'].replace('стандартт', 'стандарт')\n",
    "market_time['Период'] = market_time['Период'].replace('предыдцщий_месяц', 'предыдущий_месяц')\n",
    "market_file['Популярная_категория'] = market_file['Популярная_категория'].replace('Косметика и аксесуары', 'Косметика и аксессуары')\n",
    "\n",
    "print(f'Уникальные значения поля \"Тип сервиса после удаления:\" {market_file[\"Тип сервиса\"].unique()}')\n",
    "print(f'Уникальные значения поля \"Тип сервиса после удаления:\" {market_time[\"Период\"].unique()}')\n",
    "print(f'Уникальные значения поля \"Популярная категория после удаления:\" {market_file[\"Популярная_категория\"].unique()}')"
   ]
  },
  {
   "cell_type": "markdown",
   "metadata": {},
   "source": [
    "**Вывод:** Были выявлены неявные дубликаты в:\n",
    "- `market_file` в поле `Тип сервиса`;\n",
    "- `market_time` в поле `Период`;\n",
    "\n",
    "Так же найдена опечата в `market_file` в поле `Популярная_категория`: `Косметика и аксесуары`\n",
    "\n",
    "Дубликаты были успешно удалены."
   ]
  },
  {
   "cell_type": "markdown",
   "metadata": {},
   "source": [
    "## Исследовательский анализ данных (EDA)"
   ]
  },
  {
   "cell_type": "markdown",
   "metadata": {},
   "source": [
    "### Анализ `market_file`"
   ]
  },
  {
   "cell_type": "code",
   "execution_count": null,
   "metadata": {},
   "outputs": [],
   "source": [
    "print('Анализ market_file:')\n",
    "market_file.describe()"
   ]
  },
  {
   "cell_type": "code",
   "execution_count": null,
   "metadata": {},
   "outputs": [],
   "source": [
    "plt.figure(figsize=(8, 6))\n",
    "sns.countplot(x='Покупательская активность', data=market_file)\n",
    "plt.title('Распределение классов в целевом признаке')\n",
    "plt.show()"
   ]
  },
  {
   "cell_type": "markdown",
   "metadata": {},
   "source": [
    "**Вывод:** \n",
    "- `Маркет_актив_6_мес`: В среднем, на каждого покупателя приходится 4.25 маркетинговых коммуникаций в месяц за последние 6 месяцев. Стандартное отклонение составляет примерно 1, что говорит о небольшой вариативности;\n",
    "- `Маркет_актив_тек_мес`: Среднее кол-во маректиноговых коммуникаций составляет 4.01 в этом месяце, что немного ниже, чем за последние 6.\n",
    "- `Длительность`: Средняя длительность регистрации пользователя на сайте составляет 602 дня. Что говорит о том, что присутствуют как новые, так и \"старые\" клиенты;\n",
    "- `Акционные_покупки`: В среднем около 32% покупок совершаются по акции;\n",
    "- `Средний_просмотр_категорий_за_визит`: Около 3.27 категорий просматривает покупатель за один визит;\n",
    "- `Неоплаченные_продукты_штук_квартал`: У покупателей около 2.84 неоплаченных товаров за последние 3 месяца;\n",
    "- `Ошибка_сервиса`: В среднем, покупатель сталкивается с 4.19 ошибками сервиса. Это довольно высокий показатель, который может негативно влиять на покупательскую активность;\n",
    "- `Страниц_за_визит`: В среднем, покупатель просматривает около 8.18 страниц за один визит.\n",
    "\n",
    "Из графиков видно:\n",
    "- *Несбалансированность классов*: На графике видно, что количество клиентов с \"Прежним уровнем\" покупательской активности значительно больше, чем количество клиентов, чья активность \"Снизилась\". Это говорит о несбалансированности классов в целевом признаке.\n",
    "- *Преобладание \"Прежнего уровня\"*: Количество клиентов с \"Прежним уровнем\" составляет около 800, в то время как количество клиентов с \"Снизилась\" составляет около 500."
   ]
  },
  {
   "cell_type": "code",
   "execution_count": null,
   "metadata": {
    "scrolled": true
   },
   "outputs": [],
   "source": [
    "categorical_features = ['Тип сервиса', 'Разрешить сообщать', 'Популярная_категория']\n",
    "for feature in categorical_features:\n",
    "    plt.figure(figsize=(10, 6))\n",
    "    sns.countplot(x=feature, data=market_file)\n",
    "    plt.title(f'Распределение по категориям в признаке \"{feature}\"')\n",
    "    plt.xticks(rotation=45, ha='right')\n",
    "    plt.show()"
   ]
  },
  {
   "cell_type": "markdown",
   "metadata": {},
   "source": [
    "**Вывод:** Из графиков видно:\n",
    "- Большинство клиентов пользуются стандартным типом сервиса (около 900), в то время как премиум-сервис используют около 400 клиентов;\n",
    "- Большинство клиентов (около 950) разрешают присылать им дополнительные предложения о товаре, в то время как около 350 клиентов не дают такого разрешения;\n",
    "- Самой популярной категорией товаров является \"Товары для детей\" (около 320), за ней следуют \"Домашний текстиль\" и \"Косметика и аксессуары\" (около 250 каждая). Менее популярными являются \"Кухонная посуда\" и \"Техника для красоты и здоровья\" (около 180 каждая);"
   ]
  },
  {
   "cell_type": "code",
   "execution_count": null,
   "metadata": {},
   "outputs": [],
   "source": [
    "numerical_features = ['Маркет_актив_6_мес', 'Маркет_актив_тек_мес', 'Длительность', 'Акционные_покупки', 'Средний_просмотр_категорий_за_визит', 'Неоплаченные_продукты_штук_квартал', 'Ошибка_сервиса', 'Страниц_за_визит']\n",
    "\n",
    "for feature in numerical_features:\n",
    "    plt.figure(figsize=(10, 6))\n",
    "    sns.boxplot(x=market_file[feature])\n",
    "    plt.title(f'Box plot для признака \"{feature}\"')\n",
    "    plt.show()"
   ]
  },
  {
   "cell_type": "markdown",
   "metadata": {},
   "source": [
    "**Вывод:** Из графиков видно, что присутствуют небольшие выбросы в полях: \n",
    "- `Маркет_актив_6_мес`: менее 2;\n",
    "- `Маркет_актив_тек_мес`: 3 и 5;\n",
    "- `Акционные_покупки`: более 0.5;\n",
    "- `Неоплаченные_продукты_штук_квартал`: более 8;"
   ]
  },
  {
   "cell_type": "code",
   "execution_count": null,
   "metadata": {},
   "outputs": [],
   "source": [
    "# Признаки, которые по своей природе могут принимать любые значения в диапазоне (включая дробные)\n",
    "continuous_features = [\n",
    "    'Маркет_актив_6_мес', \n",
    "    'Длительность', \n",
    "    'Акционные_покупки'\n",
    "]\n",
    "\n",
    "# Признаки, которые являются счетчиками (целые числа)\n",
    "discrete_numerical_features = [\n",
    "    'Маркет_актив_тек_мес', \n",
    "    'Средний_просмотр_категорий_за_визит', \n",
    "    'Неоплаченные_продукты_штук_квартал', \n",
    "    'Ошибка_сервиса', \n",
    "    'Страниц_за_визит'\n",
    "]\n",
    "\n",
    "# гистограммы для непрерывных признаков\n",
    "print(\"--- Анализ распределения непрерывных признаков ---\")\n",
    "for feature in continuous_features:\n",
    "    plt.figure(figsize=(7, 5))\n",
    "    sns.histplot(market_file[feature], kde=True, bins=20)\n",
    "    plt.title(f'Гистограмма для непрерывного признака: \"{feature}\"')\n",
    "    plt.show()\n",
    "\n",
    "# Строим столбчатые диаграммы для дискретных признаков\n",
    "print(\"\\n--- Анализ распределения дискретных признаков ---\")\n",
    "for feature in discrete_numerical_features:\n",
    "    plt.figure(figsize=(7, 5))\n",
    "    sns.countplot(x=feature, data=market_file, palette='viridis')\n",
    "    plt.title(f'Столбчатая диаграмма для дискретного признака: \"{feature}\"')\n",
    "    plt.show()"
   ]
  },
  {
   "cell_type": "code",
   "execution_count": null,
   "metadata": {},
   "outputs": [],
   "source": [
    "# Список непрерывных признаков\n",
    "continuous_features = [\n",
    "    'Маркет_актив_6_мес', \n",
    "    'Длительность', \n",
    "    'Акционные_покупки'\n",
    "]\n",
    "\n",
    "print(\"--- Проверка на нормальность распределения ---\")\n",
    "\n",
    "for feature in continuous_features:\n",
    "    # Статистический тест Шапиро-Уилка\n",
    "    stat, p_value = stats.shapiro(market_file[feature])\n",
    "    \n",
    "    print(f\"\\nПризнак: '{feature}'\")\n",
    "    print(f'  Статистика теста Шапиро-Уилка = {stat:.3f}')\n",
    "    print(f'  p-value = {p_value:.3f}')\n",
    "    \n",
    "    alpha = 0.05\n",
    "    if p_value > alpha:\n",
    "        print('  Вывод: Распределение выглядит нормальным (не можем отвергнуть H0)')\n",
    "    else:\n",
    "        print('  Вывод: Распределение не является нормальным (отвергаем H0)')\n",
    "        \n",
    "    # 2. Визуальный Q-Q plot\n",
    "    plt.figure(figsize=(8, 5))\n",
    "    stats.probplot(market_file[feature], dist=\"norm\", plot=plt)\n",
    "    plt.title(f'Q-Q plot для признака \"{feature}\"')\n",
    "    plt.show()"
   ]
  },
  {
   "cell_type": "markdown",
   "metadata": {},
   "source": [
    "**Новый вывод:** \n",
    "- `Признак: 'Акционные_покупки`: Статистика теста (0.662) далека от 1, что указывает на отклонение от нормальности. Графи это подтверждает. Большое количество точек образуют горизонтальные линии. Это происходит потому, что у многих клиентов одинаковое значение доли акционных покупок (например, 0.17, 0.24 и т.д.). В нормальном распределении такое практически невозможно.\n",
    "- `Маркет_актив_6_мес`: В центральной части точки лежат довольно близко к красной линии. Однако по краям (в \"хвостах\" распределения) наблюдаются явные отклонения. Есть \"полочка\", что говорит о том, что в данных больше одинаковых низких значений, чем должно быть в нормальном распределении.\n",
    "- `Длительность`: 90% точек лежат почти идеально на красной линии. Именно поэтому гистограмма выглядела так хорошо (на удивление). Точки на обоих концах начинают изгибаться и отходить от прямой линии. Это означает, что в распределении крайние значения (очень маленькая и очень большая длительность) встречаются немного чаще, чем это должно быть в идеальном нормальном распределении."
   ]
  },
  {
   "cell_type": "markdown",
   "metadata": {},
   "source": [
    "**Вывод:** Из гистограмм, видно следующее:\n",
    "- `Маркет_актив_6_мес`: Есть несколько пиков, что может указывает на наличие нескольких групп клиентов с разной активностью. Возможно, стоит сегментировать клиентов по этому признаку.\n",
    "- `Маркет_актив_тек_мес`: Распределение дискретное, так как остались только значения 3, 4 и 5 после обработки выбросов.\n",
    "- `Длительность`: Распределение близко к нормальному, с небольшим скосом вправо.\n",
    "- `Акционные_покупки`: Распределение имеет несколько пиков, включая пик в районе 0.0. Это может указывать на наличие группы клиентов, которые не совершают акционные покупки.\n",
    "- `Средний_просмотр_категорий_за_визит`: Распределение дискретное, с пиками на значениях 2, 3 и 4.\n",
    "- `Неоплаченные_продукты_штук_квартал`: Распределение скошено вправо, с пиком на значении 0.\n",
    "- `Ошибка_сервиса`: Распределение близко к нормальному, с небольшим скосом вправо."
   ]
  },
  {
   "cell_type": "markdown",
   "metadata": {},
   "source": [
    "### Анализ таблицы `market_money`"
   ]
  },
  {
   "cell_type": "code",
   "execution_count": null,
   "metadata": {},
   "outputs": [],
   "source": [
    "market_money.describe()"
   ]
  },
  {
   "cell_type": "code",
   "execution_count": null,
   "metadata": {},
   "outputs": [],
   "source": [
    "# Построение box plots для выручки по периодам\n",
    "plt.figure(figsize=(10, 6))\n",
    "sns.boxplot(x='Период', y='Выручка', data=market_money)\n",
    "plt.title('Box plot для выручки по периодам')\n",
    "plt.show()"
   ]
  },
  {
   "cell_type": "code",
   "execution_count": null,
   "metadata": {},
   "outputs": [],
   "source": [
    "outlier_client_id = market_money.nlargest(1, 'Выручка')['id'].iloc[0]\n",
    "print(f\"Идентифицирован клиент для удаления (выброс по выручке): ID {outlier_client_id}\")\n",
    "\n",
    "indices_to_drop = market_file[market_file['id'] == outlier_client_id].index\n",
    "\n",
    "print(f\"\\nРазмер market_file до удаления: {market_file.shape}\")\n",
    "\n",
    "market_file.drop(indices_to_drop, inplace=True)\n",
    "\n",
    "print(f\"Размер market_file после удаления: {market_file.shape}\")"
   ]
  },
  {
   "cell_type": "markdown",
   "metadata": {},
   "source": [
    "**Вывод:** \n",
    "- Средняя выручка составляет 5025.7.\n",
    "- Медиана 4957.50, что говорит о нормальном распределении.\n",
    "- Стандартное отклонение в 1777.70, что говорит о том, что выручка клиентов варьируется.\n",
    "- Присутствую выбросы."
   ]
  },
  {
   "cell_type": "code",
   "execution_count": null,
   "metadata": {
    "scrolled": true
   },
   "outputs": [],
   "source": [
    "periods = market_money['Период'].unique()\n",
    "for period in periods:\n",
    "    plt.figure(figsize=(10, 6))\n",
    "    sns.histplot(market_money[market_money['Период'] == period]['Выручка'], kde=True)\n",
    "    plt.title(f'Гистограмма для выручки в период \"{period}\" после фильтрации')\n",
    "    plt.show()"
   ]
  },
  {
   "cell_type": "markdown",
   "metadata": {},
   "source": [
    "**Вывод:** \n",
    "- Все три гистограммы демонстрируют форму, похожую на нормальное распределение. Пик в центре и симметричное убывание по краям. \n",
    "- `предыдущий_месяц`: Распределение выручки в этот период имеет пик примерно в районе 5200-5300. Диапазон значений достаточно широкий, что говорит о заметном разбросе в выручке клиентов в этот период.\n",
    "- `препредыдущий_месяц`: Распределение выручки в этот период имеет более узкий диапазон значений и пик в районе 4800-4900. Это может говорить о более стабильной выручке в этот период по сравнению с `предыдущим_месяцем`.\n",
    "- `текущий_месяц`: Распределение выручки в этот период имеет пик примерно в районе 5000-5100. Визуально заметно, что распределение имеет более широкий разброс значений, чем `препредыдущий_месяц`, но более узкий, чем `предыдущий_месяц`."
   ]
  },
  {
   "cell_type": "markdown",
   "metadata": {},
   "source": [
    "### Анализт таблицы `market_time`"
   ]
  },
  {
   "cell_type": "code",
   "execution_count": null,
   "metadata": {},
   "outputs": [],
   "source": [
    "print(market_time.describe())\n",
    "\n",
    "plt.figure(figsize=(10, 6))\n",
    "sns.boxplot(x='Период', y='минут', data=market_time)\n",
    "plt.title('Box plot для минут по периодам')\n",
    "plt.show()"
   ]
  },
  {
   "cell_type": "markdown",
   "metadata": {},
   "source": [
    "**Вывод:** \n",
    "- Медиана времени, проведенного на сайте, немного выше в `предыдущий_месяц`, чем в `текущий_месяц`;\n",
    "- На box plot не видно явных выбросов, что говорит о том, что в данных нет аномально высоких или низких значений времени, проведенного на сайте.\n",
    "- Разброс значений времени, проведенного на сайте, в основном одинаков для обоих периодов."
   ]
  },
  {
   "cell_type": "code",
   "execution_count": null,
   "metadata": {},
   "outputs": [],
   "source": [
    "# Определяем диапазон и количество уникальных значений для корректного числа корзин\n",
    "min_val = market_time['минут'].min()\n",
    "max_val = market_time['минут'].max()\n",
    "\n",
    "# Количество корзин равно количеству целых чисел в диапазоне\n",
    "num_bins = max_val - min_val + 1\n",
    "\n",
    "plt.figure(figsize=(12, 8))\n",
    "\n",
    "sns.histplot(\n",
    "    data=market_time, \n",
    "    x='минут', \n",
    "    hue='Период', \n",
    "    kde=True, \n",
    "    bins=num_bins,  \n",
    "    element=\"step\",  \n",
    "    lw=2             \n",
    ")\n",
    "\n",
    "plt.title('Гистограмма времени, проведенного на сайте, по периодам', fontsize=16)\n",
    "plt.xlabel('Время, проведенное на сайте (минуты)', fontsize=12)\n",
    "plt.ylabel('Количество пользователей', fontsize=12)\n",
    "plt.xticks(range(min_val, max_val + 1, 2)) \n",
    "plt.legend(title='Период', labels=['текущий_месяц', 'предыдущий_месяц'])\n",
    "plt.grid(axis='y', linestyle='--', alpha=0.7)\n",
    "plt.show()"
   ]
  },
  {
   "cell_type": "markdown",
   "metadata": {},
   "source": [
    "**Новый вывод:** Имеется четкое смещение пика. В предыдущем месяце пик активности приходился на `14 минут`. В текущем месяце пик сместился вправо и находится в районе `12-13 минут`."
   ]
  },
  {
   "cell_type": "markdown",
   "metadata": {},
   "source": [
    "**Вывод:** \n",
    "- Обе гистограммы близки к нормальному распределению. Пик в диапазоне 11-15.\n",
    "- Гистограмма для `предыдущий_месяц` в целом выше, чем гистограмма для `текущий_месяц`. Это говорит о том, что в `предыдущий_месяц` больше пользователей проводили время на сайте в каждом диапазоне времени."
   ]
  },
  {
   "cell_type": "markdown",
   "metadata": {},
   "source": [
    "### Анализ таблицы `money`"
   ]
  },
  {
   "cell_type": "code",
   "execution_count": null,
   "metadata": {},
   "outputs": [],
   "source": [
    "print(money.describe())\n",
    "\n",
    "plt.figure(figsize=(8, 6))  \n",
    "sns.boxplot(y=money['Прибыль'])  \n",
    "plt.title('Box Plot для Прибыли')  \n",
    "plt.ylabel('Прибыль')  \n",
    "plt.show() "
   ]
  },
  {
   "cell_type": "markdown",
   "metadata": {},
   "source": [
    "**Вывод:** \n",
    "- Средняя прибыль, получаемая от одного покупателя, составляет 3.996631 (около 4).\n",
    "- Медиана (50%) составляет 4.045. Это говорит о том, что распределение прибыли близко к нормальному.\n",
    "- Стандартное отклонение составляет 1.01. Это говорит о том, что прибыль варьируется между покупателями.\n",
    "- Имеются небольшие выбросы."
   ]
  },
  {
   "cell_type": "code",
   "execution_count": null,
   "metadata": {},
   "outputs": [],
   "source": [
    "plt.figure(figsize=(8, 6))  \n",
    "sns.boxplot(y=money['Прибыль'])  \n",
    "plt.title('Box Plot для Прибыли')  \n",
    "plt.ylabel('Прибыль')  \n",
    "plt.show() \n",
    "\n",
    "money = money[(money['Прибыль'] <= 6.7) & (money['Прибыль'] >= 1.2)]"
   ]
  },
  {
   "cell_type": "code",
   "execution_count": null,
   "metadata": {},
   "outputs": [],
   "source": [
    "plt.figure(figsize=(10, 6))  \n",
    "sns.histplot(money['Прибыль'], kde=True)  \n",
    "plt.title('Гистограмма распределения прибыли')  \n",
    "plt.xlabel('Прибыль')  \n",
    "plt.ylabel('Количество')  \n",
    "plt.show()"
   ]
  },
  {
   "cell_type": "markdown",
   "metadata": {},
   "source": [
    "**Вывод:**\n",
    "- Гистограмма показывает распределение, близкое к нормальному, с пиком в диапазоне от 4 до 4.5.\n",
    "- Распределение выглядит достаточно симметричным, что говорит о том, что средняя прибыль близка к медиане.\n",
    "- Наибольшее количество покупателей приносит прибыль в диапазоне от 4 до 4.5.\n",
    "- Прибыль варьируется от примерно 1 до 6.5, но основная часть покупателей приносит прибыль в диапазоне от 3 до 5."
   ]
  },
  {
   "cell_type": "markdown",
   "metadata": {},
   "source": [
    "### Отбор клиентов с покупательской активностью"
   ]
  },
  {
   "cell_type": "code",
   "execution_count": null,
   "metadata": {},
   "outputs": [],
   "source": [
    "# Считаем количество месяцев с ненулевой выручкой для каждого клиента\n",
    "active_months = market_money.groupby('id')['Выручка'].apply(lambda x: (x > 0).sum())\n",
    "\n",
    "# Фильтруем клиентов, у которых было как минимум 3 месяца с ненулевой выручкой\n",
    "active_clients = active_months[active_months >= 3].index\n",
    "\n",
    "# Создаем новый DataFrame, содержащий только активных клиентов\n",
    "active_market_money = market_money[market_money['id'].isin(active_clients)]\n",
    "\n",
    "print(f\"Всего клиентов: {market_money['id'].nunique()}\")\n",
    "print(f\"Активных клиентов (покупали как минимум 3 месяца): {len(active_clients)}\")\n",
    "print(f\"Размер DataFrame с активными клиентами: {active_market_money.shape}\")\n",
    "\n",
    "print(\"\\nОписательная статистика для активных клиентов:\")\n",
    "print(active_market_money.describe())"
   ]
  },
  {
   "cell_type": "markdown",
   "metadata": {},
   "source": [
    "**Вывод:** \n",
    "- Медиана составляет 4962, что говорит о нормальном распределении.\n",
    "- Стандартное отклонение составляет 641.48. Это говорит о том, что выручка клиентов варьируется, но в целом разброс не очень большой.\n",
    "- Выручка клиентов варьируется, но в целом разброс не очень большой. Это говорит о том, что нет значительных различий в прибыльности разных клиентов."
   ]
  },
  {
   "cell_type": "markdown",
   "metadata": {},
   "source": [
    "## Объединение таблиц"
   ]
  },
  {
   "cell_type": "code",
   "execution_count": null,
   "metadata": {},
   "outputs": [],
   "source": [
    "market_money = active_market_money.copy()\n",
    "market_time = market_time.copy()\n",
    "\n",
    "market_money['Период'] = market_money['Период'].astype(str)\n",
    "market_time['Период'] = market_time['Период'].astype(str)\n",
    "\n",
    "market_money_pivot = market_money.pivot(index='id', columns='Период', values='Выручка')\n",
    "market_money_pivot.columns = [f'Выручка_{col}' for col in market_money_pivot.columns]\n",
    "market_money_pivot = market_money_pivot.reset_index()\n",
    "\n",
    "market_time_pivot = market_time.pivot(index='id', columns='Период', values='минут')\n",
    "market_time_pivot.columns = [f'Минут_{col}' for col in market_time_pivot.columns]\n",
    "market_time_pivot = market_time_pivot.reset_index()\n",
    "\n",
    "full_df = market_file.merge(\n",
    "    market_money_pivot, on='id', how='left'\n",
    ").merge(\n",
    "    market_time_pivot, on='id', how='left'\n",
    ")\n",
    "\n",
    "print(full_df.info())\n",
    "\n",
    "print(full_df.isna().sum())"
   ]
  },
  {
   "cell_type": "code",
   "execution_count": null,
   "metadata": {},
   "outputs": [],
   "source": [
    "full_df.head()"
   ]
  },
  {
   "cell_type": "markdown",
   "metadata": {},
   "source": [
    "**Вывод:** После удаления выбросов во всех таблицах, часть клиентов была удалена. При объединении по id остаются только те строки, что есть в левой таблице(market_file), а в остальных может не быть. Следовательно по этой причине появились пропуски после объединения. Поэтому требуется удалить пропуски."
   ]
  },
  {
   "cell_type": "code",
   "execution_count": null,
   "metadata": {},
   "outputs": [],
   "source": [
    "full_df_clean = full_df.dropna()\n",
    "print('Осталось клиентов:', len(full_df_clean))\n",
    "print(f'Кол-во пропусков после удаления: {full_df_clean.isna().sum()}')"
   ]
  },
  {
   "cell_type": "code",
   "execution_count": null,
   "metadata": {},
   "outputs": [],
   "source": [
    "full_df_clean.head(5)"
   ]
  },
  {
   "cell_type": "markdown",
   "metadata": {},
   "source": [
    "**Вывод по разделу:** В данном разделе были объединены все подготовленные и очищенные таблицы в единый датафрейм по идентификатору клиента (id). Для этого:\n",
    "- Все таблицы были объединены по ключу id с помощью последовательного объединения (merge);\n",
    "- После объединения был проведён анализ на наличие пропусков, которые возникли из-за предварительного удаления выбросов в отдельных таблицах.\n",
    "- Получен финальный датафрейм, в котором каждая строка соответствует одному клиенту, а все числовые и категориальные признаки собраны в едином формате для дальнейшего анализа и построения моделей."
   ]
  },
  {
   "cell_type": "markdown",
   "metadata": {},
   "source": [
    "## Корреляционный анализ"
   ]
  },
  {
   "cell_type": "markdown",
   "metadata": {},
   "source": [
    "**Пометка:**\n",
    "Исходя из моего основного датафрейма `full_df_clean` количественными(числовыми) полями являются:\n",
    "- `Маркет_актив_6_мес`;\n",
    "- `Маркет_актив_тек_мес`;\n",
    "- `Длительность`;\n",
    "- `Акционные_покупки`;\n",
    "- `Средний_просмотр_категорий_за_визит`;\n",
    "- `Неоплаченные_продукты_штук_квартал`;\n",
    "- `Ошибка_сервиса`;\n",
    "- `Страниц_за_визит`;\n",
    "- `Выручка_предыдущий_месяц`;\n",
    "- `Выручка_препредыдущий_месяц`;\n",
    "- `Выручка_текущий_месяц`;\n",
    "- `Минут_предыдущий_месяц`;\n",
    "- `Минут_текущий_месяц`;"
   ]
  },
  {
   "cell_type": "code",
   "execution_count": null,
   "metadata": {},
   "outputs": [],
   "source": [
    "# Список количественных признаков\n",
    "numeric_features = [\n",
    "    'Маркет_актив_6_мес',\n",
    "    'Маркет_актив_тек_мес',\n",
    "    'Длительность',\n",
    "    'Акционные_покупки',\n",
    "    'Средний_просмотр_категорий_за_визит',\n",
    "    'Неоплаченные_продукты_штук_квартал',\n",
    "    'Ошибка_сервиса',\n",
    "    'Страниц_за_визит',\n",
    "    'Выручка_предыдущий_месяц',\n",
    "    'Выручка_препредыдущий_месяц',\n",
    "    'Выручка_текущий_месяц',\n",
    "    'Минут_предыдущий_месяц',\n",
    "    'Минут_текущий_месяц'\n",
    "]\n",
    "\n",
    "# Список категориальных признаков\n",
    "cat_features = [\n",
    "    'Покупательская активность',\n",
    "    'Тип сервиса',\n",
    "    'Разрешить сообщать',\n",
    "    'Популярная_категория'\n",
    "]\n",
    "\n",
    "corr_matrix = full_df_clean[numeric_features].corr(method='spearman')\n",
    "\n",
    "plt.figure(figsize=(9, 7))\n",
    "sns.heatmap(corr_matrix, annot=True, fmt=\".2f\", cmap='coolwarm', vmin=-1, vmax=1)\n",
    "plt.title('Корреляционная матрица количественных признаков')\n",
    "plt.show()"
   ]
  },
  {
   "cell_type": "markdown",
   "metadata": {},
   "source": [
    "**Вывод:** \n",
    "- `Выручка_текущий_месяц` и `Выручка_предыдущий_месяц` (+0.81): Очень сильная корреляция. Доход от клиента в текущем месяце сильно зависит от его дохода в предыдущем. Клиенты с высокой покупательской способностью в одном месяце, скорее всего, останутся такими же и в следующем.\n",
    "- Умеренная корреляция (0.3 - 0.7): \n",
    "    * `Страниц_за_визит` и `Минут_предыдущий_месяц` (+0.37): Пользователи, которые проводили больше времени на сайте в прошлом месяце, склонны просматривать больше страниц за один визит в текущем. Это может говорить об их общей вовлеченности.\n",
    "    * `Выручка_препредыдущий_месяц` и `Выручка_предыдущий_месяц` (+0.31): Выручка за предыдущие два месяца также связана, но значительно слабее, чем за соседние месяцы. Логично, что чем дальше в прошлое, тем слабее связь.\n",
    "    * `Минут_предыдущий_месяц` и `Выручка_препредыдущий_месяц` (+0.31): Время, проведенное на сайте, умеренно связано с доходом, который клиент принес два месяца назад.\n",
    "    * `Минут_текущий_месяц` и `Минут_предыдущий_месяц` (+0.30): Время, которое пользователь проводит на сайте, достаточно стабильно из месяца в месяц.\n",
    "    \n",
    "    В данных присутствует один очень сильный случай коллинеарности между выручкой текущего и предыдущего месяцев (+0.81). Этот факт необходимо учитывать при построении моделей."
   ]
  },
  {
   "cell_type": "code",
   "execution_count": null,
   "metadata": {},
   "outputs": [],
   "source": [
    "# Построение диаграммы рассеяния\n",
    "plt.figure(figsize=(10, 7))\n",
    "sns.scatterplot(data=full_df_clean, x='Выручка_предыдущий_месяц', y='Выручка_текущий_месяц', alpha=0.6)\n",
    "plt.title('Визуализация мультиколлинеарности', fontsize=16)\n",
    "plt.xlabel('Выручка за предыдущий месяц', fontsize=12)\n",
    "plt.ylabel('Выручка за текущий месяц', fontsize=12)\n",
    "plt.grid(True)\n",
    "plt.show()"
   ]
  },
  {
   "cell_type": "markdown",
   "metadata": {},
   "source": [
    "**Варинты устранения мультиколлинеарности:** Просто удалить лишний столбец - не лучший вриант, поскольку потеряем часть информации. Нужно создать новые признаки, которые будут нести смысл, но не коррелировать друг с другом. \n",
    "- `Средняя_выручка_2_мес`: Этот признак покажет общий уровень платежеспособности клиента за последнее время. Он более стабилен, чем выручка за один конкретный месяц.\n",
    "- `Динамика_выручки`: Этот признак напрямую покажет, выросла выручка или упала."
   ]
  },
  {
   "cell_type": "code",
   "execution_count": null,
   "metadata": {},
   "outputs": [],
   "source": [
    "# Создаем новые признаки\n",
    "full_df_clean['Средняя_выручка_2_мес'] = (full_df_clean['Выручка_текущий_месяц'] + full_df_clean['Выручка_предыдущий_месяц']) / 2\n",
    "full_df_clean['Динамика_выручки'] = full_df_clean['Выручка_текущий_месяц'] - full_df_clean['Выручка_предыдущий_месяц']\n",
    "\n",
    "# Удаляем старые, коррелирующие признаки\n",
    "full_df_fixed = full_df_clean.drop(['Выручка_текущий_месяц', 'Выручка_предыдущий_месяц'], axis=1)\n",
    "\n",
    "# Обновляем список числовых признаков для дальнейшего использования в пайплайнах\n",
    "numeric_features.remove('Выручка_текущий_месяц')\n",
    "numeric_features.remove('Выручка_предыдущий_месяц')\n",
    "\n",
    "numeric_features.append('Средняя_выручка_2_мес')\n",
    "numeric_features.append('Динамика_выручки')\n",
    "\n",
    "\n",
    "print(\"Созданы новые признаки: 'Средняя_выручка_2_мес' и 'Динамика_выручки'.\")\n",
    "print(\"Старые признаки 'Выручка_текущий_месяц' и 'Выручка_предыдущий_месяц' удалены.\")\n",
    "print(\"\\nНовый список числовых признаков:\")\n",
    "print(numeric_features)\n",
    "\n",
    "# Посмотрим на первые строки обновленного датафрейма\n",
    "print(\"\\nПервые 5 строк с новыми признаками:\")\n",
    "print(full_df_fixed[['id', 'Средняя_выручка_2_мес', 'Динамика_выручки']].head())"
   ]
  },
  {
   "cell_type": "code",
   "execution_count": null,
   "metadata": {},
   "outputs": [],
   "source": [
    "full_df_fixed.info()"
   ]
  },
  {
   "cell_type": "code",
   "execution_count": null,
   "metadata": {},
   "outputs": [],
   "source": [
    "# Рассчитываем новую матрицу корреляций\n",
    "corr_matrix_fixed = full_df_fixed[numeric_features].corr(method='spearman')\n",
    "\n",
    "# Визуализируем новую матрицу\n",
    "plt.figure(figsize=(9, 7))\n",
    "sns.heatmap(corr_matrix_fixed, annot=True, fmt='.2f', cmap='coolwarm', center=0)\n",
    "plt.title('Проверка корреляции после устранения мультиколлинеарности', fontsize=16)\n",
    "plt.show()"
   ]
  },
  {
   "cell_type": "markdown",
   "metadata": {},
   "source": [
    "**Вывод:** Была проделана работа по устранению мультиколлинеарности. Что было сделано:\n",
    "- В исходной матрице была обнаружена очень сильная положительная корреляция (+0.81) между признаками `Выручка_текущий_месяц` и `Выручка_предыдущий_месяц`. Это могло бы навредить моделяем, например, LogisticRegression.\n",
    "- Вместо простого удаления одного из признаков (что привело бы к потере информации), была выбрана другая стратегия — создание новых признаков (Feature Engineering).\n",
    "- Были созданы два новых, экономически осмысленных признака:\n",
    "    * `Средняя_выручка_2_мес`: Характеризует общий уровень трат клиента за последние два месяца, сглаживая разовые всплески.\n",
    "    * `Динамика_выручки`: Напрямую измеряет изменение трат от прошлого месяца к текущему. Этот признак очень важен, так как он по своей сути близок к целевой переменной (снижение активности)."
   ]
  },
  {
   "cell_type": "markdown",
   "metadata": {},
   "source": [
    "### Динамика выручки vs. Средняя выручка"
   ]
  },
  {
   "cell_type": "code",
   "execution_count": null,
   "metadata": {},
   "outputs": [],
   "source": [
    "plt.figure(figsize=(12, 8))\n",
    "\n",
    "sns.scatterplot(\n",
    "    data=full_df_fixed,\n",
    "    x='Средняя_выручка_2_мес',\n",
    "    y='Динамика_выручки',\n",
    "    hue='Покупательская активность',\n",
    "    palette='coolwarm',\n",
    "    alpha=0.7\n",
    ")\n",
    "\n",
    "plt.axhline(0, color='black', linestyle='--', label='Нулевая динамика')\n",
    "\n",
    "plt.title('Динамика выручки в зависимости от среднего чека', fontsize=16)\n",
    "plt.xlabel('Средняя выручка за 2 месяца', fontsize=12)\n",
    "plt.ylabel('Динамика выручки (рост/падение)', fontsize=12)\n",
    "plt.legend()\n",
    "plt.grid(True)\n",
    "plt.show()"
   ]
  },
  {
   "cell_type": "markdown",
   "metadata": {},
   "source": [
    "**Вывод:** Признак `Динамика_выручки` является предсказателем для целевой переменной `Покупательская активность`.\n",
    "\n",
    "- Синие точки ниже нулевой линии: Это клиенты, у которых выручка упала, но они не попали в категорию \"Снизилась\". Возможно, целевая переменная `Покупательская активность` учитывает не только выручку, но и другие факторы (частоту покупок, время на сайте). \n",
    "\n",
    "- Оранжевые точки выше нулевой линии: Клиенты, у которых выручка выросла, но они все равно попали в категорию \"Снизилась\". Таких точек очень мало, но они есть. Это может быть связано с теми же причинами или быть артефактом данных."
   ]
  },
  {
   "cell_type": "code",
   "execution_count": null,
   "metadata": {},
   "outputs": [],
   "source": [
    "plt.figure(figsize=(12, 8))\n",
    "\n",
    "sns.scatterplot(\n",
    "    data=full_df_fixed,\n",
    "    x='Акционные_покупки',\n",
    "    y='Динамика_выручки',\n",
    "    hue='Покупательская активность',\n",
    "    palette='viridis',\n",
    "    alpha=0.7\n",
    ")\n",
    "\n",
    "plt.axhline(0, color='black', linestyle='--')\n",
    "\n",
    "plt.title('Динамика выручки в зависимости от доли акционных покупок', fontsize=16)\n",
    "plt.xlabel('Доля акционных покупок', fontsize=12)\n",
    "plt.ylabel('Динамика выручки (рост/падение)', fontsize=12)\n",
    "plt.legend()\n",
    "plt.grid(True)\n",
    "plt.show()"
   ]
  },
  {
   "cell_type": "markdown",
   "metadata": {},
   "source": [
    "**Вывод:** Нет явной тенденции, что с ростом доли акционных покупок динамика выручки систематически падает или растет. Это означает, что клиент, покупающий много по акции, может как увеличить, так и уменьшить свой общий чек.\n",
    "\n",
    "- Слева (доля акций < 0.20): Синие точки (Прежний уровень) явно доминируют. Это означает, что клиенты, которые мало покупают по акциям, в основном стабильны или наращивают активность.\n",
    "\n",
    "- Справа (доля акций > 0.25): Пропорция зеленых точек (Снизилась) заметно увеличивается. В вертикальных \"столбцах\" точек на отметках 0.30, 0.35, 0.40 зеленых точек становится гораздо больше.\n",
    "\n",
    "Чем выше у клиента доля покупок по скидкам, тем выше вероятность, что он попадет в категорию со сниженной активностью."
   ]
  },
  {
   "cell_type": "code",
   "execution_count": null,
   "metadata": {},
   "outputs": [],
   "source": [
    "plt.figure(figsize=(8, 6))\n",
    "\n",
    "sns.boxplot(\n",
    "    data=full_df_fixed,\n",
    "    x='Покупательская активность',\n",
    "    y='Динамика_выручки'\n",
    ")\n",
    "\n",
    "plt.axhline(0, color='red', linestyle='--')\n",
    "\n",
    "plt.title('Распределение динамики выручки по покупательской активности', fontsize=16)\n",
    "plt.xlabel('Покупательская активность', fontsize=12)\n",
    "plt.ylabel('Динамика выручки', fontsize=12)\n",
    "plt.grid(True)\n",
    "plt.show()"
   ]
  },
  {
   "cell_type": "markdown",
   "metadata": {},
   "source": [
    "**Вывод:** Медианная динамика выручки для группы \"Снизилась\" выше, чем для группы \"Прежний уровень\", является самым важным аспектом. Бизнес определяет снижение активности не только по падению выручки, но и, вероятно, по снижению частоты покупок, количества товаров или частоты визитов.\n",
    "\n",
    "Присутствует один клиент в группе \"Снизилась\", чья выручка упала аномально сильно (около -2600)."
   ]
  },
  {
   "cell_type": "code",
   "execution_count": null,
   "metadata": {},
   "outputs": [],
   "source": [
    "print(f\"Строк до удаления: {full_df_fixed.shape[0]}\")\n",
    "\n",
    "full_df_fixed = full_df_fixed[full_df_fixed['Динамика_выручки'] > -2500]\n",
    "\n",
    "print(f\"Строк после удаления: {full_df_fixed.shape[0]}\")"
   ]
  },
  {
   "cell_type": "markdown",
   "metadata": {},
   "source": [
    "**Вывод по разделу:**\n",
    "- Решена проблема мультиколлинеарности: выявлена и устранена сильная корреляция между признаками выручки, применив метод Feature Engineering.\n",
    "- Сформулированы ключевые гипотезы: Визуализация данных позволила выявить четкие поведенческие паттерны:\n",
    "    * Динамика_выручки является мощным, хотя и не единственным, фактором, влияющим на снижение активности.\n",
    "    * Акционные_покупки являются маркером для сегмента \"любители скидок\", которые представляют собой группу повышенного риска.\n",
    "- `Покупательская активность` является комплексным бизнес-показателем, зависящим от множества факторов.\n",
    "- Данные очищены и готовы к дальнейшей работе"
   ]
  },
  {
   "cell_type": "markdown",
   "metadata": {},
   "source": [
    "## Обучение и выбор наилучшей модели"
   ]
  },
  {
   "cell_type": "code",
   "execution_count": null,
   "metadata": {},
   "outputs": [],
   "source": [
    "# Определяем признаки (X) и целевую переменную (y)\n",
    "X = full_df_fixed.drop(['id', 'Покупательская активность'], axis=1)\n",
    "y = full_df_fixed['Покупательская активность']\n",
    "\n",
    "# Кодируем целевую переменную: 'Снизилась' -> 1, 'Прежний уровень' -> 0\n",
    "le = LabelEncoder()\n",
    "y_encoded = le.fit_transform(y)\n",
    "print(\"Классы целевой переменной:\", le.classes_)\n",
    "\n",
    "# Определяем типы признаков\n",
    "numeric_features = X.select_dtypes(include=['int64', 'float64']).columns\n",
    "categorical_features = X.select_dtypes(include=['category']).columns\n",
    "\n",
    "print(f\"\\nКоличественные признаки ({len(numeric_features)}): {list(numeric_features)}\")\n",
    "print(f\"Категориальные признаки ({len(categorical_features)}): {list(categorical_features)}\")\n",
    "\n",
    "X_train, X_test, y_train, y_test = train_test_split(\n",
    "    X, y_encoded, test_size=0.25, random_state=RANDOM_STATE, stratify=y_encoded\n",
    ")\n",
    "\n",
    "print(f\"\\nРазмер обучающей выборки: {X_train.shape}\")\n",
    "print(f\"Размер тестовой выборки: {X_test.shape}\")"
   ]
  },
  {
   "cell_type": "markdown",
   "metadata": {},
   "source": [
    "### Выбор метрики"
   ]
  },
  {
   "cell_type": "markdown",
   "metadata": {},
   "source": [
    "**Пометка:** Нужно предсказать снижение покупательской активности. \n",
    "- `False Negative`:  Самая дорогая ошибка. Модель предсказывает, что клиент останется (Прежний уровень), а он на самом деле уходит (Снизилась). Бизнес теряет клиента, даже не попытавшись его удержать.\n",
    "- `False Positive`: Модель предсказывает, что клиент уйдет, а он остается. Бизнес тратит ресурсы (скидки, звонки) на лояльного клиента. Это затратно, но менее критично, чем потеря клиента.\n",
    "\n",
    "Поскольку важнее всего найти как можно больше уходящих клиентов (минимизировать FN), важна метрика `Recall`. Однако, если мы будем фокусироваться только на ней, модель может начать предсказывать отток для всех подряд, что приведет к низкой `Precision` (много ложных срабатываний).\n",
    "\n",
    "**Стоит выбрать F1**. Поскольку является балансом между Precision и Recall. В дальнейшем будет использовано f1_score для подбора гиперпараметров."
   ]
  },
  {
   "cell_type": "markdown",
   "metadata": {},
   "source": [
    "### Создание пайплайнов предобработки"
   ]
  },
  {
   "cell_type": "code",
   "execution_count": null,
   "metadata": {},
   "outputs": [],
   "source": [
    "ordinal_features = [\n",
    "    'Тип сервиса',\n",
    "    'Разрешить сообщать'\n",
    "]\n",
    "\n",
    "nominal_features = [\n",
    "    'Популярная_категория'\n",
    "]\n",
    "\n",
    "\n",
    "categories_order = [\n",
    "    ['стандарт', 'премиум'],           \n",
    "    ['нет', 'да']                      \n",
    "]\n",
    "\n",
    "\n",
    "preprocessor_std_ohe = ColumnTransformer(\n",
    "    transformers=[\n",
    "        ('num', StandardScaler(), numeric_features),\n",
    "        \n",
    "        ('cat', OneHotEncoder(handle_unknown='ignore', sparse=False), nominal_features) \n",
    "    ],\n",
    "    remainder='passthrough'\n",
    ")\n",
    "\n",
    "\n",
    "preprocessor_mm_ord = ColumnTransformer(\n",
    "    transformers=[\n",
    "        ('num', MinMaxScaler(), numeric_features),\n",
    "        ('ord', OrdinalEncoder(\n",
    "            categories=categories_order,\n",
    "            handle_unknown='use_encoded_value',\n",
    "            unknown_value=-1\n",
    "        ), ordinal_features),\n",
    "        ('ohe', OneHotEncoder(\n",
    "            handle_unknown='ignore', \n",
    "            sparse=False \n",
    "        ), nominal_features)\n",
    "    ],\n",
    "    remainder='passthrough'\n",
    ")"
   ]
  },
  {
   "cell_type": "markdown",
   "metadata": {},
   "source": [
    "### Обучение моделей и выбор лучшей"
   ]
  },
  {
   "cell_type": "code",
   "execution_count": null,
   "metadata": {},
   "outputs": [],
   "source": [
    "results = {}\n",
    "\n",
    "pipelines_to_tune = {\n",
    "    'LogisticRegression': (\n",
    "        Pipeline([\n",
    "            ('preprocessor', preprocessor_std_ohe),\n",
    "            ('model', LogisticRegression(random_state=RANDOM_STATE, solver='liblinear'))\n",
    "        ]),\n",
    "        {'preprocessor': [preprocessor_std_ohe, preprocessor_mm_ord], 'model__C': [0.1, 1.0, 10.0]}\n",
    "    ),\n",
    "    'DecisionTree': (\n",
    "        Pipeline([\n",
    "            ('preprocessor', preprocessor_std_ohe),\n",
    "            ('model', DecisionTreeClassifier(random_state=RANDOM_STATE))\n",
    "        ]),\n",
    "        {'preprocessor': [preprocessor_std_ohe, preprocessor_mm_ord], 'model__max_depth': [3, 5, 7, 10]}\n",
    "    ),\n",
    "    'KNeighbors': (\n",
    "        Pipeline([\n",
    "            ('preprocessor', preprocessor_std_ohe),\n",
    "            ('model', KNeighborsClassifier())\n",
    "        ]),\n",
    "        {'preprocessor': [preprocessor_std_ohe, preprocessor_mm_ord], 'model__n_neighbors': [3, 5, 7, 9]}\n",
    "    ),\n",
    "    'SVC': (\n",
    "        Pipeline([\n",
    "        ('preprocessor', preprocessor_std_ohe),\n",
    "        ('model', SVC(random_state=RANDOM_STATE, probability=True))\n",
    "    ]),\n",
    "    [\n",
    "        {\n",
    "            'preprocessor': [preprocessor_std_ohe, preprocessor_mm_ord],\n",
    "            'model__kernel': ['linear'],\n",
    "            'model__C': [0.1, 1.0, 10.0, 100.0],\n",
    "            'model__class_weight': [None, 'balanced']\n",
    "        },\n",
    "        {\n",
    "            'preprocessor': [preprocessor_std_ohe, preprocessor_mm_ord],\n",
    "            'model__kernel': ['rbf'],\n",
    "            'model__C': [0.1, 1.0, 10.0, 100.0],\n",
    "            'model__gamma': ['scale', 'auto', 0.01, 0.1, 1.0],\n",
    "            'model__class_weight': [None, 'balanced']\n",
    "        }\n",
    "    ]\n",
    "    )\n",
    "}\n",
    "\n",
    "for model_name, (pipe, params) in pipelines_to_tune.items():\n",
    "    print(f\"\\nПодбор параметров для: {model_name}\")\n",
    "    grid = GridSearchCV(pipe, params, cv=5, scoring='f1', n_jobs=-1)\n",
    "    grid.fit(X_train, y_train)\n",
    "    results[model_name] = {\n",
    "        'best_score': grid.best_score_,\n",
    "        'best_params': grid.best_params_\n",
    "    }\n",
    "\n",
    "print(\"\\n--- Итоговые результаты ---\")\n",
    "for model_name, result in results.items():\n",
    "    print(f\"\\nМодель: {model_name}\")\n",
    "    print(f\"  Лучший F1-score (CV): {result['best_score']:.4f}\")\n",
    "    for param, value in result['best_params'].items():\n",
    "        if param == 'preprocessor':\n",
    "            print(f\"  - {param}: {type(value).__name__}\")\n",
    "        else:\n",
    "            print(f\"  - {param}: {value}\")\n",
    "\n",
    "# Лучшая модель по F1-score\n",
    "best_model_name = max(results, key=lambda k: results[k]['best_score'])\n",
    "print(f\"\\n--- Лучшая модель по F1-score: {best_model_name} ---\")\n"
   ]
  },
  {
   "cell_type": "markdown",
   "metadata": {},
   "source": [
    "### Финальная оценка лучшей модели"
   ]
  },
  {
   "cell_type": "code",
   "execution_count": null,
   "metadata": {},
   "outputs": [],
   "source": [
    "grid_searches = {}\n",
    "results = {}\n",
    "\n",
    "for model_name, (pipe, params) in pipelines_to_tune.items():\n",
    "    grid = GridSearchCV(pipe, params, cv=5, scoring='f1', n_jobs=-1)\n",
    "    grid.fit(X_train, y_train)\n",
    "    results[model_name] = {\n",
    "        'best_score': grid.best_score_,\n",
    "        'best_params': grid.best_params_\n",
    "    }\n",
    "    grid_searches[model_name] = grid\n",
    "\n",
    "# Выбираем лучшую модель\n",
    "best_model_name = max(results, key=lambda k: results[k]['best_score'])\n",
    "best_grid_search_object = grid_searches[best_model_name]\n",
    "best_pipeline = best_grid_search_object.best_estimator_\n",
    "\n",
    "y_pred = best_pipeline.predict(X_test)\n",
    "\n",
    "print(\"\\n--- Отчет по классификации для лучшей модели на тестовых данных ---\")\n",
    "# Если y_test - строки, можно просто:\n",
    "print(classification_report(y_test, y_pred))\n",
    "\n",
    "if hasattr(best_pipeline, \"predict_proba\"):\n",
    "    y_pred_proba = best_pipeline.predict_proba(X_test)[:, 1]\n",
    "    print(f\"ROC-AUC на тестовых данных: {roc_auc_score(y_test, y_pred_proba):.4f}\")\n",
    "else:\n",
    "    print(\"У выбранной модели нет метода predict_proba, ROC-AUC не рассчитывается.\")\n"
   ]
  },
  {
   "cell_type": "markdown",
   "metadata": {},
   "source": [
    "**Итоговые выводы:** Была успешно решена задача построения, сравнения и выбора лучшей модели для прогнозирования снижения покупательской активности. \n",
    "- Победитель: `SVC` показала наилучший результат с F1-score=0.8039. Это говорит о том, что ее способность находить баланс между точностью (Precision) и полнотой (Recall) оказалась самой высокой среди протестированных моделей.\n",
    "- Модель `KNeighborsClassifier` имеет похожие результаты: F1-score: 0.7865, что делает эту модель неплохим альтернативным вариантом.\n",
    "- Наилучшая связка: `StandartScaler` + `OneHotEncoder`.\n",
    "\n",
    "- Recall=0.69 для класса `Снизилась`. То есть модель способна правильно определить 69% всех клиентов, которые действительно находятся в зоне риска.\n",
    "- Precision=0.93 означает что бюджет почти не будет тратиться на лояльных клиентов, ошибочно принимая их за уходящих. "
   ]
  },
  {
   "cell_type": "markdown",
   "metadata": {},
   "source": [
    "## Анализ важности признаков"
   ]
  },
  {
   "cell_type": "code",
   "execution_count": null,
   "metadata": {},
   "outputs": [],
   "source": [
    "preprocessor = ColumnTransformer(\n",
    "    transformers=[\n",
    "        ('num', StandardScaler(), numeric_features),\n",
    "        ('cat', OneHotEncoder(handle_unknown='ignore'), categorical_features)\n",
    "    ],\n",
    "    remainder='drop'\n",
    ")\n",
    "\n",
    "preprocessor.fit(X_train)\n",
    "X_train_processed = preprocessor.transform(X_train)\n",
    "X_test_processed = preprocessor.transform(X_test)\n",
    "\n",
    "\n",
    "if hasattr(X_train_processed, 'toarray'):\n",
    "    X_train_processed = X_train_processed.toarray()\n",
    "    X_test_processed = X_test_processed.toarray()\n",
    "\n",
    "cat_transformer = preprocessor.named_transformers_['cat']\n",
    "ohe_feature_names = cat_transformer.get_feature_names(categorical_features)\n",
    "feature_names_processed = list(numeric_features) + list(ohe_feature_names)\n",
    "\n",
    "#Обучение модели\n",
    "\n",
    "model = SVC(C=1.0, probability=True, random_state=42)\n",
    "model.fit(X_train_processed, y_train)\n",
    "print(\"Модель обучена. Accuracy на тесте:\", model.score(X_test_processed, y_test))\n",
    "\n",
    "# SHAP-анализ \n",
    "\n",
    "def predict_prob_class1(X):\n",
    "    if hasattr(X, 'toarray'):\n",
    "        X = X.toarray()\n",
    "    return model.predict_proba(X)[:, 1]\n",
    "\n",
    "n_test = min(20, X_test_processed.shape[0])\n",
    "X_sample = X_test_processed[:n_test]\n",
    "\n",
    "explainer = shap.KernelExplainer(predict_prob_class1, X_train_processed[:50])\n",
    "print(\"Вычисляем SHAP values...\")\n",
    "shap_values = explainer.shap_values(X_sample)  # (n_test, n_features)\n",
    "print(\"shap_values.shape\", np.shape(shap_values))\n",
    "print(\"X_sample.shape\", X_sample.shape)\n",
    "print(\"feature_names_processed:\", len(feature_names_processed))\n",
    "\n",
    "base_values = np.repeat(explainer.expected_value, X_sample.shape[0])\n",
    "\n",
    "shap_explanation_object = shap.Explanation(\n",
    "    values=shap_values,\n",
    "    base_values=base_values,\n",
    "    data=X_sample,\n",
    "    feature_names=feature_names_processed\n",
    ")\n",
    "\n",
    "print(\"\\n--- Графики SHAP для модели ---\")\n",
    "shap.plots.bar(shap_explanation_object, max_display=20)\n",
    "shap.plots.beeswarm(shap_explanation_object, max_display=20)\n",
    "shap.plots.waterfall(shap_explanation_object[min(5, n_test-1)], max_display=15)"
   ]
  },
  {
   "cell_type": "markdown",
   "metadata": {},
   "source": [
    "**Вывод:** \n",
    "- Самыми влиятельными признаками являются `Минут_предыдущий_месяц`, `Страниц_за_визит` и `Средний_просмотр_категорий_за_визит`. Это классические метрики вовлеченности пользователя. Модель в первую очередь смотрит на то, насколько активно клиент пользовался сервисом в недавнем прошлом.\n",
    "- Для всех топовых признаков вовлеченности (минуты, страницы, просмотры категорий) наблюдается одна и та же картина: низкие значения имеют высокие положительные SHAP values, что сильно толкает прогноз в сторону \"Снизилась\". Высокие значения, наоборот, сдвигают прогноз к \"Прежний уровень\". **Вывод: Падение активности — самый сильный сигнал о риске оттока.**\n",
    "- Признак `Неоплаченные_продукты_штук_квартал` находится на 5-м месте по важности. Beeswarm plot показывает, что высокие значения этого признака увеличивают вероятность оттока.\n",
    "- Признак `Ошибка_сервиса` хоть и не в самом топе, но показывает четкую зависимость: высокие значения (много ошибок) толкают прогноз в сторону \"Снизилась\". Это прямое доказательство того, что **технические проблемы влияют на удержание.**\n",
    "- Все признаки, связанные с `Популярная_категория` и `Разрешить сообщать`, находятся в самом низу списка. Их SHAP values на Beeswarm plot сгруппированы около нуля. **Вывод: Модель практически не использует эту информацию для принятия решений.**"
   ]
  },
  {
   "cell_type": "markdown",
   "metadata": {},
   "source": [
    "## Сегментация покупателей"
   ]
  },
  {
   "cell_type": "markdown",
   "metadata": {},
   "source": [
    "**Вывод:** Для сегментации будут использоваться два самых важных измерения, которые есть:\n",
    "\n",
    "- `Ценность клиента` (Value): Насколько он прибылен для компании. Будет использовн признак `Средняя_выручка_2_мес`.\n",
    "- `Риск ухода` (Risk): Насколько велика вероятность, что его активность снизится. Будет использована вероятность, которую предсказывает лучшая модель (SVC).\n",
    "\n",
    "План действий:\n",
    "1. Применить обученную модель best_pipeline ко всей выборке (X), чтобы получить вероятность снижения активности для каждого клиента.\n",
    "2. Добавить эту вероятность и исходные данные в новый датафрейм `segment_df`.\n",
    "3. Найти медианные значения для выручки и вероятности риска.\n",
    "4. На основе этих медиан присвоить каждому клиенту один из четырех сегментов.\n",
    "5. Визуализируем результат."
   ]
  },
  {
   "cell_type": "code",
   "execution_count": null,
   "metadata": {},
   "outputs": [],
   "source": [
    "# Получаем предсказания для всех данных\n",
    "all_pred_proba = best_pipeline.predict_proba(X)[:, 1] # Вероятность класса 1 ('Снизилась')\n",
    "\n",
    "# Создаем новый датафрейм для сегментации\n",
    "segment_df = X.copy()\n",
    "segment_df['id'] = full_df_fixed['id']\n",
    "segment_df['Покупательская активность'] = y # Истинные значения\n",
    "segment_df['Вероятность_снижения_активности'] = all_pred_proba\n",
    "\n",
    "# Находим медианы для разделения на сегменты\n",
    "median_revenue = segment_df['Средняя_выручка_2_мес'].median()\n",
    "median_risk_proba = segment_df['Вероятность_снижения_активности'].median()\n",
    "\n",
    "print(f\"Медианная средняя выручка: {median_revenue:.2f}\")\n",
    "print(f\"Медианная вероятность риска: {median_risk_proba:.2f}\")\n",
    "\n",
    "# Присваиваем сегменты\n",
    "def assign_segment(row):\n",
    "    is_high_value = row['Средняя_выручка_2_мес'] >= median_revenue\n",
    "    is_high_risk = row['Вероятность_снижения_активности'] >= median_risk_proba\n",
    "    \n",
    "    if is_high_value and not is_high_risk:\n",
    "        return 'Лояльные и ценные' # Высокая ценность, низкий риск\n",
    "    elif is_high_value and is_high_risk:\n",
    "        return 'Ценные, в зоне риска' # Высокая ценность, высокий риск\n",
    "    elif not is_high_value and not is_high_risk:\n",
    "        return 'Стабильные, с потенциалом роста' # Низкая ценность, низкий риск\n",
    "    else: \n",
    "        return 'Уходящие / Низкоприоритетные' # Низкая ценность, высокий риск\n",
    "\n",
    "segment_df['Сегмент'] = segment_df.apply(assign_segment, axis=1)\n",
    "\n",
    "# Визуализация сегментов\n",
    "plt.figure(figsize=(12, 8))\n",
    "sns.scatterplot(\n",
    "    data=segment_df,\n",
    "    x='Средняя_выручка_2_мес',\n",
    "    y='Вероятность_снижения_активности',\n",
    "    hue='Сегмент',\n",
    "    palette='viridis',\n",
    "    alpha=0.8,\n",
    "    s=80\n",
    ")\n",
    "\n",
    "plt.axvline(median_revenue, color='red', linestyle='--', label=f'Медианная выручка ({median_revenue:.0f})')\n",
    "plt.axhline(median_risk_proba, color='black', linestyle='--', label=f'Медианный риск ({median_risk_proba:.2f})')\n",
    "\n",
    "plt.title('Карта сегментации покупателей', fontsize=16)\n",
    "plt.xlabel('Ценность клиента (Средняя выручка за 2 мес.)', fontsize=12)\n",
    "plt.ylabel('Риск снижения активности (вероятность от модели)', fontsize=12)\n",
    "plt.legend(title='Сегменты')\n",
    "plt.grid(True)\n",
    "plt.show()\n",
    "\n",
    "print(\"\\nРазмеры полученных сегментов:\")\n",
    "print(segment_df['Сегмент'].value_counts())\n"
   ]
  },
  {
   "cell_type": "markdown",
   "metadata": {},
   "source": [
    "**Вывод:** \n",
    "По карте сегмонтации:\n",
    "- Модель работает уверенно. Большое кол-во точек сгруппированно у самого верха(вероятность > 0.9).\n",
    "- Нет прямой зависимости чем меньше тратит - тем выше риск. Подтверждает, что важны не только финансовые метрики, а поведенческие.\n",
    "- Каждый из 4-х квадратов требует свой \"подход\". Нельзя применять одну и ту же маркетинговую стратегию ко всем.\n",
    "\n",
    "Стратегии для каждого сегмента:\n",
    "1. Сегмент `Лояльные и ценные`:\n",
    "    Высокая средняя выручка (>5106), низкая вероятность оттока (<0.10). Лучшие клиенты. Они довольны сервисом и регулярно тратят деньги.\n",
    "    Что делать дальше:\n",
    "        - Не засыпать их общими акциями и распродажами. Это может вызвать раздражение.\n",
    "        - Предложить им эксклюзивные условия — закрытые распродажи, доступ к новинкам раньше других, персонального менеджера.\n",
    "        - Именно их мнение о новых функциях или товарах наиболее ценно.\n",
    "2. Сегмент `Ценные, в зоне риска`:\n",
    "    Высокая средняя выручка (>5106), высокая вероятность оттока (>0.10). Главный приоритет. Эти клиенты приносят много денег, но модель \"кричит\", что они скоро уйдут. Каждый потерянный клиент здесь — серьезный удар по выручке.\n",
    "    Что делать дальше:\n",
    "        - Немедленно реагировать на любой негатив. Стоит устранить ошибки сервиса.\n",
    "        - Персонализированные промокоды для вовлечения.\n",
    "        - Необходимо вручную или с помощью опросов выяснить, почему они в зоне риска. Проблема в ценах? В сервисе? В качестве товара?\n",
    "3. `Стабильные, с потенциалом роста`:\n",
    "    Cтабильная, но не очень активная аудитория. Они лояльны, но тратят мало. Возможно, они покупают только одну категорию товаров или делают это нечасто.\n",
    "    Что делать дальше:\n",
    "        - Предлагать им сопутствующие товары. Система рекомендации.\n",
    "        - Системы бонусов, скидки.\n",
    "4. Сегмент `Уходящие / Низкоприоритетные`:\n",
    "    Низкая средняя выручка (<5106), высокая вероятность оттока (>0.11). Эти клиенты приносят мало денег и с большой вероятностью покинут сервис.\n",
    "    Что делать дальше:\n",
    "        - Не стоит тратить время персональных менеджеров или большие бюджеты на удержание этих клиентов.\n",
    "        - Включить спам рассылку по типу: \"Скидки до 50%\".\n",
    "        - Не стоит тратить бюджет и услия на удержание."
   ]
  },
  {
   "cell_type": "code",
   "execution_count": null,
   "metadata": {},
   "outputs": [],
   "source": [
    "# Выделяем два сегмента для детального сравнения\n",
    "at_risk_df = segment_df[segment_df['Сегмент'] == 'Ценные, в зоне риска'].copy()\n",
    "loyal_df = segment_df[segment_df['Сегмент'] == 'Лояльные и ценные'].copy()\n",
    "\n",
    "print(f\"Количество клиентов в сегменте 'Ценные, в зоне риска': {len(at_risk_df)}\")\n",
    "print(f\"Количество клиентов в сегменте 'Лояльные и ценные': {len(loyal_df)}\")"
   ]
  },
  {
   "cell_type": "code",
   "execution_count": null,
   "metadata": {
    "scrolled": true
   },
   "outputs": [],
   "source": [
    "# Сравнение метрик вовлеченности\n",
    "engagement_features = ['Минут_предыдущий_месяц', 'Страниц_за_визит', 'Средний_просмотр_категорий_за_визит']\n",
    "\n",
    "print(\"--- Сравнение средних значений по вовлеченности ---\")\n",
    "comparison_df = pd.DataFrame({\n",
    "    'Ценные, в зоне риска': at_risk_df[engagement_features].mean(),\n",
    "    'Лояльные и ценные': loyal_df[engagement_features].mean()\n",
    "})\n",
    "comparison_df['Разница (%)'] = 100 * (comparison_df['Ценные, в зоне риска'] - comparison_df['Лояльные и ценные']) / comparison_df['Лояльные и ценные']\n",
    "print(comparison_df)\n",
    "\n",
    "for feature in engagement_features:\n",
    "    plt.figure(figsize=(8, 5))\n",
    "    sns.boxplot(data=segment_df[segment_df['Сегмент'].isin(['Ценные, в зоне риска', 'Лояльные и ценные'])], \n",
    "                x='Сегмент', y=feature, palette='viridis',\n",
    "                order=['Лояльные и ценные', 'Ценные, в зоне риска'])\n",
    "    plt.title(f'Сравнение по признаку: {feature}', fontsize=14)\n",
    "    plt.xticks(rotation=10)\n",
    "    plt.show()"
   ]
  },
  {
   "cell_type": "markdown",
   "metadata": {},
   "source": [
    "**Заключительные выводы:** \n",
    "- Клиенты из группы риска демонстрируют снижение вовлеченности по всем трем ключевым метрикам. Они проводят на сайте меньше времени, просматривают меньше страниц и изучают меньше категорий товаров.\n",
    "- **Потеря времени(- 21%)**: Клиенты из группы риска проводят на сайте в среднем на 21% меньше времени. Они теряют интерес, их визиты становятся короче и менее продуктивными.\n",
    "- **Потеря глубины просмотра (-29%)**: Падение почти на 30% в количестве просмотренных страниц говорит о том, что клиенты не просто стали заходить на меньшее время, они перестали изучать ассортимент и сравнивать товары. Их визит стал поверхностным.\n",
    "- **Потеря широты интереса (-24%)**: Снижение на 24% в просмотре категорий означает, что клиенты перестают открывать для себя новые группы товаров.\n",
    "\n",
    "В отличие от лояльного клиента, который активно изучает сайт, клиент \"в зоне риска\" ведет себя как человек, который зашел в магазин по привычке, не нашел ничего интересного за пару секунд и вышел. Его лояльность испаряется, а сервис перестает быть для него основным местом для покупок.\n",
    "\n",
    "**Подкрепление рекомендаций:** \n",
    "- Разработать персонализированные кампании по вовлечению:\n",
    "    - Вместо общей рекламы, при падении метрик вовлеченности отправлять клиенту персональные подборки товаров.\n",
    "    - Снижение вовлеченности на 20-30% — это главный симптом проблемы. Общая реклама не сработает на человека, который потерял интерес. Ему нужно напомнить, почему он вообще пользовался этим сервисом. \n",
    "- Внедрить VIP-поддержку:\n",
    "    - При возникновении технической ошибки у клиента из этого сегмента, менеджер должен сам связаться с ним и предложить компенсацию.\n",
    "    - Хоть графики и не показывают прямого следствия, что ошибки влияют напрямую,клиент который разочаровывается ошибкой, может раз и навсегда покинуть сервис.\n",
    "- \"Спасение корзины\":\n",
    "    - автоматически отправлять напоминания и бонусы клиентам из этой группы, которые оставили товары в корзине."
   ]
  },
  {
   "cell_type": "markdown",
   "metadata": {},
   "source": [
    "## Общие выводы"
   ]
  },
  {
   "cell_type": "markdown",
   "metadata": {},
   "source": [
    "### Ход выполнения работ"
   ]
  },
  {
   "cell_type": "markdown",
   "metadata": {},
   "source": [
    "В рамках данного проекта была проделана следующаю работа:\n",
    "1. `Загрузка и предобработка данных`:\n",
    "    Были загружены и изучены четыре исходных набора данных: market_file, market_money, market_time и money. Проведена комплексная предобработка: исправлена структура таблицы money, устранены неявные дубликаты (например, 'стандартт' -> 'стандарт'), исправлены опечатки в категориальных данных ('предыдцщий_месяц' -> 'предыдущий_месяц'), а также обработаны пропуски и выбросы в числовых признаках.\n",
    "2. `Исследовательский анализ (EDA) и Feature Engineering`:\n",
    "    Проведен детальный анализ распределений для каждого признака, что позволило лучше понять портрет клиента. С помощью корреляционной матрицы была выявлена проблема мультиколлинеарности между признаками `Выручка_текущий_месяц` и `Выручка_предыдущий_месяц` (коэффициент +0.81). Для решения этой проблемы и обогащения данных были созданы два новых признака: `Средняя_выручка_2_мес` и `Динамика_выручки`. Этот подход позволил сохранить информацию и избежать искажения в моделях.\n",
    "3. `Построение и выбор модели машинного обучения`: \n",
    "    Была четко определена бизнес-задача: минимизировать потери от ухода клиентов, что привело к выбору F1-меры в качестве основной метрики для оценки моделей, так как она обеспечивает баланс между точностью (Precision) и полнотой (Recall). С использованием Pipeline и GridSearchCV были протестированы четыре различных алгоритма: LogisticRegression, DecisionTreeClassifier, KNeighborsClassifier и SVC. Для каждого алгоритма проверялись различные комбинации гиперпараметров и два варианта предобработки данных (StandardScaler + OneHotEncoder и MinMaxScaler + OrdinalEncoder).\n",
    "4. `Анализ и интерпретация лучшей модели`:\n",
    "    Наилучшие результаты показала модель SVC, которая была выбрана для дальнейшего анализа. С помощью библиотеки shap была проведена глубокая интерпретация модели. Анализ показал, что ключевыми факторами, влияющими на прогноз, являются метрики вовлеченности (`Минут_предыдущий_месяц`, `Страниц_за_визит`), а также показатели негативного опыта (`Неоплаченные_продукты`, `Ошибка_сервиса`).\n",
    "5. `Сегментация клиентов и разработка стратегий`:\n",
    "    На основе предсказаний модели (риск ухода) и финансовых данных (ценность клиента) была проведена сегментация клиентов на четыре группы. Для наиболее критичного сегмента — «Ценные, в зоне риска» — был проведен углубленный сравнительный анализ с сегментом «Лояльные и ценные», который количественно подтвердил выводы shap-анализа. На основе этого анализа были разработаны точечные, обоснованные рекомендации для маркетинга и службы поддержки."
   ]
  },
  {
   "cell_type": "markdown",
   "metadata": {},
   "source": [
    "### Общие выводы и рекомендации"
   ]
  },
  {
   "cell_type": "markdown",
   "metadata": {},
   "source": [
    "Основная задача проекта заключалась в разработке системы, способной прогнозировать снижение покупательской активности клиентов интернет-магазина «В один клик». Конечной целью являлась не только разработка модели, но и создание на её основе сегментации клиентов с конкретными рекомендациями по удержанию и увеличению их активности.\n",
    "\n",
    "Наилучшие результаты показала модель `Support Vector Machine (SVC)` с параметром C=1.0 и предобработкой данных с помощью StandardScaler и OneHotEncoder. Модель достигла следующих показателей на тестовой выборке:\n",
    "\n",
    "- F1-score (для класса \"Снизилась\"): 0.79\n",
    "- Recall (для класса \"Снизилась\"): 0.69\n",
    "- Precision (для класса \"Снизилась\"): 0.93\n",
    "- ROC-AUC: 0.87\n",
    "\n",
    "Для детального анализа был выбран сегмент `Ценные, в зоне риска`, так как он является наиболее критичным для бизнеса: эти клиенты приносят высокую выручку, но модель с большой вероятностью прогнозирует их уход.\n",
    "\n",
    "Ключевой вывод анализа: Проблема этого сегмента лежит не в финансовой плоскости, а в поведенческой. По сравнению с лояльными клиентами той же ценности, клиенты из группы риска:\n",
    "- менее вовлечены;\n",
    "- чаще бросают корзины;\n",
    "- более зависимы от акций.\n",
    "\n",
    "Таким образом, построенная модель и проведенная сегментация позволяют интернет-магазину перейти от реактивных мер к проактивной, основанной на данных стратегии удержания наиболее ценных клиентов."
   ]
  }
 ],
 "metadata": {
  "ExecuteTimeLog": [
   {
    "duration": 380,
    "start_time": "2025-06-12T06:36:21.505Z"
   },
   {
    "duration": 86,
    "start_time": "2025-06-12T06:37:01.418Z"
   },
   {
    "duration": 19,
    "start_time": "2025-06-12T06:37:22.956Z"
   },
   {
    "duration": 11,
    "start_time": "2025-06-12T06:37:32.424Z"
   },
   {
    "duration": 2,
    "start_time": "2025-06-12T06:38:22.678Z"
   },
   {
    "duration": 80,
    "start_time": "2025-06-12T06:38:22.683Z"
   },
   {
    "duration": 38,
    "start_time": "2025-06-12T06:38:22.765Z"
   },
   {
    "duration": 20,
    "start_time": "2025-06-12T06:39:23.012Z"
   },
   {
    "duration": 16,
    "start_time": "2025-06-12T06:40:47.464Z"
   },
   {
    "duration": 16,
    "start_time": "2025-06-12T06:41:45.902Z"
   },
   {
    "duration": 15,
    "start_time": "2025-06-12T06:42:21.364Z"
   },
   {
    "duration": 14,
    "start_time": "2025-06-12T06:42:59.945Z"
   },
   {
    "duration": 15,
    "start_time": "2025-06-12T06:44:18.084Z"
   },
   {
    "duration": 64,
    "start_time": "2025-06-12T06:45:24.486Z"
   },
   {
    "duration": 5,
    "start_time": "2025-06-12T06:45:32.494Z"
   },
   {
    "duration": 7,
    "start_time": "2025-06-12T06:46:29.991Z"
   },
   {
    "duration": 10,
    "start_time": "2025-06-12T06:47:06.428Z"
   },
   {
    "duration": 44,
    "start_time": "2025-06-12T06:58:48.280Z"
   },
   {
    "duration": 34,
    "start_time": "2025-06-12T06:58:53.546Z"
   },
   {
    "duration": 38,
    "start_time": "2025-06-12T06:59:13.884Z"
   },
   {
    "duration": 3,
    "start_time": "2025-06-12T06:59:53.455Z"
   },
   {
    "duration": 127,
    "start_time": "2025-06-12T06:59:53.460Z"
   },
   {
    "duration": 20,
    "start_time": "2025-06-12T06:59:53.588Z"
   },
   {
    "duration": 15,
    "start_time": "2025-06-12T06:59:53.609Z"
   },
   {
    "duration": 14,
    "start_time": "2025-06-12T06:59:53.625Z"
   },
   {
    "duration": 21,
    "start_time": "2025-06-12T06:59:53.641Z"
   },
   {
    "duration": 9,
    "start_time": "2025-06-12T06:59:53.664Z"
   },
   {
    "duration": 301,
    "start_time": "2025-06-12T06:59:53.674Z"
   },
   {
    "duration": 3,
    "start_time": "2025-06-12T07:00:06.322Z"
   },
   {
    "duration": 119,
    "start_time": "2025-06-12T07:00:06.327Z"
   },
   {
    "duration": 21,
    "start_time": "2025-06-12T07:00:06.448Z"
   },
   {
    "duration": 73,
    "start_time": "2025-06-12T07:00:06.470Z"
   },
   {
    "duration": 22,
    "start_time": "2025-06-12T07:00:06.545Z"
   },
   {
    "duration": 20,
    "start_time": "2025-06-12T07:00:06.569Z"
   },
   {
    "duration": 14,
    "start_time": "2025-06-12T07:00:06.590Z"
   },
   {
    "duration": 31,
    "start_time": "2025-06-12T07:00:06.605Z"
   },
   {
    "duration": 37,
    "start_time": "2025-06-12T07:04:52.375Z"
   },
   {
    "duration": 42,
    "start_time": "2025-06-12T07:05:36.204Z"
   },
   {
    "duration": 7,
    "start_time": "2025-06-12T07:06:45.298Z"
   },
   {
    "duration": 4,
    "start_time": "2025-06-12T07:08:25.902Z"
   },
   {
    "duration": 7,
    "start_time": "2025-06-12T07:12:18.239Z"
   },
   {
    "duration": 11,
    "start_time": "2025-06-12T07:13:21.509Z"
   },
   {
    "duration": 7,
    "start_time": "2025-06-12T07:13:32.691Z"
   },
   {
    "duration": 9,
    "start_time": "2025-06-12T07:13:50.146Z"
   },
   {
    "duration": 15,
    "start_time": "2025-06-12T07:14:12.315Z"
   },
   {
    "duration": 15,
    "start_time": "2025-06-12T07:14:34.105Z"
   },
   {
    "duration": 6,
    "start_time": "2025-06-12T07:14:47.883Z"
   },
   {
    "duration": 6,
    "start_time": "2025-06-12T07:14:53.683Z"
   },
   {
    "duration": 6,
    "start_time": "2025-06-12T07:15:07.649Z"
   },
   {
    "duration": 2,
    "start_time": "2025-06-12T07:15:19.196Z"
   },
   {
    "duration": 81,
    "start_time": "2025-06-12T07:15:19.201Z"
   },
   {
    "duration": 21,
    "start_time": "2025-06-12T07:15:19.284Z"
   },
   {
    "duration": 16,
    "start_time": "2025-06-12T07:15:19.307Z"
   },
   {
    "duration": 13,
    "start_time": "2025-06-12T07:15:19.325Z"
   },
   {
    "duration": 31,
    "start_time": "2025-06-12T07:15:19.340Z"
   },
   {
    "duration": 11,
    "start_time": "2025-06-12T07:15:19.372Z"
   },
   {
    "duration": 21,
    "start_time": "2025-06-12T07:15:19.385Z"
   },
   {
    "duration": 43,
    "start_time": "2025-06-12T07:15:41.505Z"
   },
   {
    "duration": 42,
    "start_time": "2025-06-12T07:15:55.713Z"
   },
   {
    "duration": 43,
    "start_time": "2025-06-12T07:16:15.945Z"
   },
   {
    "duration": 55,
    "start_time": "2025-06-12T07:16:22.033Z"
   },
   {
    "duration": 41,
    "start_time": "2025-06-12T07:16:30.403Z"
   },
   {
    "duration": 8,
    "start_time": "2025-06-12T07:19:21.240Z"
   },
   {
    "duration": 8,
    "start_time": "2025-06-12T07:19:26.684Z"
   },
   {
    "duration": 9,
    "start_time": "2025-06-12T07:19:49.047Z"
   },
   {
    "duration": 14,
    "start_time": "2025-06-12T07:20:12.526Z"
   },
   {
    "duration": 55,
    "start_time": "2025-06-12T07:20:39.753Z"
   },
   {
    "duration": 74,
    "start_time": "2025-06-12T07:20:45.153Z"
   },
   {
    "duration": 27,
    "start_time": "2025-06-12T07:21:10.216Z"
   },
   {
    "duration": 30,
    "start_time": "2025-06-12T07:21:16.690Z"
   },
   {
    "duration": 45,
    "start_time": "2025-06-12T07:21:59.954Z"
   },
   {
    "duration": 20,
    "start_time": "2025-06-12T07:22:50.193Z"
   },
   {
    "duration": 27,
    "start_time": "2025-06-12T07:23:09.049Z"
   },
   {
    "duration": 14,
    "start_time": "2025-06-12T07:26:10.369Z"
   },
   {
    "duration": 5,
    "start_time": "2025-06-12T07:26:36.826Z"
   },
   {
    "duration": 12,
    "start_time": "2025-06-12T07:33:57.573Z"
   },
   {
    "duration": 7,
    "start_time": "2025-06-12T07:34:10.507Z"
   },
   {
    "duration": 27,
    "start_time": "2025-06-12T07:34:20.669Z"
   },
   {
    "duration": 12,
    "start_time": "2025-06-12T07:34:46.938Z"
   },
   {
    "duration": 24,
    "start_time": "2025-06-12T07:43:03.886Z"
   },
   {
    "duration": 32,
    "start_time": "2025-06-12T07:44:50.002Z"
   },
   {
    "duration": 29,
    "start_time": "2025-06-12T07:46:09.713Z"
   },
   {
    "duration": 18,
    "start_time": "2025-06-12T07:49:18.007Z"
   },
   {
    "duration": 35,
    "start_time": "2025-06-12T07:50:17.774Z"
   },
   {
    "duration": 3,
    "start_time": "2025-06-12T07:54:27.492Z"
   },
   {
    "duration": 122,
    "start_time": "2025-06-12T07:54:27.497Z"
   },
   {
    "duration": 23,
    "start_time": "2025-06-12T07:54:27.621Z"
   },
   {
    "duration": 65,
    "start_time": "2025-06-12T07:54:27.646Z"
   },
   {
    "duration": 16,
    "start_time": "2025-06-12T07:54:27.714Z"
   },
   {
    "duration": 17,
    "start_time": "2025-06-12T07:54:27.732Z"
   },
   {
    "duration": 38,
    "start_time": "2025-06-12T07:54:27.751Z"
   },
   {
    "duration": 23,
    "start_time": "2025-06-12T07:54:27.794Z"
   },
   {
    "duration": 5,
    "start_time": "2025-06-12T07:54:27.819Z"
   },
   {
    "duration": 9,
    "start_time": "2025-06-12T07:54:27.825Z"
   },
   {
    "duration": 55,
    "start_time": "2025-06-12T07:54:27.836Z"
   },
   {
    "duration": 24,
    "start_time": "2025-06-12T07:54:27.892Z"
   },
   {
    "duration": 422,
    "start_time": "2025-06-21T15:50:07.308Z"
   },
   {
    "duration": 79,
    "start_time": "2025-06-21T15:50:07.732Z"
   },
   {
    "duration": 33,
    "start_time": "2025-06-21T15:50:07.814Z"
   },
   {
    "duration": 86,
    "start_time": "2025-06-21T15:50:07.849Z"
   },
   {
    "duration": 26,
    "start_time": "2025-06-21T15:50:07.937Z"
   },
   {
    "duration": 68,
    "start_time": "2025-06-21T15:50:07.965Z"
   },
   {
    "duration": 31,
    "start_time": "2025-06-21T15:50:08.035Z"
   },
   {
    "duration": 49,
    "start_time": "2025-06-21T15:50:08.068Z"
   },
   {
    "duration": 38,
    "start_time": "2025-06-21T15:50:08.119Z"
   },
   {
    "duration": 34,
    "start_time": "2025-06-21T15:50:08.158Z"
   },
   {
    "duration": 143,
    "start_time": "2025-06-21T15:50:08.194Z"
   },
   {
    "duration": 34,
    "start_time": "2025-06-21T15:50:08.339Z"
   },
   {
    "duration": 78,
    "start_time": "2025-06-21T15:54:50.591Z"
   },
   {
    "duration": 1141,
    "start_time": "2025-06-21T15:55:05.159Z"
   },
   {
    "duration": 9,
    "start_time": "2025-06-21T15:55:49.214Z"
   },
   {
    "duration": 11,
    "start_time": "2025-06-21T15:58:34.968Z"
   },
   {
    "duration": 19,
    "start_time": "2025-06-21T15:59:25.366Z"
   },
   {
    "duration": 2,
    "start_time": "2025-06-21T16:00:17.492Z"
   },
   {
    "duration": 100,
    "start_time": "2025-06-21T16:00:17.496Z"
   },
   {
    "duration": 22,
    "start_time": "2025-06-21T16:00:17.597Z"
   },
   {
    "duration": 50,
    "start_time": "2025-06-21T16:00:17.621Z"
   },
   {
    "duration": 25,
    "start_time": "2025-06-21T16:00:17.673Z"
   },
   {
    "duration": 19,
    "start_time": "2025-06-21T16:00:17.699Z"
   },
   {
    "duration": 14,
    "start_time": "2025-06-21T16:00:17.720Z"
   },
   {
    "duration": 23,
    "start_time": "2025-06-21T16:00:17.735Z"
   },
   {
    "duration": 6,
    "start_time": "2025-06-21T16:00:17.759Z"
   },
   {
    "duration": 30,
    "start_time": "2025-06-21T16:00:17.768Z"
   },
   {
    "duration": 27,
    "start_time": "2025-06-21T16:00:17.800Z"
   },
   {
    "duration": 16,
    "start_time": "2025-06-21T16:00:17.829Z"
   },
   {
    "duration": 8,
    "start_time": "2025-06-21T16:00:17.847Z"
   },
   {
    "duration": 49,
    "start_time": "2025-06-21T16:00:17.856Z"
   },
   {
    "duration": 957,
    "start_time": "2025-06-21T16:05:24.863Z"
   },
   {
    "duration": 112,
    "start_time": "2025-06-21T16:06:17.630Z"
   },
   {
    "duration": 142,
    "start_time": "2025-06-21T16:06:34.065Z"
   },
   {
    "duration": 100,
    "start_time": "2025-06-21T16:08:02.947Z"
   },
   {
    "duration": 59,
    "start_time": "2025-06-21T16:09:23.234Z"
   },
   {
    "duration": 1095,
    "start_time": "2025-06-21T16:09:45.728Z"
   },
   {
    "duration": 354,
    "start_time": "2025-06-21T16:11:20.917Z"
   },
   {
    "duration": 142,
    "start_time": "2025-06-21T16:12:37.864Z"
   },
   {
    "duration": 131,
    "start_time": "2025-06-21T16:12:53.993Z"
   },
   {
    "duration": 131,
    "start_time": "2025-06-21T16:13:15.027Z"
   },
   {
    "duration": 139,
    "start_time": "2025-06-21T16:20:43.221Z"
   },
   {
    "duration": 533,
    "start_time": "2025-06-21T16:21:44.741Z"
   },
   {
    "duration": 144,
    "start_time": "2025-06-21T16:22:01.417Z"
   },
   {
    "duration": 409,
    "start_time": "2025-06-21T16:31:12.801Z"
   },
   {
    "duration": 936,
    "start_time": "2025-06-21T16:34:04.174Z"
   },
   {
    "duration": 981,
    "start_time": "2025-06-21T16:39:04.389Z"
   },
   {
    "duration": 901,
    "start_time": "2025-06-21T16:39:07.761Z"
   },
   {
    "duration": 3,
    "start_time": "2025-06-21T16:40:52.231Z"
   },
   {
    "duration": 101,
    "start_time": "2025-06-21T16:40:52.236Z"
   },
   {
    "duration": 23,
    "start_time": "2025-06-21T16:40:52.339Z"
   },
   {
    "duration": 46,
    "start_time": "2025-06-21T16:40:52.363Z"
   },
   {
    "duration": 43,
    "start_time": "2025-06-21T16:40:52.412Z"
   },
   {
    "duration": 58,
    "start_time": "2025-06-21T16:40:52.457Z"
   },
   {
    "duration": 11,
    "start_time": "2025-06-21T16:40:52.517Z"
   },
   {
    "duration": 20,
    "start_time": "2025-06-21T16:40:52.531Z"
   },
   {
    "duration": 6,
    "start_time": "2025-06-21T16:40:52.553Z"
   },
   {
    "duration": 38,
    "start_time": "2025-06-21T16:40:52.561Z"
   },
   {
    "duration": 28,
    "start_time": "2025-06-21T16:40:52.602Z"
   },
   {
    "duration": 18,
    "start_time": "2025-06-21T16:40:52.633Z"
   },
   {
    "duration": 46,
    "start_time": "2025-06-21T16:40:52.653Z"
   },
   {
    "duration": 166,
    "start_time": "2025-06-21T16:40:52.701Z"
   },
   {
    "duration": 487,
    "start_time": "2025-06-21T16:40:52.869Z"
   },
   {
    "duration": 864,
    "start_time": "2025-06-21T16:40:53.357Z"
   },
   {
    "duration": 975,
    "start_time": "2025-06-21T16:40:54.223Z"
   },
   {
    "duration": 832,
    "start_time": "2025-06-21T16:41:30.139Z"
   },
   {
    "duration": 1483,
    "start_time": "2025-06-21T16:42:57.109Z"
   },
   {
    "duration": 1452,
    "start_time": "2025-06-21T16:44:21.957Z"
   },
   {
    "duration": 1387,
    "start_time": "2025-06-21T16:44:30.004Z"
   },
   {
    "duration": 9,
    "start_time": "2025-06-21T16:54:43.382Z"
   },
   {
    "duration": 155,
    "start_time": "2025-06-21T16:58:38.987Z"
   },
   {
    "duration": 1252,
    "start_time": "2025-06-21T16:59:00.213Z"
   },
   {
    "duration": 834,
    "start_time": "2025-06-21T17:03:01.797Z"
   },
   {
    "duration": 159,
    "start_time": "2025-06-21T17:05:37.307Z"
   },
   {
    "duration": 1252,
    "start_time": "2025-06-21T17:07:32.936Z"
   },
   {
    "duration": 198,
    "start_time": "2025-06-21T17:08:44.665Z"
   },
   {
    "duration": 134,
    "start_time": "2025-06-21T17:08:49.989Z"
   },
   {
    "duration": 3,
    "start_time": "2025-06-21T17:09:20.422Z"
   },
   {
    "duration": 99,
    "start_time": "2025-06-21T17:09:20.427Z"
   },
   {
    "duration": 22,
    "start_time": "2025-06-21T17:09:20.528Z"
   },
   {
    "duration": 25,
    "start_time": "2025-06-21T17:09:20.552Z"
   },
   {
    "duration": 71,
    "start_time": "2025-06-21T17:09:20.579Z"
   },
   {
    "duration": 180,
    "start_time": "2025-06-21T17:09:20.652Z"
   },
   {
    "duration": 68,
    "start_time": "2025-06-21T17:09:20.833Z"
   },
   {
    "duration": 131,
    "start_time": "2025-06-21T17:09:20.902Z"
   },
   {
    "duration": 11,
    "start_time": "2025-06-21T17:09:21.034Z"
   },
   {
    "duration": 33,
    "start_time": "2025-06-21T17:09:21.047Z"
   },
   {
    "duration": 42,
    "start_time": "2025-06-21T17:09:21.081Z"
   },
   {
    "duration": 16,
    "start_time": "2025-06-21T17:09:21.125Z"
   },
   {
    "duration": 47,
    "start_time": "2025-06-21T17:09:21.143Z"
   },
   {
    "duration": 141,
    "start_time": "2025-06-21T17:09:21.193Z"
   },
   {
    "duration": 367,
    "start_time": "2025-06-21T17:09:21.335Z"
   },
   {
    "duration": 828,
    "start_time": "2025-06-21T17:09:21.704Z"
   },
   {
    "duration": 933,
    "start_time": "2025-06-21T17:09:22.534Z"
   },
   {
    "duration": 1389,
    "start_time": "2025-06-21T17:09:23.469Z"
   },
   {
    "duration": 166,
    "start_time": "2025-06-21T17:09:24.860Z"
   },
   {
    "duration": 158,
    "start_time": "2025-06-21T17:09:25.028Z"
   },
   {
    "duration": 138,
    "start_time": "2025-06-21T17:10:38.340Z"
   },
   {
    "duration": 139,
    "start_time": "2025-06-21T17:10:40.832Z"
   },
   {
    "duration": 145,
    "start_time": "2025-06-21T17:11:05.511Z"
   },
   {
    "duration": 3,
    "start_time": "2025-06-21T17:11:17.533Z"
   },
   {
    "duration": 82,
    "start_time": "2025-06-21T17:11:17.538Z"
   },
   {
    "duration": 22,
    "start_time": "2025-06-21T17:11:17.622Z"
   },
   {
    "duration": 17,
    "start_time": "2025-06-21T17:11:17.646Z"
   },
   {
    "duration": 16,
    "start_time": "2025-06-21T17:11:17.665Z"
   },
   {
    "duration": 26,
    "start_time": "2025-06-21T17:11:17.682Z"
   },
   {
    "duration": 10,
    "start_time": "2025-06-21T17:11:17.710Z"
   },
   {
    "duration": 17,
    "start_time": "2025-06-21T17:11:17.722Z"
   },
   {
    "duration": 5,
    "start_time": "2025-06-21T17:11:17.740Z"
   },
   {
    "duration": 114,
    "start_time": "2025-06-21T17:11:17.747Z"
   },
   {
    "duration": 27,
    "start_time": "2025-06-21T17:11:17.863Z"
   },
   {
    "duration": 27,
    "start_time": "2025-06-21T17:11:17.892Z"
   },
   {
    "duration": 7,
    "start_time": "2025-06-21T17:11:17.920Z"
   },
   {
    "duration": 172,
    "start_time": "2025-06-21T17:11:17.929Z"
   },
   {
    "duration": 482,
    "start_time": "2025-06-21T17:11:18.103Z"
   },
   {
    "duration": 808,
    "start_time": "2025-06-21T17:11:18.587Z"
   },
   {
    "duration": 941,
    "start_time": "2025-06-21T17:11:19.398Z"
   },
   {
    "duration": 1418,
    "start_time": "2025-06-21T17:11:20.341Z"
   },
   {
    "duration": 162,
    "start_time": "2025-06-21T17:11:21.761Z"
   },
   {
    "duration": 165,
    "start_time": "2025-06-21T17:11:21.925Z"
   },
   {
    "duration": 13,
    "start_time": "2025-06-21T17:12:34.484Z"
   },
   {
    "duration": 13,
    "start_time": "2025-06-21T17:12:42.146Z"
   },
   {
    "duration": 12,
    "start_time": "2025-06-21T17:12:48.279Z"
   },
   {
    "duration": 590,
    "start_time": "2025-06-21T17:12:54.536Z"
   },
   {
    "duration": 13,
    "start_time": "2025-06-21T17:18:46.390Z"
   },
   {
    "duration": 9,
    "start_time": "2025-06-21T17:20:21.193Z"
   },
   {
    "duration": 143,
    "start_time": "2025-06-21T17:21:23.557Z"
   },
   {
    "duration": 161,
    "start_time": "2025-06-21T17:23:24.828Z"
   },
   {
    "duration": 245,
    "start_time": "2025-06-21T17:25:33.972Z"
   },
   {
    "duration": 300,
    "start_time": "2025-06-21T17:26:16.546Z"
   },
   {
    "duration": 26,
    "start_time": "2025-06-21T17:31:24.785Z"
   },
   {
    "duration": 106,
    "start_time": "2025-06-21T17:32:18.758Z"
   },
   {
    "duration": 13,
    "start_time": "2025-06-21T17:32:43.275Z"
   },
   {
    "duration": 94,
    "start_time": "2025-06-21T17:34:58.649Z"
   },
   {
    "duration": 3,
    "start_time": "2025-06-21T17:35:22.493Z"
   },
   {
    "duration": 76,
    "start_time": "2025-06-21T17:35:22.499Z"
   },
   {
    "duration": 22,
    "start_time": "2025-06-21T17:35:22.577Z"
   },
   {
    "duration": 20,
    "start_time": "2025-06-21T17:35:22.600Z"
   },
   {
    "duration": 15,
    "start_time": "2025-06-21T17:35:22.622Z"
   },
   {
    "duration": 13,
    "start_time": "2025-06-21T17:35:22.639Z"
   },
   {
    "duration": 10,
    "start_time": "2025-06-21T17:35:22.654Z"
   },
   {
    "duration": 52,
    "start_time": "2025-06-21T17:35:22.666Z"
   },
   {
    "duration": 6,
    "start_time": "2025-06-21T17:35:22.720Z"
   },
   {
    "duration": 11,
    "start_time": "2025-06-21T17:35:22.728Z"
   },
   {
    "duration": 57,
    "start_time": "2025-06-21T17:35:22.741Z"
   },
   {
    "duration": 20,
    "start_time": "2025-06-21T17:35:22.800Z"
   },
   {
    "duration": 9,
    "start_time": "2025-06-21T17:35:22.822Z"
   },
   {
    "duration": 194,
    "start_time": "2025-06-21T17:35:22.834Z"
   },
   {
    "duration": 384,
    "start_time": "2025-06-21T17:35:23.030Z"
   },
   {
    "duration": 948,
    "start_time": "2025-06-21T17:35:23.416Z"
   },
   {
    "duration": 891,
    "start_time": "2025-06-21T17:35:24.366Z"
   },
   {
    "duration": 1421,
    "start_time": "2025-06-21T17:35:25.260Z"
   },
   {
    "duration": 160,
    "start_time": "2025-06-21T17:35:26.682Z"
   },
   {
    "duration": 176,
    "start_time": "2025-06-21T17:35:26.844Z"
   },
   {
    "duration": 613,
    "start_time": "2025-06-21T17:35:27.022Z"
   },
   {
    "duration": 255,
    "start_time": "2025-06-21T17:35:27.637Z"
   },
   {
    "duration": 313,
    "start_time": "2025-06-21T17:35:27.894Z"
   },
   {
    "duration": 90,
    "start_time": "2025-06-21T17:35:28.210Z"
   },
   {
    "duration": 118,
    "start_time": "2025-06-21T17:36:18.566Z"
   },
   {
    "duration": 120,
    "start_time": "2025-06-21T17:39:29.128Z"
   },
   {
    "duration": 123,
    "start_time": "2025-06-21T17:39:31.799Z"
   },
   {
    "duration": 74,
    "start_time": "2025-06-21T17:40:37.285Z"
   },
   {
    "duration": 189,
    "start_time": "2025-06-21T17:40:58.423Z"
   },
   {
    "duration": 3,
    "start_time": "2025-06-21T17:42:05.247Z"
   },
   {
    "duration": 92,
    "start_time": "2025-06-21T17:42:05.252Z"
   },
   {
    "duration": 22,
    "start_time": "2025-06-21T17:42:05.346Z"
   },
   {
    "duration": 18,
    "start_time": "2025-06-21T17:42:05.370Z"
   },
   {
    "duration": 21,
    "start_time": "2025-06-21T17:42:05.390Z"
   },
   {
    "duration": 22,
    "start_time": "2025-06-21T17:42:05.412Z"
   },
   {
    "duration": 25,
    "start_time": "2025-06-21T17:42:05.435Z"
   },
   {
    "duration": 25,
    "start_time": "2025-06-21T17:42:05.461Z"
   },
   {
    "duration": 34,
    "start_time": "2025-06-21T17:42:05.488Z"
   },
   {
    "duration": 18,
    "start_time": "2025-06-21T17:42:05.523Z"
   },
   {
    "duration": 38,
    "start_time": "2025-06-21T17:42:05.543Z"
   },
   {
    "duration": 21,
    "start_time": "2025-06-21T17:42:05.583Z"
   },
   {
    "duration": 22,
    "start_time": "2025-06-21T17:42:05.608Z"
   },
   {
    "duration": 167,
    "start_time": "2025-06-21T17:42:05.631Z"
   },
   {
    "duration": 446,
    "start_time": "2025-06-21T17:42:05.800Z"
   },
   {
    "duration": 995,
    "start_time": "2025-06-21T17:42:06.247Z"
   },
   {
    "duration": 1041,
    "start_time": "2025-06-21T17:42:07.244Z"
   },
   {
    "duration": 1403,
    "start_time": "2025-06-21T17:42:08.287Z"
   },
   {
    "duration": 266,
    "start_time": "2025-06-21T17:42:09.692Z"
   },
   {
    "duration": 183,
    "start_time": "2025-06-21T17:42:09.960Z"
   },
   {
    "duration": 641,
    "start_time": "2025-06-21T17:42:10.145Z"
   },
   {
    "duration": 169,
    "start_time": "2025-06-21T17:42:10.787Z"
   },
   {
    "duration": 336,
    "start_time": "2025-06-21T17:42:10.958Z"
   },
   {
    "duration": 118,
    "start_time": "2025-06-21T17:42:11.296Z"
   },
   {
    "duration": 114,
    "start_time": "2025-06-21T17:42:11.415Z"
   },
   {
    "duration": 186,
    "start_time": "2025-06-21T17:42:11.531Z"
   },
   {
    "duration": 236,
    "start_time": "2025-06-21T17:46:02.050Z"
   },
   {
    "duration": 131,
    "start_time": "2025-06-21T17:58:45.245Z"
   },
   {
    "duration": 19,
    "start_time": "2025-06-21T18:00:33.175Z"
   },
   {
    "duration": 3,
    "start_time": "2025-06-21T18:00:47.605Z"
   },
   {
    "duration": 113,
    "start_time": "2025-06-21T18:00:47.611Z"
   },
   {
    "duration": 24,
    "start_time": "2025-06-21T18:00:47.726Z"
   },
   {
    "duration": 19,
    "start_time": "2025-06-21T18:00:47.752Z"
   },
   {
    "duration": 14,
    "start_time": "2025-06-21T18:00:47.774Z"
   },
   {
    "duration": 19,
    "start_time": "2025-06-21T18:00:47.798Z"
   },
   {
    "duration": 14,
    "start_time": "2025-06-21T18:00:47.819Z"
   },
   {
    "duration": 31,
    "start_time": "2025-06-21T18:00:47.835Z"
   },
   {
    "duration": 5,
    "start_time": "2025-06-21T18:00:47.868Z"
   },
   {
    "duration": 30,
    "start_time": "2025-06-21T18:00:47.875Z"
   },
   {
    "duration": 36,
    "start_time": "2025-06-21T18:00:47.907Z"
   },
   {
    "duration": 20,
    "start_time": "2025-06-21T18:00:47.944Z"
   },
   {
    "duration": 110,
    "start_time": "2025-06-21T18:00:47.966Z"
   },
   {
    "duration": 184,
    "start_time": "2025-06-21T18:00:48.078Z"
   },
   {
    "duration": 455,
    "start_time": "2025-06-21T18:00:48.264Z"
   },
   {
    "duration": 898,
    "start_time": "2025-06-21T18:00:48.722Z"
   },
   {
    "duration": 985,
    "start_time": "2025-06-21T18:00:49.622Z"
   },
   {
    "duration": 1484,
    "start_time": "2025-06-21T18:00:50.610Z"
   },
   {
    "duration": 159,
    "start_time": "2025-06-21T18:00:52.099Z"
   },
   {
    "duration": 200,
    "start_time": "2025-06-21T18:00:52.259Z"
   },
   {
    "duration": 628,
    "start_time": "2025-06-21T18:00:52.461Z"
   },
   {
    "duration": 153,
    "start_time": "2025-06-21T18:00:53.098Z"
   },
   {
    "duration": 316,
    "start_time": "2025-06-21T18:00:53.252Z"
   },
   {
    "duration": 222,
    "start_time": "2025-06-21T18:00:53.570Z"
   },
   {
    "duration": 123,
    "start_time": "2025-06-21T18:00:53.798Z"
   },
   {
    "duration": 184,
    "start_time": "2025-06-21T18:00:53.923Z"
   },
   {
    "duration": 282,
    "start_time": "2025-06-21T18:00:54.108Z"
   },
   {
    "duration": 23,
    "start_time": "2025-06-21T18:00:54.391Z"
   },
   {
    "duration": 35,
    "start_time": "2025-06-21T18:03:32.061Z"
   },
   {
    "duration": 3,
    "start_time": "2025-06-21T18:04:23.002Z"
   },
   {
    "duration": 116,
    "start_time": "2025-06-21T18:04:23.008Z"
   },
   {
    "duration": 21,
    "start_time": "2025-06-21T18:04:23.126Z"
   },
   {
    "duration": 44,
    "start_time": "2025-06-21T18:04:23.148Z"
   },
   {
    "duration": 24,
    "start_time": "2025-06-21T18:04:23.195Z"
   },
   {
    "duration": 15,
    "start_time": "2025-06-21T18:04:23.220Z"
   },
   {
    "duration": 44,
    "start_time": "2025-06-21T18:04:23.236Z"
   },
   {
    "duration": 56,
    "start_time": "2025-06-21T18:04:23.281Z"
   },
   {
    "duration": 16,
    "start_time": "2025-06-21T18:04:23.338Z"
   },
   {
    "duration": 22,
    "start_time": "2025-06-21T18:04:23.356Z"
   },
   {
    "duration": 55,
    "start_time": "2025-06-21T18:04:23.380Z"
   },
   {
    "duration": 17,
    "start_time": "2025-06-21T18:04:23.437Z"
   },
   {
    "duration": 25,
    "start_time": "2025-06-21T18:04:23.455Z"
   },
   {
    "duration": 183,
    "start_time": "2025-06-21T18:04:23.482Z"
   },
   {
    "duration": 392,
    "start_time": "2025-06-21T18:04:23.667Z"
   },
   {
    "duration": 1029,
    "start_time": "2025-06-21T18:04:24.061Z"
   },
   {
    "duration": 961,
    "start_time": "2025-06-21T18:04:25.092Z"
   },
   {
    "duration": 1472,
    "start_time": "2025-06-21T18:04:26.055Z"
   },
   {
    "duration": 179,
    "start_time": "2025-06-21T18:04:27.529Z"
   },
   {
    "duration": 178,
    "start_time": "2025-06-21T18:04:27.709Z"
   },
   {
    "duration": 588,
    "start_time": "2025-06-21T18:04:27.889Z"
   },
   {
    "duration": 258,
    "start_time": "2025-06-21T18:04:28.479Z"
   },
   {
    "duration": 313,
    "start_time": "2025-06-21T18:04:28.739Z"
   },
   {
    "duration": 120,
    "start_time": "2025-06-21T18:04:29.054Z"
   },
   {
    "duration": 127,
    "start_time": "2025-06-21T18:04:29.176Z"
   },
   {
    "duration": 196,
    "start_time": "2025-06-21T18:04:29.305Z"
   },
   {
    "duration": 273,
    "start_time": "2025-06-21T18:04:29.504Z"
   },
   {
    "duration": 27,
    "start_time": "2025-06-21T18:04:29.778Z"
   },
   {
    "duration": 33,
    "start_time": "2025-06-21T18:08:42.593Z"
   },
   {
    "duration": 55,
    "start_time": "2025-06-21T18:09:46.341Z"
   },
   {
    "duration": 3,
    "start_time": "2025-06-21T18:12:14.228Z"
   },
   {
    "duration": 77,
    "start_time": "2025-06-21T18:12:14.232Z"
   },
   {
    "duration": 26,
    "start_time": "2025-06-21T18:12:14.310Z"
   },
   {
    "duration": 21,
    "start_time": "2025-06-21T18:12:14.338Z"
   },
   {
    "duration": 16,
    "start_time": "2025-06-21T18:12:14.361Z"
   },
   {
    "duration": 38,
    "start_time": "2025-06-21T18:12:14.378Z"
   },
   {
    "duration": 12,
    "start_time": "2025-06-21T18:12:14.418Z"
   },
   {
    "duration": 26,
    "start_time": "2025-06-21T18:12:14.431Z"
   },
   {
    "duration": 9,
    "start_time": "2025-06-21T18:12:14.458Z"
   },
   {
    "duration": 40,
    "start_time": "2025-06-21T18:12:14.469Z"
   },
   {
    "duration": 36,
    "start_time": "2025-06-21T18:12:14.512Z"
   },
   {
    "duration": 52,
    "start_time": "2025-06-21T18:12:14.549Z"
   },
   {
    "duration": 17,
    "start_time": "2025-06-21T18:12:14.603Z"
   },
   {
    "duration": 215,
    "start_time": "2025-06-21T18:12:14.624Z"
   },
   {
    "duration": 420,
    "start_time": "2025-06-21T18:12:14.841Z"
   },
   {
    "duration": 1006,
    "start_time": "2025-06-21T18:12:15.262Z"
   },
   {
    "duration": 1021,
    "start_time": "2025-06-21T18:12:16.270Z"
   },
   {
    "duration": 1449,
    "start_time": "2025-06-21T18:12:17.293Z"
   },
   {
    "duration": 175,
    "start_time": "2025-06-21T18:12:18.744Z"
   },
   {
    "duration": 268,
    "start_time": "2025-06-21T18:12:18.921Z"
   },
   {
    "duration": 604,
    "start_time": "2025-06-21T18:12:19.191Z"
   },
   {
    "duration": 160,
    "start_time": "2025-06-21T18:12:19.796Z"
   },
   {
    "duration": 322,
    "start_time": "2025-06-21T18:12:19.959Z"
   },
   {
    "duration": 136,
    "start_time": "2025-06-21T18:12:20.283Z"
   },
   {
    "duration": 117,
    "start_time": "2025-06-21T18:12:20.422Z"
   },
   {
    "duration": 205,
    "start_time": "2025-06-21T18:12:20.540Z"
   },
   {
    "duration": 276,
    "start_time": "2025-06-21T18:12:20.747Z"
   },
   {
    "duration": 49,
    "start_time": "2025-06-21T18:12:21.024Z"
   },
   {
    "duration": 8,
    "start_time": "2025-06-21T18:15:32.572Z"
   },
   {
    "duration": 1343,
    "start_time": "2025-06-22T05:09:32.938Z"
   },
   {
    "duration": 78,
    "start_time": "2025-06-22T05:09:34.283Z"
   },
   {
    "duration": 28,
    "start_time": "2025-06-22T05:09:34.363Z"
   },
   {
    "duration": 22,
    "start_time": "2025-06-22T05:09:34.392Z"
   },
   {
    "duration": 43,
    "start_time": "2025-06-22T05:09:34.416Z"
   },
   {
    "duration": 16,
    "start_time": "2025-06-22T05:09:34.460Z"
   },
   {
    "duration": 12,
    "start_time": "2025-06-22T05:09:34.478Z"
   },
   {
    "duration": 21,
    "start_time": "2025-06-22T05:09:34.491Z"
   },
   {
    "duration": 44,
    "start_time": "2025-06-22T05:09:34.514Z"
   },
   {
    "duration": 10,
    "start_time": "2025-06-22T05:09:34.560Z"
   },
   {
    "duration": 35,
    "start_time": "2025-06-22T05:09:34.572Z"
   },
   {
    "duration": 19,
    "start_time": "2025-06-22T05:09:34.608Z"
   },
   {
    "duration": 35,
    "start_time": "2025-06-22T05:09:34.629Z"
   },
   {
    "duration": 178,
    "start_time": "2025-06-22T05:09:34.667Z"
   },
   {
    "duration": 436,
    "start_time": "2025-06-22T05:09:34.847Z"
   },
   {
    "duration": 934,
    "start_time": "2025-06-22T05:09:35.284Z"
   },
   {
    "duration": 914,
    "start_time": "2025-06-22T05:09:36.220Z"
   },
   {
    "duration": 1438,
    "start_time": "2025-06-22T05:09:37.136Z"
   },
   {
    "duration": 166,
    "start_time": "2025-06-22T05:09:38.576Z"
   },
   {
    "duration": 165,
    "start_time": "2025-06-22T05:09:38.744Z"
   },
   {
    "duration": 679,
    "start_time": "2025-06-22T05:09:38.911Z"
   },
   {
    "duration": 153,
    "start_time": "2025-06-22T05:09:39.592Z"
   },
   {
    "duration": 314,
    "start_time": "2025-06-22T05:09:39.747Z"
   },
   {
    "duration": 119,
    "start_time": "2025-06-22T05:09:40.062Z"
   },
   {
    "duration": 112,
    "start_time": "2025-06-22T05:09:40.183Z"
   },
   {
    "duration": 187,
    "start_time": "2025-06-22T05:09:40.297Z"
   },
   {
    "duration": 258,
    "start_time": "2025-06-22T05:09:40.486Z"
   },
   {
    "duration": 55,
    "start_time": "2025-06-22T05:09:40.745Z"
   },
   {
    "duration": 80,
    "start_time": "2025-06-22T05:09:40.802Z"
   },
   {
    "duration": 9,
    "start_time": "2025-06-22T05:10:46.013Z"
   },
   {
    "duration": 18,
    "start_time": "2025-06-22T05:11:37.137Z"
   },
   {
    "duration": 3,
    "start_time": "2025-06-22T05:17:47.954Z"
   },
   {
    "duration": 77,
    "start_time": "2025-06-22T05:17:47.959Z"
   },
   {
    "duration": 24,
    "start_time": "2025-06-22T05:17:48.037Z"
   },
   {
    "duration": 17,
    "start_time": "2025-06-22T05:17:48.064Z"
   },
   {
    "duration": 58,
    "start_time": "2025-06-22T05:17:48.083Z"
   },
   {
    "duration": 16,
    "start_time": "2025-06-22T05:17:48.143Z"
   },
   {
    "duration": 10,
    "start_time": "2025-06-22T05:17:48.160Z"
   },
   {
    "duration": 21,
    "start_time": "2025-06-22T05:17:48.171Z"
   },
   {
    "duration": 6,
    "start_time": "2025-06-22T05:17:48.193Z"
   },
   {
    "duration": 9,
    "start_time": "2025-06-22T05:17:48.201Z"
   },
   {
    "duration": 60,
    "start_time": "2025-06-22T05:17:48.212Z"
   },
   {
    "duration": 17,
    "start_time": "2025-06-22T05:17:48.274Z"
   },
   {
    "duration": 8,
    "start_time": "2025-06-22T05:17:48.293Z"
   },
   {
    "duration": 176,
    "start_time": "2025-06-22T05:17:48.302Z"
   },
   {
    "duration": 388,
    "start_time": "2025-06-22T05:17:48.480Z"
   },
   {
    "duration": 921,
    "start_time": "2025-06-22T05:17:48.869Z"
   },
   {
    "duration": 925,
    "start_time": "2025-06-22T05:17:49.792Z"
   },
   {
    "duration": 1370,
    "start_time": "2025-06-22T05:17:50.718Z"
   },
   {
    "duration": 234,
    "start_time": "2025-06-22T05:17:52.089Z"
   },
   {
    "duration": 158,
    "start_time": "2025-06-22T05:17:52.325Z"
   },
   {
    "duration": 575,
    "start_time": "2025-06-22T05:17:52.485Z"
   },
   {
    "duration": 147,
    "start_time": "2025-06-22T05:17:53.061Z"
   },
   {
    "duration": 301,
    "start_time": "2025-06-22T05:17:53.209Z"
   },
   {
    "duration": 118,
    "start_time": "2025-06-22T05:17:53.512Z"
   },
   {
    "duration": 107,
    "start_time": "2025-06-22T05:17:53.631Z"
   },
   {
    "duration": 184,
    "start_time": "2025-06-22T05:17:53.739Z"
   },
   {
    "duration": 255,
    "start_time": "2025-06-22T05:17:53.925Z"
   },
   {
    "duration": 135,
    "start_time": "2025-06-22T05:17:54.183Z"
   },
   {
    "duration": 8,
    "start_time": "2025-06-22T05:17:54.319Z"
   },
   {
    "duration": 81,
    "start_time": "2025-06-22T05:17:54.329Z"
   },
   {
    "duration": 1428,
    "start_time": "2025-06-22T05:23:18.490Z"
   },
   {
    "duration": 1409,
    "start_time": "2025-06-22T05:40:13.211Z"
   },
   {
    "duration": 105,
    "start_time": "2025-06-22T05:58:14.456Z"
   },
   {
    "duration": 1463,
    "start_time": "2025-06-22T05:58:20.077Z"
   },
   {
    "duration": 14412,
    "start_time": "2025-06-22T05:58:23.117Z"
   },
   {
    "duration": 4370,
    "start_time": "2025-06-22T06:16:19.567Z"
   },
   {
    "duration": 20,
    "start_time": "2025-06-22T06:21:30.832Z"
   },
   {
    "duration": 1629,
    "start_time": "2025-06-22T06:22:39.457Z"
   },
   {
    "duration": 213,
    "start_time": "2025-06-22T06:22:56.302Z"
   },
   {
    "duration": 1107,
    "start_time": "2025-06-22T06:28:18.341Z"
   },
   {
    "duration": 23,
    "start_time": "2025-06-22T06:29:07.670Z"
   },
   {
    "duration": 12,
    "start_time": "2025-06-22T06:30:04.696Z"
   },
   {
    "duration": 14,
    "start_time": "2025-06-22T06:30:07.612Z"
   },
   {
    "duration": 3,
    "start_time": "2025-06-22T06:30:59.452Z"
   },
   {
    "duration": 159,
    "start_time": "2025-06-22T06:30:59.457Z"
   },
   {
    "duration": 34,
    "start_time": "2025-06-22T06:30:59.617Z"
   },
   {
    "duration": 25,
    "start_time": "2025-06-22T06:30:59.653Z"
   },
   {
    "duration": 20,
    "start_time": "2025-06-22T06:30:59.681Z"
   },
   {
    "duration": 15,
    "start_time": "2025-06-22T06:30:59.702Z"
   },
   {
    "duration": 10,
    "start_time": "2025-06-22T06:30:59.719Z"
   },
   {
    "duration": 41,
    "start_time": "2025-06-22T06:30:59.760Z"
   },
   {
    "duration": 7,
    "start_time": "2025-06-22T06:30:59.803Z"
   },
   {
    "duration": 11,
    "start_time": "2025-06-22T06:30:59.811Z"
   },
   {
    "duration": 63,
    "start_time": "2025-06-22T06:30:59.823Z"
   },
   {
    "duration": 96,
    "start_time": "2025-06-22T06:30:59.887Z"
   },
   {
    "duration": 11,
    "start_time": "2025-06-22T06:30:59.985Z"
   },
   {
    "duration": 178,
    "start_time": "2025-06-22T06:30:59.998Z"
   },
   {
    "duration": 444,
    "start_time": "2025-06-22T06:31:00.183Z"
   },
   {
    "duration": 1154,
    "start_time": "2025-06-22T06:31:00.629Z"
   },
   {
    "duration": 994,
    "start_time": "2025-06-22T06:31:01.785Z"
   },
   {
    "duration": 1642,
    "start_time": "2025-06-22T06:31:02.781Z"
   },
   {
    "duration": 180,
    "start_time": "2025-06-22T06:31:04.425Z"
   },
   {
    "duration": 225,
    "start_time": "2025-06-22T06:31:04.607Z"
   },
   {
    "duration": 750,
    "start_time": "2025-06-22T06:31:04.833Z"
   },
   {
    "duration": 183,
    "start_time": "2025-06-22T06:31:05.585Z"
   },
   {
    "duration": 514,
    "start_time": "2025-06-22T06:31:05.781Z"
   },
   {
    "duration": 135,
    "start_time": "2025-06-22T06:31:06.297Z"
   },
   {
    "duration": 134,
    "start_time": "2025-06-22T06:31:06.434Z"
   },
   {
    "duration": 327,
    "start_time": "2025-06-22T06:31:06.570Z"
   },
   {
    "duration": 316,
    "start_time": "2025-06-22T06:31:06.899Z"
   },
   {
    "duration": 56,
    "start_time": "2025-06-22T06:31:07.216Z"
   },
   {
    "duration": 20,
    "start_time": "2025-06-22T06:31:07.278Z"
   },
   {
    "duration": 25,
    "start_time": "2025-06-22T06:31:07.300Z"
   },
   {
    "duration": 1608,
    "start_time": "2025-06-22T06:31:07.326Z"
   },
   {
    "duration": 240,
    "start_time": "2025-06-22T06:31:08.936Z"
   },
   {
    "duration": 16,
    "start_time": "2025-06-22T06:31:09.178Z"
   },
   {
    "duration": 17,
    "start_time": "2025-06-22T06:31:09.195Z"
   },
   {
    "duration": 1653,
    "start_time": "2025-06-22T06:32:12.102Z"
   },
   {
    "duration": 1736,
    "start_time": "2025-06-22T06:32:54.394Z"
   },
   {
    "duration": 2,
    "start_time": "2025-06-22T06:33:37.933Z"
   },
   {
    "duration": 117,
    "start_time": "2025-06-22T06:33:37.938Z"
   },
   {
    "duration": 37,
    "start_time": "2025-06-22T06:33:38.057Z"
   },
   {
    "duration": 16,
    "start_time": "2025-06-22T06:33:38.098Z"
   },
   {
    "duration": 14,
    "start_time": "2025-06-22T06:33:38.116Z"
   },
   {
    "duration": 67,
    "start_time": "2025-06-22T06:33:38.132Z"
   },
   {
    "duration": 10,
    "start_time": "2025-06-22T06:33:38.201Z"
   },
   {
    "duration": 19,
    "start_time": "2025-06-22T06:33:38.212Z"
   },
   {
    "duration": 5,
    "start_time": "2025-06-22T06:33:38.232Z"
   },
   {
    "duration": 9,
    "start_time": "2025-06-22T06:33:38.239Z"
   },
   {
    "duration": 55,
    "start_time": "2025-06-22T06:33:38.250Z"
   },
   {
    "duration": 17,
    "start_time": "2025-06-22T06:33:38.307Z"
   },
   {
    "duration": 7,
    "start_time": "2025-06-22T06:33:38.326Z"
   },
   {
    "duration": 196,
    "start_time": "2025-06-22T06:33:38.334Z"
   },
   {
    "duration": 471,
    "start_time": "2025-06-22T06:33:38.533Z"
   },
   {
    "duration": 1075,
    "start_time": "2025-06-22T06:33:39.006Z"
   },
   {
    "duration": 1036,
    "start_time": "2025-06-22T06:33:40.089Z"
   },
   {
    "duration": 1713,
    "start_time": "2025-06-22T06:33:41.126Z"
   },
   {
    "duration": 187,
    "start_time": "2025-06-22T06:33:42.840Z"
   },
   {
    "duration": 193,
    "start_time": "2025-06-22T06:33:43.028Z"
   },
   {
    "duration": 691,
    "start_time": "2025-06-22T06:33:43.223Z"
   },
   {
    "duration": 275,
    "start_time": "2025-06-22T06:33:43.915Z"
   },
   {
    "duration": 351,
    "start_time": "2025-06-22T06:33:44.192Z"
   },
   {
    "duration": 143,
    "start_time": "2025-06-22T06:33:44.545Z"
   },
   {
    "duration": 127,
    "start_time": "2025-06-22T06:33:44.690Z"
   },
   {
    "duration": 211,
    "start_time": "2025-06-22T06:33:44.818Z"
   },
   {
    "duration": 352,
    "start_time": "2025-06-22T06:33:45.030Z"
   },
   {
    "duration": 50,
    "start_time": "2025-06-22T06:33:45.392Z"
   },
   {
    "duration": 20,
    "start_time": "2025-06-22T06:33:45.443Z"
   },
   {
    "duration": 66,
    "start_time": "2025-06-22T06:33:45.464Z"
   },
   {
    "duration": 1597,
    "start_time": "2025-06-22T06:33:45.531Z"
   },
   {
    "duration": 239,
    "start_time": "2025-06-22T06:33:47.130Z"
   },
   {
    "duration": 25,
    "start_time": "2025-06-22T06:33:47.370Z"
   },
   {
    "duration": 92,
    "start_time": "2025-06-22T06:33:47.397Z"
   },
   {
    "duration": 1687,
    "start_time": "2025-06-22T06:33:47.495Z"
   },
   {
    "duration": 449,
    "start_time": "2025-06-22T06:39:53.470Z"
   },
   {
    "duration": 500,
    "start_time": "2025-06-22T06:40:23.327Z"
   },
   {
    "duration": 261,
    "start_time": "2025-06-22T06:40:49.891Z"
   },
   {
    "duration": 357,
    "start_time": "2025-06-22T06:56:40.530Z"
   },
   {
    "duration": 5,
    "start_time": "2025-06-22T07:00:49.145Z"
   },
   {
    "duration": 8,
    "start_time": "2025-06-22T07:01:46.156Z"
   },
   {
    "duration": 1429,
    "start_time": "2025-06-22T13:13:34.462Z"
   },
   {
    "duration": 90,
    "start_time": "2025-06-22T13:13:35.893Z"
   },
   {
    "duration": 34,
    "start_time": "2025-06-22T13:13:35.984Z"
   },
   {
    "duration": 60,
    "start_time": "2025-06-22T13:13:36.020Z"
   },
   {
    "duration": 67,
    "start_time": "2025-06-22T13:13:36.082Z"
   },
   {
    "duration": 53,
    "start_time": "2025-06-22T13:13:36.150Z"
   },
   {
    "duration": 208,
    "start_time": "2025-06-22T13:13:36.204Z"
   },
   {
    "duration": 78,
    "start_time": "2025-06-22T13:13:36.413Z"
   },
   {
    "duration": 46,
    "start_time": "2025-06-22T13:13:36.493Z"
   },
   {
    "duration": 75,
    "start_time": "2025-06-22T13:13:36.541Z"
   },
   {
    "duration": 77,
    "start_time": "2025-06-22T13:13:36.617Z"
   },
   {
    "duration": 50,
    "start_time": "2025-06-22T13:13:36.696Z"
   },
   {
    "duration": 50,
    "start_time": "2025-06-22T13:13:36.748Z"
   },
   {
    "duration": 209,
    "start_time": "2025-06-22T13:13:36.801Z"
   },
   {
    "duration": 423,
    "start_time": "2025-06-22T13:13:37.011Z"
   },
   {
    "duration": 1004,
    "start_time": "2025-06-22T13:13:37.435Z"
   },
   {
    "duration": 933,
    "start_time": "2025-06-22T13:13:38.441Z"
   },
   {
    "duration": 1493,
    "start_time": "2025-06-22T13:13:39.375Z"
   },
   {
    "duration": 191,
    "start_time": "2025-06-22T13:13:40.870Z"
   },
   {
    "duration": 168,
    "start_time": "2025-06-22T13:13:41.063Z"
   },
   {
    "duration": 739,
    "start_time": "2025-06-22T13:13:41.233Z"
   },
   {
    "duration": 165,
    "start_time": "2025-06-22T13:13:41.974Z"
   },
   {
    "duration": 332,
    "start_time": "2025-06-22T13:13:42.141Z"
   },
   {
    "duration": 122,
    "start_time": "2025-06-22T13:13:42.475Z"
   },
   {
    "duration": 130,
    "start_time": "2025-06-22T13:13:42.598Z"
   },
   {
    "duration": 205,
    "start_time": "2025-06-22T13:13:42.730Z"
   },
   {
    "duration": 269,
    "start_time": "2025-06-22T13:13:42.937Z"
   },
   {
    "duration": 61,
    "start_time": "2025-06-22T13:13:43.207Z"
   },
   {
    "duration": 10,
    "start_time": "2025-06-22T13:13:43.270Z"
   },
   {
    "duration": 18,
    "start_time": "2025-06-22T13:13:43.281Z"
   },
   {
    "duration": 1507,
    "start_time": "2025-06-22T13:13:43.301Z"
   },
   {
    "duration": 192,
    "start_time": "2025-06-22T13:13:44.810Z"
   },
   {
    "duration": 15,
    "start_time": "2025-06-22T13:13:45.003Z"
   },
   {
    "duration": 71,
    "start_time": "2025-06-22T13:13:45.019Z"
   },
   {
    "duration": 1495,
    "start_time": "2025-06-22T13:13:45.091Z"
   },
   {
    "duration": 446,
    "start_time": "2025-06-22T13:13:46.588Z"
   },
   {
    "duration": 122,
    "start_time": "2025-06-22T13:13:47.039Z"
   },
   {
    "duration": 0,
    "start_time": "2025-06-22T13:13:47.162Z"
   },
   {
    "duration": 0,
    "start_time": "2025-06-22T13:13:47.164Z"
   },
   {
    "duration": 3,
    "start_time": "2025-06-22T13:14:25.298Z"
   },
   {
    "duration": 115,
    "start_time": "2025-06-22T13:14:25.304Z"
   },
   {
    "duration": 25,
    "start_time": "2025-06-22T13:14:25.421Z"
   },
   {
    "duration": 19,
    "start_time": "2025-06-22T13:14:25.448Z"
   },
   {
    "duration": 19,
    "start_time": "2025-06-22T13:14:25.469Z"
   },
   {
    "duration": 20,
    "start_time": "2025-06-22T13:14:25.489Z"
   },
   {
    "duration": 41,
    "start_time": "2025-06-22T13:14:25.511Z"
   },
   {
    "duration": 24,
    "start_time": "2025-06-22T13:14:25.554Z"
   },
   {
    "duration": 6,
    "start_time": "2025-06-22T13:14:25.579Z"
   },
   {
    "duration": 21,
    "start_time": "2025-06-22T13:14:25.587Z"
   },
   {
    "duration": 53,
    "start_time": "2025-06-22T13:14:25.609Z"
   },
   {
    "duration": 26,
    "start_time": "2025-06-22T13:14:25.663Z"
   },
   {
    "duration": 27,
    "start_time": "2025-06-22T13:14:25.691Z"
   },
   {
    "duration": 175,
    "start_time": "2025-06-22T13:14:25.720Z"
   },
   {
    "duration": 427,
    "start_time": "2025-06-22T13:14:25.896Z"
   },
   {
    "duration": 983,
    "start_time": "2025-06-22T13:14:26.325Z"
   },
   {
    "duration": 1056,
    "start_time": "2025-06-22T13:14:27.310Z"
   },
   {
    "duration": 1404,
    "start_time": "2025-06-22T13:14:28.367Z"
   },
   {
    "duration": 173,
    "start_time": "2025-06-22T13:14:29.772Z"
   },
   {
    "duration": 173,
    "start_time": "2025-06-22T13:14:29.947Z"
   },
   {
    "duration": 728,
    "start_time": "2025-06-22T13:14:30.121Z"
   },
   {
    "duration": 190,
    "start_time": "2025-06-22T13:14:30.851Z"
   },
   {
    "duration": 322,
    "start_time": "2025-06-22T13:14:31.042Z"
   },
   {
    "duration": 138,
    "start_time": "2025-06-22T13:14:31.365Z"
   },
   {
    "duration": 126,
    "start_time": "2025-06-22T13:14:31.505Z"
   },
   {
    "duration": 203,
    "start_time": "2025-06-22T13:14:31.638Z"
   },
   {
    "duration": 251,
    "start_time": "2025-06-22T13:14:31.843Z"
   },
   {
    "duration": 60,
    "start_time": "2025-06-22T13:14:32.097Z"
   },
   {
    "duration": 10,
    "start_time": "2025-06-22T13:14:32.159Z"
   },
   {
    "duration": 35,
    "start_time": "2025-06-22T13:14:32.170Z"
   },
   {
    "duration": 1572,
    "start_time": "2025-06-22T13:14:32.207Z"
   },
   {
    "duration": 211,
    "start_time": "2025-06-22T13:14:33.781Z"
   },
   {
    "duration": 15,
    "start_time": "2025-06-22T13:14:33.994Z"
   },
   {
    "duration": 150,
    "start_time": "2025-06-22T13:14:34.011Z"
   },
   {
    "duration": 1406,
    "start_time": "2025-06-22T13:14:34.163Z"
   },
   {
    "duration": 456,
    "start_time": "2025-06-22T13:14:35.571Z"
   },
   {
    "duration": 414,
    "start_time": "2025-06-22T13:14:36.029Z"
   },
   {
    "duration": 269,
    "start_time": "2025-06-22T13:14:36.445Z"
   },
   {
    "duration": 7,
    "start_time": "2025-06-22T13:14:36.716Z"
   },
   {
    "duration": 451,
    "start_time": "2025-06-22T13:17:54.646Z"
   },
   {
    "duration": 6,
    "start_time": "2025-06-22T13:22:27.790Z"
   },
   {
    "duration": 12,
    "start_time": "2025-06-22T13:22:54.194Z"
   },
   {
    "duration": 29,
    "start_time": "2025-06-22T13:23:05.131Z"
   },
   {
    "duration": 5,
    "start_time": "2025-06-22T13:24:07.997Z"
   },
   {
    "duration": 28,
    "start_time": "2025-06-22T13:24:59.048Z"
   },
   {
    "duration": 4,
    "start_time": "2025-06-22T13:33:02.286Z"
   },
   {
    "duration": 11428,
    "start_time": "2025-06-22T13:34:31.952Z"
   },
   {
    "duration": 32,
    "start_time": "2025-06-22T13:36:40.976Z"
   },
   {
    "duration": 5,
    "start_time": "2025-06-22T13:37:19.415Z"
   },
   {
    "duration": 11858,
    "start_time": "2025-06-22T13:37:26.497Z"
   },
   {
    "duration": 32,
    "start_time": "2025-06-22T13:39:41.796Z"
   },
   {
    "duration": 6926,
    "start_time": "2025-06-22T13:50:34.525Z"
   },
   {
    "duration": 4754,
    "start_time": "2025-06-22T13:50:55.255Z"
   },
   {
    "duration": 52,
    "start_time": "2025-06-22T13:51:28.217Z"
   },
   {
    "duration": 87,
    "start_time": "2025-06-22T13:53:18.861Z"
   },
   {
    "duration": 28,
    "start_time": "2025-06-22T13:53:23.117Z"
   },
   {
    "duration": 31,
    "start_time": "2025-06-22T13:53:48.726Z"
   },
   {
    "duration": 44,
    "start_time": "2025-06-22T13:54:05.940Z"
   },
   {
    "duration": 44,
    "start_time": "2025-06-22T13:55:22.438Z"
   },
   {
    "duration": 8385,
    "start_time": "2025-06-22T13:56:44.847Z"
   },
   {
    "duration": 87,
    "start_time": "2025-06-22T13:56:53.234Z"
   },
   {
    "duration": 33,
    "start_time": "2025-06-22T13:56:53.322Z"
   },
   {
    "duration": 21,
    "start_time": "2025-06-22T13:56:53.358Z"
   },
   {
    "duration": 17,
    "start_time": "2025-06-22T13:56:53.381Z"
   },
   {
    "duration": 61,
    "start_time": "2025-06-22T13:56:53.400Z"
   },
   {
    "duration": 110,
    "start_time": "2025-06-22T13:56:53.463Z"
   },
   {
    "duration": 21,
    "start_time": "2025-06-22T13:56:53.575Z"
   },
   {
    "duration": 5,
    "start_time": "2025-06-22T13:56:53.598Z"
   },
   {
    "duration": 18,
    "start_time": "2025-06-22T13:56:53.605Z"
   },
   {
    "duration": 46,
    "start_time": "2025-06-22T13:56:53.624Z"
   },
   {
    "duration": 20,
    "start_time": "2025-06-22T13:56:53.672Z"
   },
   {
    "duration": 9,
    "start_time": "2025-06-22T13:56:53.695Z"
   },
   {
    "duration": 241,
    "start_time": "2025-06-22T13:56:53.708Z"
   },
   {
    "duration": 441,
    "start_time": "2025-06-22T13:56:53.957Z"
   },
   {
    "duration": 936,
    "start_time": "2025-06-22T13:56:54.400Z"
   },
   {
    "duration": 1165,
    "start_time": "2025-06-22T13:56:55.337Z"
   },
   {
    "duration": 1616,
    "start_time": "2025-06-22T13:56:56.503Z"
   },
   {
    "duration": 322,
    "start_time": "2025-06-22T13:56:58.120Z"
   },
   {
    "duration": 192,
    "start_time": "2025-06-22T13:56:58.445Z"
   },
   {
    "duration": 626,
    "start_time": "2025-06-22T13:56:58.640Z"
   },
   {
    "duration": 157,
    "start_time": "2025-06-22T13:56:59.268Z"
   },
   {
    "duration": 373,
    "start_time": "2025-06-22T13:56:59.427Z"
   },
   {
    "duration": 134,
    "start_time": "2025-06-22T13:56:59.802Z"
   },
   {
    "duration": 146,
    "start_time": "2025-06-22T13:56:59.937Z"
   },
   {
    "duration": 210,
    "start_time": "2025-06-22T13:57:00.084Z"
   },
   {
    "duration": 268,
    "start_time": "2025-06-22T13:57:00.296Z"
   },
   {
    "duration": 48,
    "start_time": "2025-06-22T13:57:00.566Z"
   },
   {
    "duration": 145,
    "start_time": "2025-06-22T13:57:00.616Z"
   },
   {
    "duration": 25,
    "start_time": "2025-06-22T13:57:00.765Z"
   },
   {
    "duration": 1938,
    "start_time": "2025-06-22T13:57:00.792Z"
   },
   {
    "duration": 215,
    "start_time": "2025-06-22T13:57:02.740Z"
   },
   {
    "duration": 13,
    "start_time": "2025-06-22T13:57:02.959Z"
   },
   {
    "duration": 46,
    "start_time": "2025-06-22T13:57:02.974Z"
   },
   {
    "duration": 1560,
    "start_time": "2025-06-22T13:57:03.022Z"
   },
   {
    "duration": 509,
    "start_time": "2025-06-22T13:57:04.583Z"
   },
   {
    "duration": 475,
    "start_time": "2025-06-22T13:57:05.094Z"
   },
   {
    "duration": 263,
    "start_time": "2025-06-22T13:57:05.570Z"
   },
   {
    "duration": 20,
    "start_time": "2025-06-22T13:57:05.839Z"
   },
   {
    "duration": 34,
    "start_time": "2025-06-22T13:57:05.862Z"
   },
   {
    "duration": 24,
    "start_time": "2025-06-22T13:57:05.900Z"
   },
   {
    "duration": 11300,
    "start_time": "2025-06-22T13:57:05.926Z"
   },
   {
    "duration": 42,
    "start_time": "2025-06-22T13:57:17.228Z"
   },
   {
    "duration": 33,
    "start_time": "2025-06-22T13:57:17.272Z"
   },
   {
    "duration": 19,
    "start_time": "2025-06-22T13:58:26.175Z"
   },
   {
    "duration": 45,
    "start_time": "2025-06-22T13:59:43.428Z"
   },
   {
    "duration": 4721,
    "start_time": "2025-06-22T14:01:23.208Z"
   },
   {
    "duration": 79,
    "start_time": "2025-06-22T14:01:27.931Z"
   },
   {
    "duration": 45,
    "start_time": "2025-06-22T14:01:28.012Z"
   },
   {
    "duration": 19,
    "start_time": "2025-06-22T14:01:28.060Z"
   },
   {
    "duration": 20,
    "start_time": "2025-06-22T14:01:28.080Z"
   },
   {
    "duration": 40,
    "start_time": "2025-06-22T14:01:28.101Z"
   },
   {
    "duration": 18,
    "start_time": "2025-06-22T14:01:28.144Z"
   },
   {
    "duration": 27,
    "start_time": "2025-06-22T14:01:28.164Z"
   },
   {
    "duration": 5,
    "start_time": "2025-06-22T14:01:28.193Z"
   },
   {
    "duration": 10,
    "start_time": "2025-06-22T14:01:28.201Z"
   },
   {
    "duration": 40,
    "start_time": "2025-06-22T14:01:28.239Z"
   },
   {
    "duration": 26,
    "start_time": "2025-06-22T14:01:28.281Z"
   },
   {
    "duration": 58,
    "start_time": "2025-06-22T14:01:28.308Z"
   },
   {
    "duration": 190,
    "start_time": "2025-06-22T14:01:28.368Z"
   },
   {
    "duration": 428,
    "start_time": "2025-06-22T14:01:28.560Z"
   },
   {
    "duration": 1006,
    "start_time": "2025-06-22T14:01:28.989Z"
   },
   {
    "duration": 991,
    "start_time": "2025-06-22T14:01:29.996Z"
   },
   {
    "duration": 1659,
    "start_time": "2025-06-22T14:01:30.989Z"
   },
   {
    "duration": 179,
    "start_time": "2025-06-22T14:01:32.651Z"
   },
   {
    "duration": 182,
    "start_time": "2025-06-22T14:01:32.838Z"
   },
   {
    "duration": 699,
    "start_time": "2025-06-22T14:01:33.022Z"
   },
   {
    "duration": 168,
    "start_time": "2025-06-22T14:01:33.723Z"
   },
   {
    "duration": 340,
    "start_time": "2025-06-22T14:01:33.893Z"
   },
   {
    "duration": 143,
    "start_time": "2025-06-22T14:01:34.235Z"
   },
   {
    "duration": 266,
    "start_time": "2025-06-22T14:01:34.380Z"
   },
   {
    "duration": 209,
    "start_time": "2025-06-22T14:01:34.649Z"
   },
   {
    "duration": 269,
    "start_time": "2025-06-22T14:01:34.860Z"
   },
   {
    "duration": 51,
    "start_time": "2025-06-22T14:01:35.143Z"
   },
   {
    "duration": 8,
    "start_time": "2025-06-22T14:01:35.196Z"
   },
   {
    "duration": 46,
    "start_time": "2025-06-22T14:01:35.206Z"
   },
   {
    "duration": 1450,
    "start_time": "2025-06-22T14:01:35.254Z"
   },
   {
    "duration": 197,
    "start_time": "2025-06-22T14:01:36.706Z"
   },
   {
    "duration": 14,
    "start_time": "2025-06-22T14:01:36.905Z"
   },
   {
    "duration": 32,
    "start_time": "2025-06-22T14:01:36.921Z"
   },
   {
    "duration": 1490,
    "start_time": "2025-06-22T14:01:36.956Z"
   },
   {
    "duration": 425,
    "start_time": "2025-06-22T14:01:38.450Z"
   },
   {
    "duration": 448,
    "start_time": "2025-06-22T14:01:38.877Z"
   },
   {
    "duration": 404,
    "start_time": "2025-06-22T14:01:39.327Z"
   },
   {
    "duration": 10,
    "start_time": "2025-06-22T14:01:39.739Z"
   },
   {
    "duration": 48,
    "start_time": "2025-06-22T14:01:39.752Z"
   },
   {
    "duration": 16,
    "start_time": "2025-06-22T14:01:39.802Z"
   },
   {
    "duration": 10976,
    "start_time": "2025-06-22T14:01:39.820Z"
   },
   {
    "duration": 48,
    "start_time": "2025-06-22T14:01:50.797Z"
   },
   {
    "duration": 189,
    "start_time": "2025-06-22T14:01:50.852Z"
   },
   {
    "duration": 33,
    "start_time": "2025-06-22T14:02:58.708Z"
   },
   {
    "duration": 61,
    "start_time": "2025-06-22T14:12:32.936Z"
   },
   {
    "duration": 31,
    "start_time": "2025-06-22T14:13:27.614Z"
   },
   {
    "duration": 47,
    "start_time": "2025-06-22T14:14:07.609Z"
   },
   {
    "duration": 4994,
    "start_time": "2025-06-22T14:19:55.312Z"
   },
   {
    "duration": 82,
    "start_time": "2025-06-22T14:20:00.308Z"
   },
   {
    "duration": 31,
    "start_time": "2025-06-22T14:20:00.393Z"
   },
   {
    "duration": 49,
    "start_time": "2025-06-22T14:20:00.425Z"
   },
   {
    "duration": 45,
    "start_time": "2025-06-22T14:20:00.477Z"
   },
   {
    "duration": 75,
    "start_time": "2025-06-22T14:20:00.524Z"
   },
   {
    "duration": 90,
    "start_time": "2025-06-22T14:20:00.601Z"
   },
   {
    "duration": 28,
    "start_time": "2025-06-22T14:20:00.693Z"
   },
   {
    "duration": 17,
    "start_time": "2025-06-22T14:20:00.722Z"
   },
   {
    "duration": 26,
    "start_time": "2025-06-22T14:20:00.741Z"
   },
   {
    "duration": 46,
    "start_time": "2025-06-22T14:20:00.768Z"
   },
   {
    "duration": 21,
    "start_time": "2025-06-22T14:20:00.816Z"
   },
   {
    "duration": 20,
    "start_time": "2025-06-22T14:20:00.839Z"
   },
   {
    "duration": 220,
    "start_time": "2025-06-22T14:20:00.865Z"
   },
   {
    "duration": 434,
    "start_time": "2025-06-22T14:20:01.087Z"
   },
   {
    "duration": 1146,
    "start_time": "2025-06-22T14:20:01.523Z"
   },
   {
    "duration": 1012,
    "start_time": "2025-06-22T14:20:02.671Z"
   },
   {
    "duration": 1600,
    "start_time": "2025-06-22T14:20:03.685Z"
   },
   {
    "duration": 175,
    "start_time": "2025-06-22T14:20:05.286Z"
   },
   {
    "duration": 184,
    "start_time": "2025-06-22T14:20:05.463Z"
   },
   {
    "duration": 648,
    "start_time": "2025-06-22T14:20:05.650Z"
   },
   {
    "duration": 178,
    "start_time": "2025-06-22T14:20:06.300Z"
   },
   {
    "duration": 364,
    "start_time": "2025-06-22T14:20:06.480Z"
   },
   {
    "duration": 153,
    "start_time": "2025-06-22T14:20:06.849Z"
   },
   {
    "duration": 281,
    "start_time": "2025-06-22T14:20:07.003Z"
   },
   {
    "duration": 204,
    "start_time": "2025-06-22T14:20:07.286Z"
   },
   {
    "duration": 313,
    "start_time": "2025-06-22T14:20:07.492Z"
   },
   {
    "duration": 63,
    "start_time": "2025-06-22T14:20:07.807Z"
   },
   {
    "duration": 11,
    "start_time": "2025-06-22T14:20:07.872Z"
   },
   {
    "duration": 53,
    "start_time": "2025-06-22T14:20:07.885Z"
   },
   {
    "duration": 1559,
    "start_time": "2025-06-22T14:20:07.941Z"
   },
   {
    "duration": 227,
    "start_time": "2025-06-22T14:20:09.502Z"
   },
   {
    "duration": 21,
    "start_time": "2025-06-22T14:20:09.738Z"
   },
   {
    "duration": 23,
    "start_time": "2025-06-22T14:20:09.761Z"
   },
   {
    "duration": 1615,
    "start_time": "2025-06-22T14:20:09.786Z"
   },
   {
    "duration": 467,
    "start_time": "2025-06-22T14:20:11.402Z"
   },
   {
    "duration": 469,
    "start_time": "2025-06-22T14:20:11.871Z"
   },
   {
    "duration": 450,
    "start_time": "2025-06-22T14:20:12.342Z"
   },
   {
    "duration": 5,
    "start_time": "2025-06-22T14:20:12.794Z"
   },
   {
    "duration": 68,
    "start_time": "2025-06-22T14:20:12.801Z"
   },
   {
    "duration": 4,
    "start_time": "2025-06-22T14:20:12.874Z"
   },
   {
    "duration": 10993,
    "start_time": "2025-06-22T14:20:12.880Z"
   },
   {
    "duration": 32,
    "start_time": "2025-06-22T14:20:23.875Z"
   },
   {
    "duration": 132658,
    "start_time": "2025-06-22T14:20:23.909Z"
   },
   {
    "duration": 9375,
    "start_time": "2025-06-22T14:23:40.868Z"
   },
   {
    "duration": 22,
    "start_time": "2025-06-22T14:24:33.016Z"
   },
   {
    "duration": 12,
    "start_time": "2025-06-22T14:25:41.307Z"
   },
   {
    "duration": 13,
    "start_time": "2025-06-22T14:25:47.716Z"
   },
   {
    "duration": 26,
    "start_time": "2025-06-22T14:27:32.064Z"
   },
   {
    "duration": 5,
    "start_time": "2025-06-22T14:29:12.071Z"
   },
   {
    "duration": 185340,
    "start_time": "2025-06-22T14:30:28.216Z"
   },
   {
    "duration": 4493,
    "start_time": "2025-06-22T14:43:02.796Z"
   },
   {
    "duration": 84,
    "start_time": "2025-06-22T14:43:07.292Z"
   },
   {
    "duration": 30,
    "start_time": "2025-06-22T14:43:07.377Z"
   },
   {
    "duration": 18,
    "start_time": "2025-06-22T14:43:07.409Z"
   },
   {
    "duration": 18,
    "start_time": "2025-06-22T14:43:07.429Z"
   },
   {
    "duration": 30,
    "start_time": "2025-06-22T14:43:07.449Z"
   },
   {
    "duration": 11,
    "start_time": "2025-06-22T14:43:07.481Z"
   },
   {
    "duration": 20,
    "start_time": "2025-06-22T14:43:07.494Z"
   },
   {
    "duration": 6,
    "start_time": "2025-06-22T14:43:07.516Z"
   },
   {
    "duration": 14,
    "start_time": "2025-06-22T14:43:07.540Z"
   },
   {
    "duration": 42,
    "start_time": "2025-06-22T14:43:07.557Z"
   },
   {
    "duration": 51,
    "start_time": "2025-06-22T14:43:07.600Z"
   },
   {
    "duration": 23,
    "start_time": "2025-06-22T14:43:07.653Z"
   },
   {
    "duration": 176,
    "start_time": "2025-06-22T14:43:07.680Z"
   },
   {
    "duration": 399,
    "start_time": "2025-06-22T14:43:07.858Z"
   },
   {
    "duration": 1022,
    "start_time": "2025-06-22T14:43:08.259Z"
   },
   {
    "duration": 912,
    "start_time": "2025-06-22T14:43:09.282Z"
   },
   {
    "duration": 1572,
    "start_time": "2025-06-22T14:43:10.196Z"
   },
   {
    "duration": 168,
    "start_time": "2025-06-22T14:43:11.771Z"
   },
   {
    "duration": 177,
    "start_time": "2025-06-22T14:43:11.941Z"
   },
   {
    "duration": 598,
    "start_time": "2025-06-22T14:43:12.120Z"
   },
   {
    "duration": 156,
    "start_time": "2025-06-22T14:43:12.720Z"
   },
   {
    "duration": 321,
    "start_time": "2025-06-22T14:43:12.878Z"
   },
   {
    "duration": 118,
    "start_time": "2025-06-22T14:43:13.200Z"
   },
   {
    "duration": 258,
    "start_time": "2025-06-22T14:43:13.320Z"
   },
   {
    "duration": 197,
    "start_time": "2025-06-22T14:43:13.580Z"
   },
   {
    "duration": 260,
    "start_time": "2025-06-22T14:43:13.779Z"
   },
   {
    "duration": 46,
    "start_time": "2025-06-22T14:43:14.041Z"
   },
   {
    "duration": 11,
    "start_time": "2025-06-22T14:43:14.090Z"
   },
   {
    "duration": 47,
    "start_time": "2025-06-22T14:43:14.103Z"
   },
   {
    "duration": 1384,
    "start_time": "2025-06-22T14:43:14.152Z"
   },
   {
    "duration": 216,
    "start_time": "2025-06-22T14:43:15.538Z"
   },
   {
    "duration": 12,
    "start_time": "2025-06-22T14:43:15.756Z"
   },
   {
    "duration": 36,
    "start_time": "2025-06-22T14:43:15.770Z"
   },
   {
    "duration": 1444,
    "start_time": "2025-06-22T14:43:15.808Z"
   },
   {
    "duration": 553,
    "start_time": "2025-06-22T14:43:17.255Z"
   },
   {
    "duration": 443,
    "start_time": "2025-06-22T14:43:17.809Z"
   },
   {
    "duration": 421,
    "start_time": "2025-06-22T14:43:18.253Z"
   },
   {
    "duration": 5,
    "start_time": "2025-06-22T14:43:18.676Z"
   },
   {
    "duration": 16,
    "start_time": "2025-06-22T14:43:18.683Z"
   },
   {
    "duration": 8,
    "start_time": "2025-06-22T14:43:18.703Z"
   },
   {
    "duration": 11463,
    "start_time": "2025-06-22T14:43:18.713Z"
   },
   {
    "duration": 33,
    "start_time": "2025-06-22T14:43:30.178Z"
   },
   {
    "duration": 157,
    "start_time": "2025-06-22T14:43:40.968Z"
   },
   {
    "duration": 17628,
    "start_time": "2025-06-22T14:44:45.588Z"
   },
   {
    "duration": 7602,
    "start_time": "2025-06-22T14:45:08.921Z"
   },
   {
    "duration": 182907,
    "start_time": "2025-06-22T14:45:22.872Z"
   },
   {
    "duration": 147269,
    "start_time": "2025-06-22T14:50:10.912Z"
   },
   {
    "duration": 120894,
    "start_time": "2025-06-22T14:53:08.376Z"
   },
   {
    "duration": 18600,
    "start_time": "2025-06-22T14:57:01.231Z"
   },
   {
    "duration": 88,
    "start_time": "2025-06-22T14:57:19.833Z"
   },
   {
    "duration": 32,
    "start_time": "2025-06-22T14:57:19.923Z"
   },
   {
    "duration": 18,
    "start_time": "2025-06-22T14:57:19.957Z"
   },
   {
    "duration": 21,
    "start_time": "2025-06-22T14:57:19.977Z"
   },
   {
    "duration": 41,
    "start_time": "2025-06-22T14:57:19.999Z"
   },
   {
    "duration": 11,
    "start_time": "2025-06-22T14:57:20.041Z"
   },
   {
    "duration": 70,
    "start_time": "2025-06-22T14:57:20.054Z"
   },
   {
    "duration": 6,
    "start_time": "2025-06-22T14:57:20.125Z"
   },
   {
    "duration": 24,
    "start_time": "2025-06-22T14:57:20.132Z"
   },
   {
    "duration": 44,
    "start_time": "2025-06-22T14:57:20.157Z"
   },
   {
    "duration": 22,
    "start_time": "2025-06-22T14:57:20.202Z"
   },
   {
    "duration": 30,
    "start_time": "2025-06-22T14:57:20.226Z"
   },
   {
    "duration": 294,
    "start_time": "2025-06-22T14:57:20.258Z"
   },
   {
    "duration": 723,
    "start_time": "2025-06-22T14:57:20.554Z"
   },
   {
    "duration": 1590,
    "start_time": "2025-06-22T14:57:21.278Z"
   },
   {
    "duration": 1698,
    "start_time": "2025-06-22T14:57:22.870Z"
   },
   {
    "duration": 2337,
    "start_time": "2025-06-22T14:57:24.570Z"
   },
   {
    "duration": 281,
    "start_time": "2025-06-22T14:57:26.909Z"
   },
   {
    "duration": 286,
    "start_time": "2025-06-22T14:57:27.191Z"
   },
   {
    "duration": 941,
    "start_time": "2025-06-22T14:57:27.479Z"
   },
   {
    "duration": 265,
    "start_time": "2025-06-22T14:57:28.422Z"
   },
   {
    "duration": 403,
    "start_time": "2025-06-22T14:57:28.688Z"
   },
   {
    "duration": 181,
    "start_time": "2025-06-22T14:57:29.092Z"
   },
   {
    "duration": 269,
    "start_time": "2025-06-22T14:57:29.275Z"
   },
   {
    "duration": 269,
    "start_time": "2025-06-22T14:57:29.546Z"
   },
   {
    "duration": 259,
    "start_time": "2025-06-22T14:57:29.817Z"
   },
   {
    "duration": 61,
    "start_time": "2025-06-22T14:57:30.079Z"
   },
   {
    "duration": 12,
    "start_time": "2025-06-22T14:57:30.143Z"
   },
   {
    "duration": 39,
    "start_time": "2025-06-22T14:57:30.157Z"
   },
   {
    "duration": 1230,
    "start_time": "2025-06-22T14:57:30.198Z"
   },
   {
    "duration": 313,
    "start_time": "2025-06-22T14:57:31.430Z"
   },
   {
    "duration": 16,
    "start_time": "2025-06-22T14:57:31.745Z"
   },
   {
    "duration": 89,
    "start_time": "2025-06-22T14:57:31.763Z"
   },
   {
    "duration": 979,
    "start_time": "2025-06-22T14:57:31.854Z"
   },
   {
    "duration": 464,
    "start_time": "2025-06-22T14:57:32.839Z"
   },
   {
    "duration": 431,
    "start_time": "2025-06-22T14:57:33.305Z"
   },
   {
    "duration": 255,
    "start_time": "2025-06-22T14:57:33.738Z"
   },
   {
    "duration": 6,
    "start_time": "2025-06-22T14:57:33.995Z"
   },
   {
    "duration": 38,
    "start_time": "2025-06-22T14:57:34.002Z"
   },
   {
    "duration": 30,
    "start_time": "2025-06-22T14:57:34.043Z"
   },
   {
    "duration": 4602,
    "start_time": "2025-06-22T14:57:34.075Z"
   },
   {
    "duration": 31,
    "start_time": "2025-06-22T14:57:38.679Z"
   },
   {
    "duration": 102372,
    "start_time": "2025-06-22T14:57:38.712Z"
   },
   {
    "duration": 138015,
    "start_time": "2025-06-22T15:00:56.195Z"
   },
   {
    "duration": 134277,
    "start_time": "2025-06-22T15:07:47.509Z"
   },
   {
    "duration": 129495,
    "start_time": "2025-06-22T15:11:49.089Z"
   },
   {
    "duration": 130165,
    "start_time": "2025-06-22T15:15:26.327Z"
   },
   {
    "duration": 9883,
    "start_time": "2025-06-22T15:19:25.002Z"
   },
   {
    "duration": 43714,
    "start_time": "2025-06-22T15:21:21.351Z"
   },
   {
    "duration": 5,
    "start_time": "2025-06-22T15:23:11.056Z"
   },
   {
    "duration": 42239,
    "start_time": "2025-06-22T15:23:32.402Z"
   },
   {
    "duration": 41830,
    "start_time": "2025-06-22T15:25:40.614Z"
   },
   {
    "duration": 44298,
    "start_time": "2025-06-22T15:27:56.045Z"
   },
   {
    "duration": 24506,
    "start_time": "2025-06-22T15:29:54.022Z"
   },
   {
    "duration": 89,
    "start_time": "2025-06-22T15:30:18.532Z"
   },
   {
    "duration": 28,
    "start_time": "2025-06-22T15:30:18.623Z"
   },
   {
    "duration": 29,
    "start_time": "2025-06-22T15:30:18.653Z"
   },
   {
    "duration": 34,
    "start_time": "2025-06-22T15:30:18.685Z"
   },
   {
    "duration": 20,
    "start_time": "2025-06-22T15:30:18.721Z"
   },
   {
    "duration": 20,
    "start_time": "2025-06-22T15:30:18.743Z"
   },
   {
    "duration": 27,
    "start_time": "2025-06-22T15:30:18.765Z"
   },
   {
    "duration": 6,
    "start_time": "2025-06-22T15:30:18.794Z"
   },
   {
    "duration": 13,
    "start_time": "2025-06-22T15:30:18.802Z"
   },
   {
    "duration": 51,
    "start_time": "2025-06-22T15:30:18.817Z"
   },
   {
    "duration": 24,
    "start_time": "2025-06-22T15:30:18.870Z"
   },
   {
    "duration": 55,
    "start_time": "2025-06-22T15:30:18.897Z"
   },
   {
    "duration": 351,
    "start_time": "2025-06-22T15:30:18.957Z"
   },
   {
    "duration": 708,
    "start_time": "2025-06-22T15:30:19.310Z"
   },
   {
    "duration": 1643,
    "start_time": "2025-06-22T15:30:20.020Z"
   },
   {
    "duration": 1612,
    "start_time": "2025-06-22T15:30:21.665Z"
   },
   {
    "duration": 2494,
    "start_time": "2025-06-22T15:30:23.278Z"
   },
   {
    "duration": 225,
    "start_time": "2025-06-22T15:30:25.774Z"
   },
   {
    "duration": 294,
    "start_time": "2025-06-22T15:30:26.001Z"
   },
   {
    "duration": 922,
    "start_time": "2025-06-22T15:30:26.297Z"
   },
   {
    "duration": 259,
    "start_time": "2025-06-22T15:30:27.221Z"
   },
   {
    "duration": 436,
    "start_time": "2025-06-22T15:30:27.482Z"
   },
   {
    "duration": 233,
    "start_time": "2025-06-22T15:30:27.920Z"
   },
   {
    "duration": 215,
    "start_time": "2025-06-22T15:30:28.154Z"
   },
   {
    "duration": 282,
    "start_time": "2025-06-22T15:30:28.370Z"
   },
   {
    "duration": 242,
    "start_time": "2025-06-22T15:30:28.654Z"
   },
   {
    "duration": 56,
    "start_time": "2025-06-22T15:30:28.898Z"
   },
   {
    "duration": 10,
    "start_time": "2025-06-22T15:30:28.955Z"
   },
   {
    "duration": 30,
    "start_time": "2025-06-22T15:30:28.967Z"
   },
   {
    "duration": 1233,
    "start_time": "2025-06-22T15:30:28.998Z"
   },
   {
    "duration": 311,
    "start_time": "2025-06-22T15:30:30.232Z"
   },
   {
    "duration": 14,
    "start_time": "2025-06-22T15:30:30.546Z"
   },
   {
    "duration": 91,
    "start_time": "2025-06-22T15:30:30.562Z"
   },
   {
    "duration": 1003,
    "start_time": "2025-06-22T15:30:30.656Z"
   },
   {
    "duration": 466,
    "start_time": "2025-06-22T15:30:31.662Z"
   },
   {
    "duration": 458,
    "start_time": "2025-06-22T15:30:32.138Z"
   },
   {
    "duration": 278,
    "start_time": "2025-06-22T15:30:32.598Z"
   },
   {
    "duration": 6,
    "start_time": "2025-06-22T15:30:32.878Z"
   },
   {
    "duration": 78,
    "start_time": "2025-06-22T15:30:32.885Z"
   },
   {
    "duration": 46,
    "start_time": "2025-06-22T15:30:32.967Z"
   },
   {
    "duration": 4443,
    "start_time": "2025-06-22T15:30:33.014Z"
   },
   {
    "duration": 31,
    "start_time": "2025-06-22T15:30:37.459Z"
   },
   {
    "duration": 43691,
    "start_time": "2025-06-22T15:30:37.491Z"
   },
   {
    "duration": 0,
    "start_time": "2025-06-22T15:31:21.184Z"
   },
   {
    "duration": 44115,
    "start_time": "2025-06-22T15:34:23.830Z"
   },
   {
    "duration": 41280,
    "start_time": "2025-06-22T15:36:28.067Z"
   },
   {
    "duration": 44124,
    "start_time": "2025-06-22T15:38:09.728Z"
   },
   {
    "duration": 10210,
    "start_time": "2025-06-22T16:33:02.413Z"
   },
   {
    "duration": 82,
    "start_time": "2025-06-22T16:33:12.626Z"
   },
   {
    "duration": 37,
    "start_time": "2025-06-22T16:33:12.710Z"
   },
   {
    "duration": 24,
    "start_time": "2025-06-22T16:33:12.750Z"
   },
   {
    "duration": 16,
    "start_time": "2025-06-22T16:33:12.776Z"
   },
   {
    "duration": 16,
    "start_time": "2025-06-22T16:33:12.794Z"
   },
   {
    "duration": 13,
    "start_time": "2025-06-22T16:33:12.841Z"
   },
   {
    "duration": 22,
    "start_time": "2025-06-22T16:33:12.856Z"
   },
   {
    "duration": 6,
    "start_time": "2025-06-22T16:33:12.880Z"
   },
   {
    "duration": 11,
    "start_time": "2025-06-22T16:33:12.888Z"
   },
   {
    "duration": 71,
    "start_time": "2025-06-22T16:33:12.901Z"
   },
   {
    "duration": 19,
    "start_time": "2025-06-22T16:33:12.975Z"
   },
   {
    "duration": 47,
    "start_time": "2025-06-22T16:33:12.996Z"
   },
   {
    "duration": 275,
    "start_time": "2025-06-22T16:33:13.049Z"
   },
   {
    "duration": 738,
    "start_time": "2025-06-22T16:33:13.326Z"
   },
   {
    "duration": 1627,
    "start_time": "2025-06-22T16:33:14.066Z"
   },
   {
    "duration": 1810,
    "start_time": "2025-06-22T16:33:15.695Z"
   },
   {
    "duration": 2512,
    "start_time": "2025-06-22T16:33:17.507Z"
   },
   {
    "duration": 280,
    "start_time": "2025-06-22T16:33:20.021Z"
   },
   {
    "duration": 300,
    "start_time": "2025-06-22T16:33:20.303Z"
   },
   {
    "duration": 954,
    "start_time": "2025-06-22T16:33:20.605Z"
   },
   {
    "duration": 245,
    "start_time": "2025-06-22T16:33:21.561Z"
   },
   {
    "duration": 424,
    "start_time": "2025-06-22T16:33:21.808Z"
   },
   {
    "duration": 241,
    "start_time": "2025-06-22T16:33:22.234Z"
   },
   {
    "duration": 211,
    "start_time": "2025-06-22T16:33:22.477Z"
   },
   {
    "duration": 337,
    "start_time": "2025-06-22T16:33:22.690Z"
   },
   {
    "duration": 288,
    "start_time": "2025-06-22T16:33:23.028Z"
   },
   {
    "duration": 61,
    "start_time": "2025-06-22T16:33:23.318Z"
   },
   {
    "duration": 10,
    "start_time": "2025-06-22T16:33:23.380Z"
   },
   {
    "duration": 25,
    "start_time": "2025-06-22T16:33:23.392Z"
   },
   {
    "duration": 1249,
    "start_time": "2025-06-22T16:33:23.419Z"
   },
   {
    "duration": 301,
    "start_time": "2025-06-22T16:33:24.670Z"
   },
   {
    "duration": 14,
    "start_time": "2025-06-22T16:33:24.973Z"
   },
   {
    "duration": 18,
    "start_time": "2025-06-22T16:33:24.988Z"
   },
   {
    "duration": 1092,
    "start_time": "2025-06-22T16:33:25.008Z"
   },
   {
    "duration": 481,
    "start_time": "2025-06-22T16:33:26.102Z"
   },
   {
    "duration": 483,
    "start_time": "2025-06-22T16:33:26.585Z"
   },
   {
    "duration": 263,
    "start_time": "2025-06-22T16:33:27.069Z"
   },
   {
    "duration": 7,
    "start_time": "2025-06-22T16:33:27.338Z"
   },
   {
    "duration": 25,
    "start_time": "2025-06-22T16:33:27.347Z"
   },
   {
    "duration": 17,
    "start_time": "2025-06-22T16:33:27.376Z"
   },
   {
    "duration": 4820,
    "start_time": "2025-06-22T16:33:27.395Z"
   },
   {
    "duration": 41,
    "start_time": "2025-06-22T16:33:32.217Z"
   },
   {
    "duration": 45821,
    "start_time": "2025-06-22T16:33:32.261Z"
   },
   {
    "duration": 1,
    "start_time": "2025-06-22T16:34:18.084Z"
   },
   {
    "duration": 41617,
    "start_time": "2025-06-22T16:37:00.824Z"
   },
   {
    "duration": 44643,
    "start_time": "2025-06-22T16:37:58.845Z"
   },
   {
    "duration": 9764,
    "start_time": "2025-06-22T16:39:50.950Z"
   },
   {
    "duration": 78,
    "start_time": "2025-06-22T16:40:00.716Z"
   },
   {
    "duration": 32,
    "start_time": "2025-06-22T16:40:00.795Z"
   },
   {
    "duration": 88,
    "start_time": "2025-06-22T16:40:00.828Z"
   },
   {
    "duration": 39,
    "start_time": "2025-06-22T16:40:00.918Z"
   },
   {
    "duration": 37,
    "start_time": "2025-06-22T16:40:00.959Z"
   },
   {
    "duration": 17,
    "start_time": "2025-06-22T16:40:00.998Z"
   },
   {
    "duration": 32,
    "start_time": "2025-06-22T16:40:01.017Z"
   },
   {
    "duration": 6,
    "start_time": "2025-06-22T16:40:01.051Z"
   },
   {
    "duration": 34,
    "start_time": "2025-06-22T16:40:01.059Z"
   },
   {
    "duration": 46,
    "start_time": "2025-06-22T16:40:01.095Z"
   },
   {
    "duration": 20,
    "start_time": "2025-06-22T16:40:01.143Z"
   },
   {
    "duration": 27,
    "start_time": "2025-06-22T16:40:01.165Z"
   },
   {
    "duration": 300,
    "start_time": "2025-06-22T16:40:01.195Z"
   },
   {
    "duration": 729,
    "start_time": "2025-06-22T16:40:01.496Z"
   },
   {
    "duration": 1654,
    "start_time": "2025-06-22T16:40:02.227Z"
   },
   {
    "duration": 1796,
    "start_time": "2025-06-22T16:40:03.882Z"
   },
   {
    "duration": 2527,
    "start_time": "2025-06-22T16:40:05.680Z"
   },
   {
    "duration": 275,
    "start_time": "2025-06-22T16:40:08.209Z"
   },
   {
    "duration": 300,
    "start_time": "2025-06-22T16:40:08.486Z"
   },
   {
    "duration": 938,
    "start_time": "2025-06-22T16:40:08.788Z"
   },
   {
    "duration": 277,
    "start_time": "2025-06-22T16:40:09.727Z"
   },
   {
    "duration": 422,
    "start_time": "2025-06-22T16:40:10.007Z"
   },
   {
    "duration": 225,
    "start_time": "2025-06-22T16:40:10.431Z"
   },
   {
    "duration": 212,
    "start_time": "2025-06-22T16:40:10.657Z"
   },
   {
    "duration": 307,
    "start_time": "2025-06-22T16:40:10.870Z"
   },
   {
    "duration": 272,
    "start_time": "2025-06-22T16:40:11.178Z"
   },
   {
    "duration": 47,
    "start_time": "2025-06-22T16:40:11.452Z"
   },
   {
    "duration": 10,
    "start_time": "2025-06-22T16:40:11.500Z"
   },
   {
    "duration": 41,
    "start_time": "2025-06-22T16:40:11.512Z"
   },
   {
    "duration": 1193,
    "start_time": "2025-06-22T16:40:11.555Z"
   },
   {
    "duration": 311,
    "start_time": "2025-06-22T16:40:12.749Z"
   },
   {
    "duration": 13,
    "start_time": "2025-06-22T16:40:13.062Z"
   },
   {
    "duration": 19,
    "start_time": "2025-06-22T16:40:13.077Z"
   },
   {
    "duration": 1078,
    "start_time": "2025-06-22T16:40:13.098Z"
   },
   {
    "duration": 457,
    "start_time": "2025-06-22T16:40:14.178Z"
   },
   {
    "duration": 464,
    "start_time": "2025-06-22T16:40:14.636Z"
   },
   {
    "duration": 285,
    "start_time": "2025-06-22T16:40:15.102Z"
   },
   {
    "duration": 7,
    "start_time": "2025-06-22T16:40:15.389Z"
   },
   {
    "duration": 40,
    "start_time": "2025-06-22T16:40:15.397Z"
   },
   {
    "duration": 15,
    "start_time": "2025-06-22T16:40:15.441Z"
   },
   {
    "duration": 4940,
    "start_time": "2025-06-22T16:40:15.458Z"
   },
   {
    "duration": 49,
    "start_time": "2025-06-22T16:40:20.400Z"
   },
   {
    "duration": 43527,
    "start_time": "2025-06-22T16:40:20.452Z"
   },
   {
    "duration": 0,
    "start_time": "2025-06-22T16:41:03.981Z"
   },
   {
    "duration": 10032,
    "start_time": "2025-06-22T16:43:37.030Z"
   },
   {
    "duration": 88,
    "start_time": "2025-06-22T16:43:47.065Z"
   },
   {
    "duration": 33,
    "start_time": "2025-06-22T16:43:47.155Z"
   },
   {
    "duration": 19,
    "start_time": "2025-06-22T16:43:47.190Z"
   },
   {
    "duration": 42,
    "start_time": "2025-06-22T16:43:47.211Z"
   },
   {
    "duration": 21,
    "start_time": "2025-06-22T16:43:47.255Z"
   },
   {
    "duration": 16,
    "start_time": "2025-06-22T16:43:47.277Z"
   },
   {
    "duration": 30,
    "start_time": "2025-06-22T16:43:47.295Z"
   },
   {
    "duration": 17,
    "start_time": "2025-06-22T16:43:47.327Z"
   },
   {
    "duration": 30,
    "start_time": "2025-06-22T16:43:47.346Z"
   },
   {
    "duration": 43,
    "start_time": "2025-06-22T16:43:47.378Z"
   },
   {
    "duration": 23,
    "start_time": "2025-06-22T16:43:47.423Z"
   },
   {
    "duration": 35,
    "start_time": "2025-06-22T16:43:47.448Z"
   },
   {
    "duration": 306,
    "start_time": "2025-06-22T16:43:47.487Z"
   },
   {
    "duration": 733,
    "start_time": "2025-06-22T16:43:47.795Z"
   },
   {
    "duration": 1643,
    "start_time": "2025-06-22T16:43:48.530Z"
   },
   {
    "duration": 1700,
    "start_time": "2025-06-22T16:43:50.175Z"
   },
   {
    "duration": 2335,
    "start_time": "2025-06-22T16:43:51.877Z"
   },
   {
    "duration": 265,
    "start_time": "2025-06-22T16:43:54.214Z"
   },
   {
    "duration": 220,
    "start_time": "2025-06-22T16:43:54.481Z"
   },
   {
    "duration": 912,
    "start_time": "2025-06-22T16:43:54.703Z"
   },
   {
    "duration": 293,
    "start_time": "2025-06-22T16:43:55.616Z"
   },
   {
    "duration": 424,
    "start_time": "2025-06-22T16:43:55.911Z"
   },
   {
    "duration": 237,
    "start_time": "2025-06-22T16:43:56.339Z"
   },
   {
    "duration": 199,
    "start_time": "2025-06-22T16:43:56.578Z"
   },
   {
    "duration": 315,
    "start_time": "2025-06-22T16:43:56.779Z"
   },
   {
    "duration": 257,
    "start_time": "2025-06-22T16:43:57.096Z"
   },
   {
    "duration": 48,
    "start_time": "2025-06-22T16:43:57.355Z"
   },
   {
    "duration": 36,
    "start_time": "2025-06-22T16:43:57.405Z"
   },
   {
    "duration": 18,
    "start_time": "2025-06-22T16:43:57.443Z"
   },
   {
    "duration": 1133,
    "start_time": "2025-06-22T16:43:57.463Z"
   },
   {
    "duration": 286,
    "start_time": "2025-06-22T16:43:58.598Z"
   },
   {
    "duration": 12,
    "start_time": "2025-06-22T16:43:58.886Z"
   },
   {
    "duration": 39,
    "start_time": "2025-06-22T16:43:58.900Z"
   },
   {
    "duration": 978,
    "start_time": "2025-06-22T16:43:58.941Z"
   },
   {
    "duration": 410,
    "start_time": "2025-06-22T16:43:59.921Z"
   },
   {
    "duration": 387,
    "start_time": "2025-06-22T16:44:00.333Z"
   },
   {
    "duration": 273,
    "start_time": "2025-06-22T16:44:00.721Z"
   },
   {
    "duration": 6,
    "start_time": "2025-06-22T16:44:00.995Z"
   },
   {
    "duration": 37,
    "start_time": "2025-06-22T16:44:01.002Z"
   },
   {
    "duration": 4,
    "start_time": "2025-06-22T16:44:01.042Z"
   },
   {
    "duration": 4466,
    "start_time": "2025-06-22T16:44:01.047Z"
   },
   {
    "duration": 40,
    "start_time": "2025-06-22T16:44:05.515Z"
   },
   {
    "duration": 49520,
    "start_time": "2025-06-22T16:44:05.557Z"
   },
   {
    "duration": 523,
    "start_time": "2025-06-22T16:44:55.079Z"
   },
   {
    "duration": 9620,
    "start_time": "2025-06-22T16:46:31.795Z"
   },
   {
    "duration": 91,
    "start_time": "2025-06-22T16:46:41.417Z"
   },
   {
    "duration": 36,
    "start_time": "2025-06-22T16:46:41.510Z"
   },
   {
    "duration": 21,
    "start_time": "2025-06-22T16:46:41.547Z"
   },
   {
    "duration": 101,
    "start_time": "2025-06-22T16:46:41.570Z"
   },
   {
    "duration": 16,
    "start_time": "2025-06-22T16:46:41.673Z"
   },
   {
    "duration": 11,
    "start_time": "2025-06-22T16:46:41.691Z"
   },
   {
    "duration": 31,
    "start_time": "2025-06-22T16:46:41.703Z"
   },
   {
    "duration": 6,
    "start_time": "2025-06-22T16:46:41.740Z"
   },
   {
    "duration": 13,
    "start_time": "2025-06-22T16:46:41.750Z"
   },
   {
    "duration": 32,
    "start_time": "2025-06-22T16:46:41.765Z"
   },
   {
    "duration": 52,
    "start_time": "2025-06-22T16:46:41.798Z"
   },
   {
    "duration": 9,
    "start_time": "2025-06-22T16:46:41.852Z"
   },
   {
    "duration": 337,
    "start_time": "2025-06-22T16:46:41.865Z"
   },
   {
    "duration": 724,
    "start_time": "2025-06-22T16:46:42.204Z"
   },
   {
    "duration": 1861,
    "start_time": "2025-06-22T16:46:42.930Z"
   },
   {
    "duration": 1908,
    "start_time": "2025-06-22T16:46:44.793Z"
   },
   {
    "duration": 2517,
    "start_time": "2025-06-22T16:46:46.703Z"
   },
   {
    "duration": 282,
    "start_time": "2025-06-22T16:46:49.221Z"
   },
   {
    "duration": 293,
    "start_time": "2025-06-22T16:46:49.504Z"
   },
   {
    "duration": 942,
    "start_time": "2025-06-22T16:46:49.799Z"
   },
   {
    "duration": 256,
    "start_time": "2025-06-22T16:46:50.743Z"
   },
   {
    "duration": 446,
    "start_time": "2025-06-22T16:46:51.001Z"
   },
   {
    "duration": 234,
    "start_time": "2025-06-22T16:46:51.449Z"
   },
   {
    "duration": 213,
    "start_time": "2025-06-22T16:46:51.685Z"
   },
   {
    "duration": 339,
    "start_time": "2025-06-22T16:46:51.900Z"
   },
   {
    "duration": 293,
    "start_time": "2025-06-22T16:46:52.241Z"
   },
   {
    "duration": 48,
    "start_time": "2025-06-22T16:46:52.539Z"
   },
   {
    "duration": 9,
    "start_time": "2025-06-22T16:46:52.589Z"
   },
   {
    "duration": 40,
    "start_time": "2025-06-22T16:46:52.600Z"
   },
   {
    "duration": 1221,
    "start_time": "2025-06-22T16:46:52.643Z"
   },
   {
    "duration": 280,
    "start_time": "2025-06-22T16:46:53.866Z"
   },
   {
    "duration": 18,
    "start_time": "2025-06-22T16:46:54.148Z"
   },
   {
    "duration": 18,
    "start_time": "2025-06-22T16:46:54.168Z"
   },
   {
    "duration": 1125,
    "start_time": "2025-06-22T16:46:54.187Z"
   },
   {
    "duration": 438,
    "start_time": "2025-06-22T16:46:55.314Z"
   },
   {
    "duration": 492,
    "start_time": "2025-06-22T16:46:55.755Z"
   },
   {
    "duration": 265,
    "start_time": "2025-06-22T16:46:56.249Z"
   },
   {
    "duration": 6,
    "start_time": "2025-06-22T16:46:56.516Z"
   },
   {
    "duration": 20,
    "start_time": "2025-06-22T16:46:56.538Z"
   },
   {
    "duration": 4,
    "start_time": "2025-06-22T16:46:56.564Z"
   },
   {
    "duration": 5121,
    "start_time": "2025-06-22T16:46:56.570Z"
   },
   {
    "duration": 46,
    "start_time": "2025-06-22T16:47:01.693Z"
   },
   {
    "duration": 48121,
    "start_time": "2025-06-22T16:47:01.742Z"
   },
   {
    "duration": 542,
    "start_time": "2025-06-22T16:47:49.865Z"
   },
   {
    "duration": 10,
    "start_time": "2025-06-22T17:09:16.666Z"
   },
   {
    "duration": 11366,
    "start_time": "2025-06-22T17:09:46.429Z"
   },
   {
    "duration": 92,
    "start_time": "2025-06-22T17:09:57.797Z"
   },
   {
    "duration": 33,
    "start_time": "2025-06-22T17:09:57.891Z"
   },
   {
    "duration": 29,
    "start_time": "2025-06-22T17:09:57.926Z"
   },
   {
    "duration": 26,
    "start_time": "2025-06-22T17:09:57.958Z"
   },
   {
    "duration": 18,
    "start_time": "2025-06-22T17:09:57.986Z"
   },
   {
    "duration": 52,
    "start_time": "2025-06-22T17:09:58.006Z"
   },
   {
    "duration": 35,
    "start_time": "2025-06-22T17:09:58.061Z"
   },
   {
    "duration": 5,
    "start_time": "2025-06-22T17:09:58.098Z"
   },
   {
    "duration": 17,
    "start_time": "2025-06-22T17:09:58.105Z"
   },
   {
    "duration": 64,
    "start_time": "2025-06-22T17:09:58.123Z"
   },
   {
    "duration": 23,
    "start_time": "2025-06-22T17:09:58.189Z"
   },
   {
    "duration": 19,
    "start_time": "2025-06-22T17:09:58.213Z"
   },
   {
    "duration": 295,
    "start_time": "2025-06-22T17:09:58.235Z"
   },
   {
    "duration": 748,
    "start_time": "2025-06-22T17:09:58.532Z"
   },
   {
    "duration": 1629,
    "start_time": "2025-06-22T17:09:59.281Z"
   },
   {
    "duration": 1985,
    "start_time": "2025-06-22T17:10:00.912Z"
   },
   {
    "duration": 2584,
    "start_time": "2025-06-22T17:10:02.899Z"
   },
   {
    "duration": 341,
    "start_time": "2025-06-22T17:10:05.485Z"
   },
   {
    "duration": 286,
    "start_time": "2025-06-22T17:10:05.828Z"
   },
   {
    "duration": 996,
    "start_time": "2025-06-22T17:10:06.116Z"
   },
   {
    "duration": 270,
    "start_time": "2025-06-22T17:10:07.113Z"
   },
   {
    "duration": 488,
    "start_time": "2025-06-22T17:10:07.386Z"
   },
   {
    "duration": 218,
    "start_time": "2025-06-22T17:10:07.880Z"
   },
   {
    "duration": 201,
    "start_time": "2025-06-22T17:10:08.099Z"
   },
   {
    "duration": 352,
    "start_time": "2025-06-22T17:10:08.302Z"
   },
   {
    "duration": 333,
    "start_time": "2025-06-22T17:10:08.657Z"
   },
   {
    "duration": 67,
    "start_time": "2025-06-22T17:10:08.992Z"
   },
   {
    "duration": 19,
    "start_time": "2025-06-22T17:10:09.061Z"
   },
   {
    "duration": 30,
    "start_time": "2025-06-22T17:10:09.084Z"
   },
   {
    "duration": 1357,
    "start_time": "2025-06-22T17:10:09.116Z"
   },
   {
    "duration": 302,
    "start_time": "2025-06-22T17:10:10.476Z"
   },
   {
    "duration": 14,
    "start_time": "2025-06-22T17:10:10.780Z"
   },
   {
    "duration": 20,
    "start_time": "2025-06-22T17:10:10.796Z"
   },
   {
    "duration": 1156,
    "start_time": "2025-06-22T17:10:10.818Z"
   },
   {
    "duration": 490,
    "start_time": "2025-06-22T17:10:11.976Z"
   },
   {
    "duration": 466,
    "start_time": "2025-06-22T17:10:12.469Z"
   },
   {
    "duration": 285,
    "start_time": "2025-06-22T17:10:12.943Z"
   },
   {
    "duration": 21,
    "start_time": "2025-06-22T17:10:13.230Z"
   },
   {
    "duration": 59,
    "start_time": "2025-06-22T17:10:13.253Z"
   },
   {
    "duration": 57,
    "start_time": "2025-06-22T17:10:13.316Z"
   },
   {
    "duration": 5491,
    "start_time": "2025-06-22T17:10:13.376Z"
   },
   {
    "duration": 45,
    "start_time": "2025-06-22T17:10:18.873Z"
   },
   {
    "duration": 61766,
    "start_time": "2025-06-22T17:10:18.920Z"
   },
   {
    "duration": 683,
    "start_time": "2025-06-22T17:11:20.688Z"
   },
   {
    "duration": 9,
    "start_time": "2025-06-22T17:11:21.378Z"
   },
   {
    "duration": 908,
    "start_time": "2025-06-22T17:11:21.389Z"
   },
   {
    "duration": 10183,
    "start_time": "2025-06-22T17:30:40.293Z"
   },
   {
    "duration": 94,
    "start_time": "2025-06-22T17:30:50.478Z"
   },
   {
    "duration": 30,
    "start_time": "2025-06-22T17:30:50.574Z"
   },
   {
    "duration": 18,
    "start_time": "2025-06-22T17:30:50.607Z"
   },
   {
    "duration": 31,
    "start_time": "2025-06-22T17:30:50.627Z"
   },
   {
    "duration": 16,
    "start_time": "2025-06-22T17:30:50.660Z"
   },
   {
    "duration": 14,
    "start_time": "2025-06-22T17:30:50.677Z"
   },
   {
    "duration": 29,
    "start_time": "2025-06-22T17:30:50.693Z"
   },
   {
    "duration": 9,
    "start_time": "2025-06-22T17:30:50.743Z"
   },
   {
    "duration": 14,
    "start_time": "2025-06-22T17:30:50.755Z"
   },
   {
    "duration": 35,
    "start_time": "2025-06-22T17:30:50.770Z"
   },
   {
    "duration": 51,
    "start_time": "2025-06-22T17:30:50.806Z"
   },
   {
    "duration": 21,
    "start_time": "2025-06-22T17:30:50.858Z"
   },
   {
    "duration": 323,
    "start_time": "2025-06-22T17:30:50.881Z"
   },
   {
    "duration": 747,
    "start_time": "2025-06-22T17:30:51.206Z"
   },
   {
    "duration": 1643,
    "start_time": "2025-06-22T17:30:51.955Z"
   },
   {
    "duration": 1998,
    "start_time": "2025-06-22T17:30:53.600Z"
   },
   {
    "duration": 2570,
    "start_time": "2025-06-22T17:30:55.600Z"
   },
   {
    "duration": 230,
    "start_time": "2025-06-22T17:30:58.172Z"
   },
   {
    "duration": 359,
    "start_time": "2025-06-22T17:30:58.404Z"
   },
   {
    "duration": 1020,
    "start_time": "2025-06-22T17:30:58.765Z"
   },
   {
    "duration": 267,
    "start_time": "2025-06-22T17:30:59.786Z"
   },
   {
    "duration": 453,
    "start_time": "2025-06-22T17:31:00.055Z"
   },
   {
    "duration": 258,
    "start_time": "2025-06-22T17:31:00.510Z"
   },
   {
    "duration": 225,
    "start_time": "2025-06-22T17:31:00.770Z"
   },
   {
    "duration": 345,
    "start_time": "2025-06-22T17:31:00.997Z"
   },
   {
    "duration": 276,
    "start_time": "2025-06-22T17:31:01.349Z"
   },
   {
    "duration": 57,
    "start_time": "2025-06-22T17:31:01.630Z"
   },
   {
    "duration": 10,
    "start_time": "2025-06-22T17:31:01.688Z"
   },
   {
    "duration": 50,
    "start_time": "2025-06-22T17:31:01.700Z"
   },
   {
    "duration": 1200,
    "start_time": "2025-06-22T17:31:01.756Z"
   },
   {
    "duration": 299,
    "start_time": "2025-06-22T17:31:02.958Z"
   },
   {
    "duration": 14,
    "start_time": "2025-06-22T17:31:03.259Z"
   },
   {
    "duration": 32,
    "start_time": "2025-06-22T17:31:03.274Z"
   },
   {
    "duration": 1072,
    "start_time": "2025-06-22T17:31:03.308Z"
   },
   {
    "duration": 468,
    "start_time": "2025-06-22T17:31:04.382Z"
   },
   {
    "duration": 482,
    "start_time": "2025-06-22T17:31:04.852Z"
   },
   {
    "duration": 284,
    "start_time": "2025-06-22T17:31:05.336Z"
   },
   {
    "duration": 6,
    "start_time": "2025-06-22T17:31:05.621Z"
   },
   {
    "duration": 50,
    "start_time": "2025-06-22T17:31:05.639Z"
   },
   {
    "duration": 4,
    "start_time": "2025-06-22T17:31:05.691Z"
   },
   {
    "duration": 5002,
    "start_time": "2025-06-22T17:31:05.697Z"
   },
   {
    "duration": 54,
    "start_time": "2025-06-22T17:31:10.701Z"
   },
   {
    "duration": 47914,
    "start_time": "2025-06-22T17:31:10.757Z"
   },
   {
    "duration": 540,
    "start_time": "2025-06-22T17:31:58.672Z"
   },
   {
    "duration": 7,
    "start_time": "2025-06-22T17:31:59.214Z"
   },
   {
    "duration": 901,
    "start_time": "2025-06-22T17:31:59.240Z"
   },
   {
    "duration": 46,
    "start_time": "2025-06-22T17:34:12.119Z"
   },
   {
    "duration": 163,
    "start_time": "2025-06-22T17:36:17.423Z"
   },
   {
    "duration": 9933,
    "start_time": "2025-06-22T17:36:44.326Z"
   },
   {
    "duration": 86,
    "start_time": "2025-06-22T17:36:54.261Z"
   },
   {
    "duration": 31,
    "start_time": "2025-06-22T17:36:54.348Z"
   },
   {
    "duration": 19,
    "start_time": "2025-06-22T17:36:54.380Z"
   },
   {
    "duration": 77,
    "start_time": "2025-06-22T17:36:54.402Z"
   },
   {
    "duration": 18,
    "start_time": "2025-06-22T17:36:54.481Z"
   },
   {
    "duration": 33,
    "start_time": "2025-06-22T17:36:54.501Z"
   },
   {
    "duration": 21,
    "start_time": "2025-06-22T17:36:54.536Z"
   },
   {
    "duration": 7,
    "start_time": "2025-06-22T17:36:54.559Z"
   },
   {
    "duration": 19,
    "start_time": "2025-06-22T17:36:54.568Z"
   },
   {
    "duration": 31,
    "start_time": "2025-06-22T17:36:54.589Z"
   },
   {
    "duration": 37,
    "start_time": "2025-06-22T17:36:54.621Z"
   },
   {
    "duration": 9,
    "start_time": "2025-06-22T17:36:54.659Z"
   },
   {
    "duration": 309,
    "start_time": "2025-06-22T17:36:54.671Z"
   },
   {
    "duration": 643,
    "start_time": "2025-06-22T17:36:54.982Z"
   },
   {
    "duration": 1758,
    "start_time": "2025-06-22T17:36:55.638Z"
   },
   {
    "duration": 1997,
    "start_time": "2025-06-22T17:36:57.398Z"
   },
   {
    "duration": 2511,
    "start_time": "2025-06-22T17:36:59.397Z"
   },
   {
    "duration": 280,
    "start_time": "2025-06-22T17:37:01.910Z"
   },
   {
    "duration": 299,
    "start_time": "2025-06-22T17:37:02.192Z"
   },
   {
    "duration": 939,
    "start_time": "2025-06-22T17:37:02.492Z"
   },
   {
    "duration": 271,
    "start_time": "2025-06-22T17:37:03.432Z"
   },
   {
    "duration": 406,
    "start_time": "2025-06-22T17:37:03.704Z"
   },
   {
    "duration": 277,
    "start_time": "2025-06-22T17:37:04.112Z"
   },
   {
    "duration": 184,
    "start_time": "2025-06-22T17:37:04.392Z"
   },
   {
    "duration": 329,
    "start_time": "2025-06-22T17:37:04.577Z"
   },
   {
    "duration": 274,
    "start_time": "2025-06-22T17:37:04.908Z"
   },
   {
    "duration": 66,
    "start_time": "2025-06-22T17:37:05.183Z"
   },
   {
    "duration": 11,
    "start_time": "2025-06-22T17:37:05.251Z"
   },
   {
    "duration": 28,
    "start_time": "2025-06-22T17:37:05.263Z"
   },
   {
    "duration": 1327,
    "start_time": "2025-06-22T17:37:05.293Z"
   },
   {
    "duration": 303,
    "start_time": "2025-06-22T17:37:06.622Z"
   },
   {
    "duration": 23,
    "start_time": "2025-06-22T17:37:06.927Z"
   },
   {
    "duration": 24,
    "start_time": "2025-06-22T17:37:06.952Z"
   },
   {
    "duration": 1206,
    "start_time": "2025-06-22T17:37:06.978Z"
   },
   {
    "duration": 473,
    "start_time": "2025-06-22T17:37:08.185Z"
   },
   {
    "duration": 452,
    "start_time": "2025-06-22T17:37:08.660Z"
   },
   {
    "duration": 282,
    "start_time": "2025-06-22T17:37:09.114Z"
   },
   {
    "duration": 7,
    "start_time": "2025-06-22T17:37:09.398Z"
   },
   {
    "duration": 36,
    "start_time": "2025-06-22T17:37:09.407Z"
   },
   {
    "duration": 7,
    "start_time": "2025-06-22T17:37:09.447Z"
   },
   {
    "duration": 4767,
    "start_time": "2025-06-22T17:37:09.456Z"
   },
   {
    "duration": 41,
    "start_time": "2025-06-22T17:37:14.226Z"
   },
   {
    "duration": 47308,
    "start_time": "2025-06-22T17:37:14.269Z"
   },
   {
    "duration": 635,
    "start_time": "2025-06-22T17:38:01.578Z"
   },
   {
    "duration": 7,
    "start_time": "2025-06-22T17:38:02.214Z"
   },
   {
    "duration": 882,
    "start_time": "2025-06-22T17:38:02.223Z"
   },
   {
    "duration": 31368,
    "start_time": "2025-06-23T05:49:07.401Z"
   },
   {
    "duration": 13663,
    "start_time": "2025-06-23T05:50:20.007Z"
   },
   {
    "duration": 2570,
    "start_time": "2025-06-23T05:56:57.972Z"
   },
   {
    "duration": 2675,
    "start_time": "2025-06-23T05:59:42.151Z"
   },
   {
    "duration": 94,
    "start_time": "2025-06-23T06:00:22.740Z"
   },
   {
    "duration": 82,
    "start_time": "2025-06-23T06:03:37.441Z"
   },
   {
    "duration": 2776,
    "start_time": "2025-06-23T06:18:10.053Z"
   },
   {
    "duration": 83,
    "start_time": "2025-06-23T06:18:12.831Z"
   },
   {
    "duration": 36,
    "start_time": "2025-06-23T06:18:12.916Z"
   },
   {
    "duration": 24,
    "start_time": "2025-06-23T06:18:12.954Z"
   },
   {
    "duration": 27,
    "start_time": "2025-06-23T06:18:12.979Z"
   },
   {
    "duration": 24,
    "start_time": "2025-06-23T06:18:13.008Z"
   },
   {
    "duration": 44,
    "start_time": "2025-06-23T06:18:13.033Z"
   },
   {
    "duration": 11,
    "start_time": "2025-06-23T06:18:13.079Z"
   },
   {
    "duration": 11,
    "start_time": "2025-06-23T06:18:13.092Z"
   },
   {
    "duration": 55,
    "start_time": "2025-06-23T06:18:13.106Z"
   },
   {
    "duration": 33,
    "start_time": "2025-06-23T06:18:13.163Z"
   },
   {
    "duration": 10,
    "start_time": "2025-06-23T06:18:13.198Z"
   },
   {
    "duration": 191,
    "start_time": "2025-06-23T06:18:13.209Z"
   },
   {
    "duration": 434,
    "start_time": "2025-06-23T06:18:13.402Z"
   },
   {
    "duration": 1079,
    "start_time": "2025-06-23T06:18:13.838Z"
   },
   {
    "duration": 977,
    "start_time": "2025-06-23T06:18:14.918Z"
   },
   {
    "duration": 1660,
    "start_time": "2025-06-23T06:18:15.897Z"
   },
   {
    "duration": 178,
    "start_time": "2025-06-23T06:18:17.559Z"
   },
   {
    "duration": 193,
    "start_time": "2025-06-23T06:18:17.739Z"
   },
   {
    "duration": 631,
    "start_time": "2025-06-23T06:18:17.933Z"
   },
   {
    "duration": 170,
    "start_time": "2025-06-23T06:18:18.566Z"
   },
   {
    "duration": 364,
    "start_time": "2025-06-23T06:18:18.738Z"
   },
   {
    "duration": 136,
    "start_time": "2025-06-23T06:18:19.104Z"
   },
   {
    "duration": 121,
    "start_time": "2025-06-23T06:18:19.242Z"
   },
   {
    "duration": 353,
    "start_time": "2025-06-23T06:18:19.371Z"
   },
   {
    "duration": 278,
    "start_time": "2025-06-23T06:18:19.727Z"
   },
   {
    "duration": 52,
    "start_time": "2025-06-23T06:18:20.007Z"
   },
   {
    "duration": 16,
    "start_time": "2025-06-23T06:18:20.070Z"
   },
   {
    "duration": 35,
    "start_time": "2025-06-23T06:18:20.088Z"
   },
   {
    "duration": 1560,
    "start_time": "2025-06-23T06:18:20.125Z"
   },
   {
    "duration": 211,
    "start_time": "2025-06-23T06:18:21.687Z"
   },
   {
    "duration": 14,
    "start_time": "2025-06-23T06:18:21.899Z"
   },
   {
    "duration": 27,
    "start_time": "2025-06-23T06:18:21.914Z"
   },
   {
    "duration": 1471,
    "start_time": "2025-06-23T06:18:21.942Z"
   },
   {
    "duration": 476,
    "start_time": "2025-06-23T06:18:23.415Z"
   },
   {
    "duration": 426,
    "start_time": "2025-06-23T06:18:23.893Z"
   },
   {
    "duration": 340,
    "start_time": "2025-06-23T06:18:24.321Z"
   },
   {
    "duration": 11,
    "start_time": "2025-06-23T06:18:24.671Z"
   },
   {
    "duration": 157,
    "start_time": "2025-06-23T06:18:24.687Z"
   },
   {
    "duration": 4,
    "start_time": "2025-06-23T06:18:24.845Z"
   },
   {
    "duration": 5308,
    "start_time": "2025-06-23T06:18:24.851Z"
   },
   {
    "duration": 45,
    "start_time": "2025-06-23T06:18:30.161Z"
   },
   {
    "duration": 53957,
    "start_time": "2025-06-23T06:18:30.208Z"
   },
   {
    "duration": 0,
    "start_time": "2025-06-23T06:19:24.171Z"
   },
   {
    "duration": 0,
    "start_time": "2025-06-23T06:19:24.171Z"
   },
   {
    "duration": 0,
    "start_time": "2025-06-23T06:19:24.172Z"
   },
   {
    "duration": 14,
    "start_time": "2025-06-23T06:20:55.169Z"
   },
   {
    "duration": 20,
    "start_time": "2025-06-23T06:21:22.859Z"
   },
   {
    "duration": 36,
    "start_time": "2025-06-23T06:23:28.787Z"
   },
   {
    "duration": 34,
    "start_time": "2025-06-23T06:23:49.758Z"
   },
   {
    "duration": 143,
    "start_time": "2025-06-23T06:23:54.992Z"
   },
   {
    "duration": 36,
    "start_time": "2025-06-23T06:25:20.864Z"
   },
   {
    "duration": 1451,
    "start_time": "2025-06-23T06:38:10.037Z"
   },
   {
    "duration": 1528,
    "start_time": "2025-06-23T06:39:39.530Z"
   },
   {
    "duration": 30,
    "start_time": "2025-06-23T06:48:20.369Z"
   },
   {
    "duration": 2961,
    "start_time": "2025-06-23T06:49:22.025Z"
   },
   {
    "duration": 2977,
    "start_time": "2025-06-23T06:49:26.132Z"
   },
   {
    "duration": 89,
    "start_time": "2025-06-23T06:49:29.112Z"
   },
   {
    "duration": 27,
    "start_time": "2025-06-23T06:49:29.203Z"
   },
   {
    "duration": 19,
    "start_time": "2025-06-23T06:49:29.232Z"
   },
   {
    "duration": 30,
    "start_time": "2025-06-23T06:49:29.252Z"
   },
   {
    "duration": 23,
    "start_time": "2025-06-23T06:49:29.284Z"
   },
   {
    "duration": 22,
    "start_time": "2025-06-23T06:49:29.309Z"
   },
   {
    "duration": 7,
    "start_time": "2025-06-23T06:49:29.333Z"
   },
   {
    "duration": 48,
    "start_time": "2025-06-23T06:49:29.341Z"
   },
   {
    "duration": 97,
    "start_time": "2025-06-23T06:49:29.394Z"
   },
   {
    "duration": 0,
    "start_time": "2025-06-23T06:49:29.493Z"
   },
   {
    "duration": 1,
    "start_time": "2025-06-23T06:49:29.499Z"
   },
   {
    "duration": 0,
    "start_time": "2025-06-23T06:49:29.501Z"
   },
   {
    "duration": 0,
    "start_time": "2025-06-23T06:49:29.502Z"
   },
   {
    "duration": 0,
    "start_time": "2025-06-23T06:49:29.503Z"
   },
   {
    "duration": 0,
    "start_time": "2025-06-23T06:49:29.505Z"
   },
   {
    "duration": 0,
    "start_time": "2025-06-23T06:49:29.505Z"
   },
   {
    "duration": 0,
    "start_time": "2025-06-23T06:49:29.506Z"
   },
   {
    "duration": 0,
    "start_time": "2025-06-23T06:49:29.508Z"
   },
   {
    "duration": 0,
    "start_time": "2025-06-23T06:49:29.509Z"
   },
   {
    "duration": 0,
    "start_time": "2025-06-23T06:49:29.510Z"
   },
   {
    "duration": 0,
    "start_time": "2025-06-23T06:49:29.512Z"
   },
   {
    "duration": 0,
    "start_time": "2025-06-23T06:49:29.513Z"
   },
   {
    "duration": 0,
    "start_time": "2025-06-23T06:49:29.514Z"
   },
   {
    "duration": 0,
    "start_time": "2025-06-23T06:49:29.515Z"
   },
   {
    "duration": 0,
    "start_time": "2025-06-23T06:49:29.516Z"
   },
   {
    "duration": 0,
    "start_time": "2025-06-23T06:49:29.517Z"
   },
   {
    "duration": 0,
    "start_time": "2025-06-23T06:49:29.519Z"
   },
   {
    "duration": 0,
    "start_time": "2025-06-23T06:49:29.519Z"
   },
   {
    "duration": 0,
    "start_time": "2025-06-23T06:49:29.521Z"
   },
   {
    "duration": 0,
    "start_time": "2025-06-23T06:49:29.522Z"
   },
   {
    "duration": 0,
    "start_time": "2025-06-23T06:49:29.523Z"
   },
   {
    "duration": 0,
    "start_time": "2025-06-23T06:49:29.524Z"
   },
   {
    "duration": 0,
    "start_time": "2025-06-23T06:49:29.525Z"
   },
   {
    "duration": 0,
    "start_time": "2025-06-23T06:49:29.526Z"
   },
   {
    "duration": 0,
    "start_time": "2025-06-23T06:49:29.528Z"
   },
   {
    "duration": 0,
    "start_time": "2025-06-23T06:49:29.529Z"
   },
   {
    "duration": 0,
    "start_time": "2025-06-23T06:49:29.530Z"
   },
   {
    "duration": 0,
    "start_time": "2025-06-23T06:49:29.531Z"
   },
   {
    "duration": 0,
    "start_time": "2025-06-23T06:49:29.532Z"
   },
   {
    "duration": 0,
    "start_time": "2025-06-23T06:49:29.533Z"
   },
   {
    "duration": 0,
    "start_time": "2025-06-23T06:49:29.534Z"
   },
   {
    "duration": 0,
    "start_time": "2025-06-23T06:49:29.573Z"
   },
   {
    "duration": 0,
    "start_time": "2025-06-23T06:49:29.574Z"
   },
   {
    "duration": 0,
    "start_time": "2025-06-23T06:49:29.575Z"
   },
   {
    "duration": 0,
    "start_time": "2025-06-23T06:49:29.576Z"
   },
   {
    "duration": 0,
    "start_time": "2025-06-23T06:49:29.576Z"
   },
   {
    "duration": 2950,
    "start_time": "2025-06-23T06:51:08.722Z"
   },
   {
    "duration": 99,
    "start_time": "2025-06-23T06:51:11.678Z"
   },
   {
    "duration": 39,
    "start_time": "2025-06-23T06:51:11.779Z"
   },
   {
    "duration": 22,
    "start_time": "2025-06-23T06:51:11.821Z"
   },
   {
    "duration": 110,
    "start_time": "2025-06-23T06:51:11.844Z"
   },
   {
    "duration": 19,
    "start_time": "2025-06-23T06:51:11.955Z"
   },
   {
    "duration": 30,
    "start_time": "2025-06-23T06:51:11.977Z"
   },
   {
    "duration": 8,
    "start_time": "2025-06-23T06:51:12.009Z"
   },
   {
    "duration": 11,
    "start_time": "2025-06-23T06:51:12.018Z"
   },
   {
    "duration": 122,
    "start_time": "2025-06-23T06:51:12.031Z"
   },
   {
    "duration": 0,
    "start_time": "2025-06-23T06:51:12.156Z"
   },
   {
    "duration": 0,
    "start_time": "2025-06-23T06:51:12.157Z"
   },
   {
    "duration": 0,
    "start_time": "2025-06-23T06:51:12.158Z"
   },
   {
    "duration": 0,
    "start_time": "2025-06-23T06:51:12.160Z"
   },
   {
    "duration": 0,
    "start_time": "2025-06-23T06:51:12.161Z"
   },
   {
    "duration": 0,
    "start_time": "2025-06-23T06:51:12.162Z"
   },
   {
    "duration": 0,
    "start_time": "2025-06-23T06:51:12.164Z"
   },
   {
    "duration": 0,
    "start_time": "2025-06-23T06:51:12.165Z"
   },
   {
    "duration": 0,
    "start_time": "2025-06-23T06:51:12.167Z"
   },
   {
    "duration": 0,
    "start_time": "2025-06-23T06:51:12.168Z"
   },
   {
    "duration": 0,
    "start_time": "2025-06-23T06:51:12.170Z"
   },
   {
    "duration": 0,
    "start_time": "2025-06-23T06:51:12.173Z"
   },
   {
    "duration": 0,
    "start_time": "2025-06-23T06:51:12.182Z"
   },
   {
    "duration": 0,
    "start_time": "2025-06-23T06:51:12.183Z"
   },
   {
    "duration": 0,
    "start_time": "2025-06-23T06:51:12.184Z"
   },
   {
    "duration": 0,
    "start_time": "2025-06-23T06:51:12.185Z"
   },
   {
    "duration": 0,
    "start_time": "2025-06-23T06:51:12.186Z"
   },
   {
    "duration": 0,
    "start_time": "2025-06-23T06:51:12.187Z"
   },
   {
    "duration": 0,
    "start_time": "2025-06-23T06:51:12.190Z"
   },
   {
    "duration": 0,
    "start_time": "2025-06-23T06:51:12.191Z"
   },
   {
    "duration": 0,
    "start_time": "2025-06-23T06:51:12.195Z"
   },
   {
    "duration": 0,
    "start_time": "2025-06-23T06:51:12.196Z"
   },
   {
    "duration": 0,
    "start_time": "2025-06-23T06:51:12.196Z"
   },
   {
    "duration": 0,
    "start_time": "2025-06-23T06:51:12.197Z"
   },
   {
    "duration": 0,
    "start_time": "2025-06-23T06:51:12.198Z"
   },
   {
    "duration": 0,
    "start_time": "2025-06-23T06:51:12.199Z"
   },
   {
    "duration": 0,
    "start_time": "2025-06-23T06:51:12.200Z"
   },
   {
    "duration": 0,
    "start_time": "2025-06-23T06:51:12.201Z"
   },
   {
    "duration": 0,
    "start_time": "2025-06-23T06:51:12.201Z"
   },
   {
    "duration": 0,
    "start_time": "2025-06-23T06:51:12.204Z"
   },
   {
    "duration": 0,
    "start_time": "2025-06-23T06:51:12.205Z"
   },
   {
    "duration": 1,
    "start_time": "2025-06-23T06:51:12.207Z"
   },
   {
    "duration": 0,
    "start_time": "2025-06-23T06:51:12.209Z"
   },
   {
    "duration": 0,
    "start_time": "2025-06-23T06:51:12.214Z"
   },
   {
    "duration": 0,
    "start_time": "2025-06-23T06:51:12.217Z"
   },
   {
    "duration": 0,
    "start_time": "2025-06-23T06:51:12.219Z"
   },
   {
    "duration": 0,
    "start_time": "2025-06-23T06:51:12.221Z"
   },
   {
    "duration": 3089,
    "start_time": "2025-06-23T06:51:53.236Z"
   },
   {
    "duration": 86,
    "start_time": "2025-06-23T06:51:56.329Z"
   },
   {
    "duration": 34,
    "start_time": "2025-06-23T06:51:56.418Z"
   },
   {
    "duration": 34,
    "start_time": "2025-06-23T06:51:56.455Z"
   },
   {
    "duration": 27,
    "start_time": "2025-06-23T06:51:56.491Z"
   },
   {
    "duration": 17,
    "start_time": "2025-06-23T06:51:56.520Z"
   },
   {
    "duration": 46,
    "start_time": "2025-06-23T06:51:56.539Z"
   },
   {
    "duration": 7,
    "start_time": "2025-06-23T06:51:56.587Z"
   },
   {
    "duration": 13,
    "start_time": "2025-06-23T06:51:56.595Z"
   },
   {
    "duration": 30,
    "start_time": "2025-06-23T06:51:56.612Z"
   },
   {
    "duration": 56,
    "start_time": "2025-06-23T06:51:56.644Z"
   },
   {
    "duration": 12,
    "start_time": "2025-06-23T06:51:56.702Z"
   },
   {
    "duration": 55,
    "start_time": "2025-06-23T06:51:56.716Z"
   },
   {
    "duration": 148,
    "start_time": "2025-06-23T06:51:56.780Z"
   },
   {
    "duration": 481,
    "start_time": "2025-06-23T06:51:56.930Z"
   },
   {
    "duration": 1170,
    "start_time": "2025-06-23T06:51:57.413Z"
   },
   {
    "duration": 1522,
    "start_time": "2025-06-23T06:51:58.586Z"
   },
   {
    "duration": 539,
    "start_time": "2025-06-23T06:52:00.110Z"
   },
   {
    "duration": 187,
    "start_time": "2025-06-23T06:52:00.651Z"
   },
   {
    "duration": 356,
    "start_time": "2025-06-23T06:52:00.840Z"
   },
   {
    "duration": 724,
    "start_time": "2025-06-23T06:52:01.198Z"
   },
   {
    "duration": 185,
    "start_time": "2025-06-23T06:52:01.924Z"
   },
   {
    "duration": 406,
    "start_time": "2025-06-23T06:52:02.111Z"
   },
   {
    "duration": 140,
    "start_time": "2025-06-23T06:52:02.519Z"
   },
   {
    "duration": 143,
    "start_time": "2025-06-23T06:52:02.661Z"
   },
   {
    "duration": 227,
    "start_time": "2025-06-23T06:52:02.806Z"
   },
   {
    "duration": 300,
    "start_time": "2025-06-23T06:52:03.035Z"
   },
   {
    "duration": 78,
    "start_time": "2025-06-23T06:52:03.338Z"
   },
   {
    "duration": 12,
    "start_time": "2025-06-23T06:52:03.418Z"
   },
   {
    "duration": 46,
    "start_time": "2025-06-23T06:52:03.432Z"
   },
   {
    "duration": 1807,
    "start_time": "2025-06-23T06:52:03.484Z"
   },
   {
    "duration": 242,
    "start_time": "2025-06-23T06:52:05.301Z"
   },
   {
    "duration": 36,
    "start_time": "2025-06-23T06:52:05.544Z"
   },
   {
    "duration": 23,
    "start_time": "2025-06-23T06:52:05.584Z"
   },
   {
    "duration": 1678,
    "start_time": "2025-06-23T06:52:05.610Z"
   },
   {
    "duration": 467,
    "start_time": "2025-06-23T06:52:07.290Z"
   },
   {
    "duration": 458,
    "start_time": "2025-06-23T06:52:07.760Z"
   },
   {
    "duration": 368,
    "start_time": "2025-06-23T06:52:08.220Z"
   },
   {
    "duration": 17,
    "start_time": "2025-06-23T06:52:08.590Z"
   },
   {
    "duration": 19,
    "start_time": "2025-06-23T06:52:08.609Z"
   },
   {
    "duration": 14,
    "start_time": "2025-06-23T06:52:08.629Z"
   },
   {
    "duration": 6666,
    "start_time": "2025-06-23T06:52:08.645Z"
   },
   {
    "duration": 35,
    "start_time": "2025-06-23T06:52:15.313Z"
   },
   {
    "duration": 59330,
    "start_time": "2025-06-23T06:52:15.350Z"
   },
   {
    "duration": 0,
    "start_time": "2025-06-23T06:53:14.685Z"
   },
   {
    "duration": 0,
    "start_time": "2025-06-23T06:53:14.690Z"
   },
   {
    "duration": 0,
    "start_time": "2025-06-23T06:53:14.694Z"
   },
   {
    "duration": 17,
    "start_time": "2025-06-23T07:00:06.142Z"
   },
   {
    "duration": 253,
    "start_time": "2025-06-23T07:02:36.325Z"
   },
   {
    "duration": 2781,
    "start_time": "2025-06-23T07:11:29.824Z"
   },
   {
    "duration": 94,
    "start_time": "2025-06-23T07:11:32.608Z"
   },
   {
    "duration": 28,
    "start_time": "2025-06-23T07:11:32.704Z"
   },
   {
    "duration": 25,
    "start_time": "2025-06-23T07:11:32.735Z"
   },
   {
    "duration": 29,
    "start_time": "2025-06-23T07:11:32.762Z"
   },
   {
    "duration": 193,
    "start_time": "2025-06-23T07:11:32.792Z"
   },
   {
    "duration": 22,
    "start_time": "2025-06-23T07:11:32.987Z"
   },
   {
    "duration": 6,
    "start_time": "2025-06-23T07:11:33.011Z"
   },
   {
    "duration": 17,
    "start_time": "2025-06-23T07:11:33.018Z"
   },
   {
    "duration": 65,
    "start_time": "2025-06-23T07:11:33.037Z"
   },
   {
    "duration": 21,
    "start_time": "2025-06-23T07:11:33.103Z"
   },
   {
    "duration": 57,
    "start_time": "2025-06-23T07:11:33.126Z"
   },
   {
    "duration": 135,
    "start_time": "2025-06-23T07:11:33.187Z"
   },
   {
    "duration": 134,
    "start_time": "2025-06-23T07:11:33.324Z"
   },
   {
    "duration": 432,
    "start_time": "2025-06-23T07:11:33.460Z"
   },
   {
    "duration": 949,
    "start_time": "2025-06-23T07:11:33.894Z"
   },
   {
    "duration": 1594,
    "start_time": "2025-06-23T07:11:34.844Z"
   },
   {
    "duration": 475,
    "start_time": "2025-06-23T07:11:36.440Z"
   },
   {
    "duration": 18,
    "start_time": "2025-06-23T07:11:36.917Z"
   },
   {
    "duration": 208,
    "start_time": "2025-06-23T07:11:36.938Z"
   },
   {
    "duration": 1509,
    "start_time": "2025-06-23T07:11:37.148Z"
   },
   {
    "duration": 180,
    "start_time": "2025-06-23T07:11:38.659Z"
   },
   {
    "duration": 287,
    "start_time": "2025-06-23T07:11:38.841Z"
   },
   {
    "duration": 130,
    "start_time": "2025-06-23T07:11:39.130Z"
   },
   {
    "duration": 128,
    "start_time": "2025-06-23T07:11:39.262Z"
   },
   {
    "duration": 208,
    "start_time": "2025-06-23T07:11:39.392Z"
   },
   {
    "duration": 281,
    "start_time": "2025-06-23T07:11:39.602Z"
   },
   {
    "duration": 230,
    "start_time": "2025-06-23T07:11:39.888Z"
   },
   {
    "duration": 13,
    "start_time": "2025-06-23T07:11:40.120Z"
   },
   {
    "duration": 49,
    "start_time": "2025-06-23T07:11:40.135Z"
   },
   {
    "duration": 1520,
    "start_time": "2025-06-23T07:11:40.186Z"
   },
   {
    "duration": 203,
    "start_time": "2025-06-23T07:11:41.708Z"
   },
   {
    "duration": 14,
    "start_time": "2025-06-23T07:11:41.913Z"
   },
   {
    "duration": 97,
    "start_time": "2025-06-23T07:11:41.928Z"
   },
   {
    "duration": 1450,
    "start_time": "2025-06-23T07:11:42.027Z"
   },
   {
    "duration": 388,
    "start_time": "2025-06-23T07:11:43.478Z"
   },
   {
    "duration": 372,
    "start_time": "2025-06-23T07:11:43.868Z"
   },
   {
    "duration": 279,
    "start_time": "2025-06-23T07:11:44.242Z"
   },
   {
    "duration": 7,
    "start_time": "2025-06-23T07:11:44.523Z"
   },
   {
    "duration": 39,
    "start_time": "2025-06-23T07:11:44.532Z"
   },
   {
    "duration": 6,
    "start_time": "2025-06-23T07:11:44.573Z"
   },
   {
    "duration": 5600,
    "start_time": "2025-06-23T07:11:44.581Z"
   },
   {
    "duration": 38,
    "start_time": "2025-06-23T07:11:50.183Z"
   },
   {
    "duration": 48128,
    "start_time": "2025-06-23T07:11:50.223Z"
   },
   {
    "duration": 0,
    "start_time": "2025-06-23T07:12:38.353Z"
   },
   {
    "duration": 0,
    "start_time": "2025-06-23T07:12:38.354Z"
   },
   {
    "duration": 0,
    "start_time": "2025-06-23T07:12:38.355Z"
   },
   {
    "duration": 18,
    "start_time": "2025-06-23T07:17:27.395Z"
   },
   {
    "duration": 38,
    "start_time": "2025-06-23T07:17:35.022Z"
   },
   {
    "duration": 11,
    "start_time": "2025-06-23T07:20:09.445Z"
   },
   {
    "duration": 11,
    "start_time": "2025-06-23T07:24:08.833Z"
   },
   {
    "duration": 11,
    "start_time": "2025-06-23T07:25:33.249Z"
   },
   {
    "duration": 2649,
    "start_time": "2025-06-23T07:25:50.912Z"
   },
   {
    "duration": 82,
    "start_time": "2025-06-23T07:25:53.564Z"
   },
   {
    "duration": 30,
    "start_time": "2025-06-23T07:25:53.648Z"
   },
   {
    "duration": 20,
    "start_time": "2025-06-23T07:25:53.680Z"
   },
   {
    "duration": 25,
    "start_time": "2025-06-23T07:25:53.701Z"
   },
   {
    "duration": 50,
    "start_time": "2025-06-23T07:25:53.728Z"
   },
   {
    "duration": 75,
    "start_time": "2025-06-23T07:25:53.780Z"
   },
   {
    "duration": 7,
    "start_time": "2025-06-23T07:25:53.857Z"
   },
   {
    "duration": 11,
    "start_time": "2025-06-23T07:25:53.865Z"
   },
   {
    "duration": 32,
    "start_time": "2025-06-23T07:25:53.879Z"
   },
   {
    "duration": 21,
    "start_time": "2025-06-23T07:25:53.913Z"
   },
   {
    "duration": 43,
    "start_time": "2025-06-23T07:25:53.936Z"
   },
   {
    "duration": 110,
    "start_time": "2025-06-23T07:25:53.980Z"
   },
   {
    "duration": 147,
    "start_time": "2025-06-23T07:25:54.092Z"
   },
   {
    "duration": 426,
    "start_time": "2025-06-23T07:25:54.242Z"
   },
   {
    "duration": 932,
    "start_time": "2025-06-23T07:25:54.670Z"
   },
   {
    "duration": 1551,
    "start_time": "2025-06-23T07:25:55.604Z"
   },
   {
    "duration": 452,
    "start_time": "2025-06-23T07:25:57.157Z"
   },
   {
    "duration": 17,
    "start_time": "2025-06-23T07:25:57.610Z"
   },
   {
    "duration": 162,
    "start_time": "2025-06-23T07:25:57.628Z"
   },
   {
    "duration": 9,
    "start_time": "2025-06-23T07:25:57.792Z"
   },
   {
    "duration": 1468,
    "start_time": "2025-06-23T07:25:57.803Z"
   },
   {
    "duration": 159,
    "start_time": "2025-06-23T07:25:59.273Z"
   },
   {
    "duration": 277,
    "start_time": "2025-06-23T07:25:59.434Z"
   },
   {
    "duration": 124,
    "start_time": "2025-06-23T07:25:59.713Z"
   },
   {
    "duration": 120,
    "start_time": "2025-06-23T07:25:59.838Z"
   },
   {
    "duration": 359,
    "start_time": "2025-06-23T07:25:59.960Z"
   },
   {
    "duration": 262,
    "start_time": "2025-06-23T07:26:00.323Z"
   },
   {
    "duration": 45,
    "start_time": "2025-06-23T07:26:00.587Z"
   },
   {
    "duration": 40,
    "start_time": "2025-06-23T07:26:00.633Z"
   },
   {
    "duration": 31,
    "start_time": "2025-06-23T07:26:00.676Z"
   },
   {
    "duration": 29,
    "start_time": "2025-06-23T07:26:00.710Z"
   },
   {
    "duration": 1525,
    "start_time": "2025-06-23T07:26:00.740Z"
   },
   {
    "duration": 212,
    "start_time": "2025-06-23T07:26:02.267Z"
   },
   {
    "duration": 14,
    "start_time": "2025-06-23T07:26:02.482Z"
   },
   {
    "duration": 89,
    "start_time": "2025-06-23T07:26:02.498Z"
   },
   {
    "duration": 1466,
    "start_time": "2025-06-23T07:26:02.590Z"
   },
   {
    "duration": 403,
    "start_time": "2025-06-23T07:26:04.058Z"
   },
   {
    "duration": 377,
    "start_time": "2025-06-23T07:26:04.462Z"
   },
   {
    "duration": 292,
    "start_time": "2025-06-23T07:26:04.840Z"
   },
   {
    "duration": 7,
    "start_time": "2025-06-23T07:26:05.134Z"
   },
   {
    "duration": 39,
    "start_time": "2025-06-23T07:26:05.143Z"
   },
   {
    "duration": 67,
    "start_time": "2025-06-23T07:26:05.184Z"
   },
   {
    "duration": 6350,
    "start_time": "2025-06-23T07:26:05.253Z"
   },
   {
    "duration": 36,
    "start_time": "2025-06-23T07:26:11.604Z"
   },
   {
    "duration": 49614,
    "start_time": "2025-06-23T07:26:11.642Z"
   },
   {
    "duration": 0,
    "start_time": "2025-06-23T07:27:01.258Z"
   },
   {
    "duration": 0,
    "start_time": "2025-06-23T07:27:01.259Z"
   },
   {
    "duration": 0,
    "start_time": "2025-06-23T07:27:01.260Z"
   },
   {
    "duration": 613,
    "start_time": "2025-06-23T07:35:37.129Z"
   },
   {
    "duration": 2784,
    "start_time": "2025-06-23T07:35:52.790Z"
   },
   {
    "duration": 81,
    "start_time": "2025-06-23T07:35:55.577Z"
   },
   {
    "duration": 28,
    "start_time": "2025-06-23T07:35:55.660Z"
   },
   {
    "duration": 19,
    "start_time": "2025-06-23T07:35:55.690Z"
   },
   {
    "duration": 18,
    "start_time": "2025-06-23T07:35:55.710Z"
   },
   {
    "duration": 46,
    "start_time": "2025-06-23T07:35:55.730Z"
   },
   {
    "duration": 25,
    "start_time": "2025-06-23T07:35:55.777Z"
   },
   {
    "duration": 7,
    "start_time": "2025-06-23T07:35:55.804Z"
   },
   {
    "duration": 45,
    "start_time": "2025-06-23T07:35:55.812Z"
   },
   {
    "duration": 37,
    "start_time": "2025-06-23T07:35:55.860Z"
   },
   {
    "duration": 25,
    "start_time": "2025-06-23T07:35:55.899Z"
   },
   {
    "duration": 67,
    "start_time": "2025-06-23T07:35:55.926Z"
   },
   {
    "duration": 75,
    "start_time": "2025-06-23T07:35:55.995Z"
   },
   {
    "duration": 159,
    "start_time": "2025-06-23T07:35:56.072Z"
   },
   {
    "duration": 439,
    "start_time": "2025-06-23T07:35:56.233Z"
   },
   {
    "duration": 909,
    "start_time": "2025-06-23T07:35:56.674Z"
   },
   {
    "duration": 1479,
    "start_time": "2025-06-23T07:35:57.585Z"
   },
   {
    "duration": 456,
    "start_time": "2025-06-23T07:35:59.066Z"
   },
   {
    "duration": 17,
    "start_time": "2025-06-23T07:35:59.523Z"
   },
   {
    "duration": 182,
    "start_time": "2025-06-23T07:35:59.541Z"
   },
   {
    "duration": 9,
    "start_time": "2025-06-23T07:35:59.725Z"
   },
   {
    "duration": 1441,
    "start_time": "2025-06-23T07:35:59.736Z"
   },
   {
    "duration": 158,
    "start_time": "2025-06-23T07:36:01.179Z"
   },
   {
    "duration": 264,
    "start_time": "2025-06-23T07:36:01.338Z"
   },
   {
    "duration": 132,
    "start_time": "2025-06-23T07:36:01.604Z"
   },
   {
    "duration": 117,
    "start_time": "2025-06-23T07:36:01.738Z"
   },
   {
    "duration": 347,
    "start_time": "2025-06-23T07:36:01.857Z"
   },
   {
    "duration": 283,
    "start_time": "2025-06-23T07:36:02.212Z"
   },
   {
    "duration": 286,
    "start_time": "2025-06-23T07:36:02.497Z"
   },
   {
    "duration": 0,
    "start_time": "2025-06-23T07:36:02.785Z"
   },
   {
    "duration": 0,
    "start_time": "2025-06-23T07:36:02.786Z"
   },
   {
    "duration": 0,
    "start_time": "2025-06-23T07:36:02.788Z"
   },
   {
    "duration": 0,
    "start_time": "2025-06-23T07:36:02.789Z"
   },
   {
    "duration": 0,
    "start_time": "2025-06-23T07:36:02.790Z"
   },
   {
    "duration": 0,
    "start_time": "2025-06-23T07:36:02.792Z"
   },
   {
    "duration": 0,
    "start_time": "2025-06-23T07:36:02.793Z"
   },
   {
    "duration": 0,
    "start_time": "2025-06-23T07:36:02.794Z"
   },
   {
    "duration": 0,
    "start_time": "2025-06-23T07:36:02.795Z"
   },
   {
    "duration": 0,
    "start_time": "2025-06-23T07:36:02.796Z"
   },
   {
    "duration": 0,
    "start_time": "2025-06-23T07:36:02.797Z"
   },
   {
    "duration": 0,
    "start_time": "2025-06-23T07:36:02.798Z"
   },
   {
    "duration": 0,
    "start_time": "2025-06-23T07:36:02.799Z"
   },
   {
    "duration": 0,
    "start_time": "2025-06-23T07:36:02.800Z"
   },
   {
    "duration": 0,
    "start_time": "2025-06-23T07:36:02.802Z"
   },
   {
    "duration": 0,
    "start_time": "2025-06-23T07:36:02.803Z"
   },
   {
    "duration": 0,
    "start_time": "2025-06-23T07:36:02.803Z"
   },
   {
    "duration": 0,
    "start_time": "2025-06-23T07:36:02.805Z"
   },
   {
    "duration": 0,
    "start_time": "2025-06-23T07:36:02.806Z"
   },
   {
    "duration": 0,
    "start_time": "2025-06-23T07:36:02.807Z"
   },
   {
    "duration": 270,
    "start_time": "2025-06-23T07:37:27.125Z"
   },
   {
    "duration": 2732,
    "start_time": "2025-06-23T07:38:15.276Z"
   },
   {
    "duration": 95,
    "start_time": "2025-06-23T07:38:18.011Z"
   },
   {
    "duration": 29,
    "start_time": "2025-06-23T07:38:18.108Z"
   },
   {
    "duration": 21,
    "start_time": "2025-06-23T07:38:18.139Z"
   },
   {
    "duration": 30,
    "start_time": "2025-06-23T07:38:18.162Z"
   },
   {
    "duration": 26,
    "start_time": "2025-06-23T07:38:18.194Z"
   },
   {
    "duration": 29,
    "start_time": "2025-06-23T07:38:18.222Z"
   },
   {
    "duration": 6,
    "start_time": "2025-06-23T07:38:18.253Z"
   },
   {
    "duration": 23,
    "start_time": "2025-06-23T07:38:18.261Z"
   },
   {
    "duration": 40,
    "start_time": "2025-06-23T07:38:18.287Z"
   },
   {
    "duration": 84,
    "start_time": "2025-06-23T07:38:18.329Z"
   },
   {
    "duration": 12,
    "start_time": "2025-06-23T07:38:18.416Z"
   },
   {
    "duration": 37,
    "start_time": "2025-06-23T07:38:18.429Z"
   },
   {
    "duration": 149,
    "start_time": "2025-06-23T07:38:18.469Z"
   },
   {
    "duration": 432,
    "start_time": "2025-06-23T07:38:18.620Z"
   },
   {
    "duration": 954,
    "start_time": "2025-06-23T07:38:19.054Z"
   },
   {
    "duration": 1626,
    "start_time": "2025-06-23T07:38:20.010Z"
   },
   {
    "duration": 484,
    "start_time": "2025-06-23T07:38:21.638Z"
   },
   {
    "duration": 16,
    "start_time": "2025-06-23T07:38:22.124Z"
   },
   {
    "duration": 204,
    "start_time": "2025-06-23T07:38:22.142Z"
   },
   {
    "duration": 10,
    "start_time": "2025-06-23T07:38:22.347Z"
   },
   {
    "duration": 1520,
    "start_time": "2025-06-23T07:38:22.371Z"
   },
   {
    "duration": 170,
    "start_time": "2025-06-23T07:38:23.893Z"
   },
   {
    "duration": 303,
    "start_time": "2025-06-23T07:38:24.071Z"
   },
   {
    "duration": 131,
    "start_time": "2025-06-23T07:38:24.376Z"
   },
   {
    "duration": 138,
    "start_time": "2025-06-23T07:38:24.509Z"
   },
   {
    "duration": 396,
    "start_time": "2025-06-23T07:38:24.648Z"
   },
   {
    "duration": 304,
    "start_time": "2025-06-23T07:38:25.047Z"
   },
   {
    "duration": 46,
    "start_time": "2025-06-23T07:38:25.353Z"
   },
   {
    "duration": 19,
    "start_time": "2025-06-23T07:38:25.401Z"
   },
   {
    "duration": 13,
    "start_time": "2025-06-23T07:38:25.423Z"
   },
   {
    "duration": 45,
    "start_time": "2025-06-23T07:38:25.438Z"
   },
   {
    "duration": 1623,
    "start_time": "2025-06-23T07:38:25.486Z"
   },
   {
    "duration": 226,
    "start_time": "2025-06-23T07:38:27.111Z"
   },
   {
    "duration": 14,
    "start_time": "2025-06-23T07:38:27.338Z"
   },
   {
    "duration": 38,
    "start_time": "2025-06-23T07:38:27.353Z"
   },
   {
    "duration": 1456,
    "start_time": "2025-06-23T07:38:27.393Z"
   },
   {
    "duration": 440,
    "start_time": "2025-06-23T07:38:28.851Z"
   },
   {
    "duration": 418,
    "start_time": "2025-06-23T07:38:29.293Z"
   },
   {
    "duration": 283,
    "start_time": "2025-06-23T07:38:29.713Z"
   },
   {
    "duration": 7,
    "start_time": "2025-06-23T07:38:29.997Z"
   },
   {
    "duration": 139,
    "start_time": "2025-06-23T07:38:30.005Z"
   },
   {
    "duration": 43,
    "start_time": "2025-06-23T07:38:30.146Z"
   },
   {
    "duration": 6124,
    "start_time": "2025-06-23T07:38:30.191Z"
   },
   {
    "duration": 36,
    "start_time": "2025-06-23T07:38:36.317Z"
   },
   {
    "duration": 56078,
    "start_time": "2025-06-23T07:38:36.371Z"
   },
   {
    "duration": 0,
    "start_time": "2025-06-23T07:39:32.451Z"
   },
   {
    "duration": 0,
    "start_time": "2025-06-23T07:39:32.452Z"
   },
   {
    "duration": 0,
    "start_time": "2025-06-23T07:39:32.453Z"
   },
   {
    "duration": 1392,
    "start_time": "2025-06-23T07:47:39.064Z"
   },
   {
    "duration": 16,
    "start_time": "2025-06-23T07:54:43.438Z"
   },
   {
    "duration": 4746,
    "start_time": "2025-06-23T07:55:25.602Z"
   },
   {
    "duration": 78,
    "start_time": "2025-06-23T07:55:30.351Z"
   },
   {
    "duration": 32,
    "start_time": "2025-06-23T07:55:30.431Z"
   },
   {
    "duration": 40,
    "start_time": "2025-06-23T07:55:30.465Z"
   },
   {
    "duration": 67,
    "start_time": "2025-06-23T07:55:30.507Z"
   },
   {
    "duration": 46,
    "start_time": "2025-06-23T07:55:30.575Z"
   },
   {
    "duration": 29,
    "start_time": "2025-06-23T07:55:30.622Z"
   },
   {
    "duration": 20,
    "start_time": "2025-06-23T07:55:30.653Z"
   },
   {
    "duration": 13,
    "start_time": "2025-06-23T07:55:30.674Z"
   },
   {
    "duration": 40,
    "start_time": "2025-06-23T07:55:30.690Z"
   },
   {
    "duration": 19,
    "start_time": "2025-06-23T07:55:30.732Z"
   },
   {
    "duration": 26,
    "start_time": "2025-06-23T07:55:30.753Z"
   },
   {
    "duration": 60,
    "start_time": "2025-06-23T07:55:30.781Z"
   },
   {
    "duration": 279,
    "start_time": "2025-06-23T07:55:30.843Z"
   },
   {
    "duration": 629,
    "start_time": "2025-06-23T07:55:31.123Z"
   },
   {
    "duration": 1755,
    "start_time": "2025-06-23T07:55:31.753Z"
   },
   {
    "duration": 2193,
    "start_time": "2025-06-23T07:55:33.509Z"
   },
   {
    "duration": 720,
    "start_time": "2025-06-23T07:55:35.704Z"
   },
   {
    "duration": 17,
    "start_time": "2025-06-23T07:55:36.425Z"
   },
   {
    "duration": 265,
    "start_time": "2025-06-23T07:55:36.443Z"
   },
   {
    "duration": 9,
    "start_time": "2025-06-23T07:55:36.710Z"
   },
   {
    "duration": 1770,
    "start_time": "2025-06-23T07:55:36.721Z"
   },
   {
    "duration": 242,
    "start_time": "2025-06-23T07:55:38.493Z"
   },
   {
    "duration": 356,
    "start_time": "2025-06-23T07:55:38.737Z"
   },
   {
    "duration": 200,
    "start_time": "2025-06-23T07:55:39.095Z"
   },
   {
    "duration": 198,
    "start_time": "2025-06-23T07:55:39.296Z"
   },
   {
    "duration": 409,
    "start_time": "2025-06-23T07:55:39.496Z"
   },
   {
    "duration": 257,
    "start_time": "2025-06-23T07:55:39.909Z"
   },
   {
    "duration": 39,
    "start_time": "2025-06-23T07:55:40.168Z"
   },
   {
    "duration": 19,
    "start_time": "2025-06-23T07:55:40.209Z"
   },
   {
    "duration": 10,
    "start_time": "2025-06-23T07:55:40.230Z"
   },
   {
    "duration": 46,
    "start_time": "2025-06-23T07:55:40.242Z"
   },
   {
    "duration": 1047,
    "start_time": "2025-06-23T07:55:40.289Z"
   },
   {
    "duration": 322,
    "start_time": "2025-06-23T07:55:41.338Z"
   },
   {
    "duration": 21,
    "start_time": "2025-06-23T07:55:41.663Z"
   },
   {
    "duration": 20,
    "start_time": "2025-06-23T07:55:41.686Z"
   },
   {
    "duration": 1018,
    "start_time": "2025-06-23T07:55:41.708Z"
   },
   {
    "duration": 456,
    "start_time": "2025-06-23T07:55:42.728Z"
   },
   {
    "duration": 471,
    "start_time": "2025-06-23T07:55:43.186Z"
   },
   {
    "duration": 273,
    "start_time": "2025-06-23T07:55:43.659Z"
   },
   {
    "duration": 6,
    "start_time": "2025-06-23T07:55:43.934Z"
   },
   {
    "duration": 35,
    "start_time": "2025-06-23T07:55:43.942Z"
   },
   {
    "duration": 69,
    "start_time": "2025-06-23T07:55:43.979Z"
   },
   {
    "duration": 5754,
    "start_time": "2025-06-23T07:55:44.049Z"
   },
   {
    "duration": 40,
    "start_time": "2025-06-23T07:55:49.805Z"
   },
   {
    "duration": 54159,
    "start_time": "2025-06-23T07:55:49.847Z"
   },
   {
    "duration": 720,
    "start_time": "2025-06-23T07:56:44.009Z"
   },
   {
    "duration": 8,
    "start_time": "2025-06-23T07:56:44.730Z"
   },
   {
    "duration": 769,
    "start_time": "2025-06-23T07:56:44.739Z"
   },
   {
    "duration": 7,
    "start_time": "2025-06-23T08:04:00.724Z"
   },
   {
    "duration": 7,
    "start_time": "2025-06-23T08:05:00.318Z"
   },
   {
    "duration": 6,
    "start_time": "2025-06-23T08:05:42.995Z"
   },
   {
    "duration": 8,
    "start_time": "2025-06-23T08:06:12.332Z"
   },
   {
    "duration": 5,
    "start_time": "2025-06-23T08:07:11.014Z"
   },
   {
    "duration": 1941,
    "start_time": "2025-06-23T08:07:58.823Z"
   },
   {
    "duration": 7,
    "start_time": "2025-06-23T08:08:10.939Z"
   },
   {
    "duration": 17,
    "start_time": "2025-06-23T08:10:33.171Z"
   },
   {
    "duration": 6,
    "start_time": "2025-06-23T08:11:43.086Z"
   },
   {
    "duration": 7,
    "start_time": "2025-06-23T08:11:57.699Z"
   },
   {
    "duration": 5,
    "start_time": "2025-06-23T08:14:27.352Z"
   },
   {
    "duration": 5743,
    "start_time": "2025-06-23T08:16:34.776Z"
   },
   {
    "duration": 5006,
    "start_time": "2025-06-23T08:23:42.131Z"
   },
   {
    "duration": 91,
    "start_time": "2025-06-23T08:23:47.139Z"
   },
   {
    "duration": 33,
    "start_time": "2025-06-23T08:23:47.231Z"
   },
   {
    "duration": 31,
    "start_time": "2025-06-23T08:23:47.266Z"
   },
   {
    "duration": 18,
    "start_time": "2025-06-23T08:23:47.300Z"
   },
   {
    "duration": 22,
    "start_time": "2025-06-23T08:23:47.319Z"
   },
   {
    "duration": 39,
    "start_time": "2025-06-23T08:23:47.343Z"
   },
   {
    "duration": 7,
    "start_time": "2025-06-23T08:23:47.385Z"
   },
   {
    "duration": 10,
    "start_time": "2025-06-23T08:23:47.394Z"
   },
   {
    "duration": 37,
    "start_time": "2025-06-23T08:23:47.406Z"
   },
   {
    "duration": 68,
    "start_time": "2025-06-23T08:23:47.445Z"
   },
   {
    "duration": 10,
    "start_time": "2025-06-23T08:23:47.515Z"
   },
   {
    "duration": 36,
    "start_time": "2025-06-23T08:23:47.527Z"
   },
   {
    "duration": 270,
    "start_time": "2025-06-23T08:23:47.566Z"
   },
   {
    "duration": 768,
    "start_time": "2025-06-23T08:23:47.838Z"
   },
   {
    "duration": 1810,
    "start_time": "2025-06-23T08:23:48.608Z"
   },
   {
    "duration": 2387,
    "start_time": "2025-06-23T08:23:50.420Z"
   },
   {
    "duration": 808,
    "start_time": "2025-06-23T08:23:52.809Z"
   },
   {
    "duration": 19,
    "start_time": "2025-06-23T08:23:53.619Z"
   },
   {
    "duration": 294,
    "start_time": "2025-06-23T08:23:53.639Z"
   },
   {
    "duration": 11,
    "start_time": "2025-06-23T08:23:53.934Z"
   },
   {
    "duration": 1929,
    "start_time": "2025-06-23T08:23:53.947Z"
   },
   {
    "duration": 247,
    "start_time": "2025-06-23T08:23:55.878Z"
   },
   {
    "duration": 389,
    "start_time": "2025-06-23T08:23:56.128Z"
   },
   {
    "duration": 198,
    "start_time": "2025-06-23T08:23:56.518Z"
   },
   {
    "duration": 210,
    "start_time": "2025-06-23T08:23:56.718Z"
   },
   {
    "duration": 434,
    "start_time": "2025-06-23T08:23:56.930Z"
   },
   {
    "duration": 272,
    "start_time": "2025-06-23T08:23:57.367Z"
   },
   {
    "duration": 53,
    "start_time": "2025-06-23T08:23:57.641Z"
   },
   {
    "duration": 17,
    "start_time": "2025-06-23T08:23:57.696Z"
   },
   {
    "duration": 28,
    "start_time": "2025-06-23T08:23:57.715Z"
   },
   {
    "duration": 17,
    "start_time": "2025-06-23T08:23:57.745Z"
   },
   {
    "duration": 1081,
    "start_time": "2025-06-23T08:23:57.763Z"
   },
   {
    "duration": 318,
    "start_time": "2025-06-23T08:23:58.846Z"
   },
   {
    "duration": 23,
    "start_time": "2025-06-23T08:23:59.165Z"
   },
   {
    "duration": 27,
    "start_time": "2025-06-23T08:23:59.189Z"
   },
   {
    "duration": 1007,
    "start_time": "2025-06-23T08:23:59.218Z"
   },
   {
    "duration": 439,
    "start_time": "2025-06-23T08:24:00.227Z"
   },
   {
    "duration": 521,
    "start_time": "2025-06-23T08:24:00.668Z"
   },
   {
    "duration": 285,
    "start_time": "2025-06-23T08:24:01.191Z"
   },
   {
    "duration": 5,
    "start_time": "2025-06-23T08:24:01.487Z"
   },
   {
    "duration": 25,
    "start_time": "2025-06-23T08:24:01.494Z"
   },
   {
    "duration": 26,
    "start_time": "2025-06-23T08:24:01.521Z"
   },
   {
    "duration": 303,
    "start_time": "2025-06-23T08:24:01.549Z"
   },
   {
    "duration": 0,
    "start_time": "2025-06-23T08:24:01.853Z"
   },
   {
    "duration": 0,
    "start_time": "2025-06-23T08:24:01.855Z"
   },
   {
    "duration": 0,
    "start_time": "2025-06-23T08:24:01.856Z"
   },
   {
    "duration": 0,
    "start_time": "2025-06-23T08:24:01.857Z"
   },
   {
    "duration": 0,
    "start_time": "2025-06-23T08:24:01.858Z"
   },
   {
    "duration": 2799,
    "start_time": "2025-06-23T08:32:22.764Z"
   },
   {
    "duration": 83,
    "start_time": "2025-06-23T08:32:25.566Z"
   },
   {
    "duration": 38,
    "start_time": "2025-06-23T08:32:25.650Z"
   },
   {
    "duration": 19,
    "start_time": "2025-06-23T08:32:25.690Z"
   },
   {
    "duration": 83,
    "start_time": "2025-06-23T08:32:25.711Z"
   },
   {
    "duration": 16,
    "start_time": "2025-06-23T08:32:25.796Z"
   },
   {
    "duration": 25,
    "start_time": "2025-06-23T08:32:25.814Z"
   },
   {
    "duration": 7,
    "start_time": "2025-06-23T08:32:25.841Z"
   },
   {
    "duration": 18,
    "start_time": "2025-06-23T08:32:25.876Z"
   },
   {
    "duration": 31,
    "start_time": "2025-06-23T08:32:25.896Z"
   },
   {
    "duration": 28,
    "start_time": "2025-06-23T08:32:25.929Z"
   },
   {
    "duration": 16,
    "start_time": "2025-06-23T08:32:25.972Z"
   },
   {
    "duration": 50,
    "start_time": "2025-06-23T08:32:25.989Z"
   },
   {
    "duration": 306,
    "start_time": "2025-06-23T08:32:26.042Z"
   },
   {
    "duration": 726,
    "start_time": "2025-06-23T08:32:26.350Z"
   },
   {
    "duration": 1634,
    "start_time": "2025-06-23T08:32:27.080Z"
   },
   {
    "duration": 2483,
    "start_time": "2025-06-23T08:32:28.716Z"
   },
   {
    "duration": 796,
    "start_time": "2025-06-23T08:32:31.200Z"
   },
   {
    "duration": 16,
    "start_time": "2025-06-23T08:32:31.998Z"
   },
   {
    "duration": 315,
    "start_time": "2025-06-23T08:32:32.016Z"
   },
   {
    "duration": 10,
    "start_time": "2025-06-23T08:32:32.332Z"
   },
   {
    "duration": 1862,
    "start_time": "2025-06-23T08:32:32.343Z"
   },
   {
    "duration": 230,
    "start_time": "2025-06-23T08:32:34.206Z"
   },
   {
    "duration": 372,
    "start_time": "2025-06-23T08:32:34.438Z"
   },
   {
    "duration": 203,
    "start_time": "2025-06-23T08:32:34.812Z"
   },
   {
    "duration": 216,
    "start_time": "2025-06-23T08:32:35.017Z"
   },
   {
    "duration": 317,
    "start_time": "2025-06-23T08:32:35.235Z"
   },
   {
    "duration": 275,
    "start_time": "2025-06-23T08:32:35.554Z"
   },
   {
    "duration": 55,
    "start_time": "2025-06-23T08:32:35.831Z"
   },
   {
    "duration": 26,
    "start_time": "2025-06-23T08:32:35.889Z"
   },
   {
    "duration": 47,
    "start_time": "2025-06-23T08:32:35.917Z"
   },
   {
    "duration": 41,
    "start_time": "2025-06-23T08:32:35.966Z"
   },
   {
    "duration": 1271,
    "start_time": "2025-06-23T08:32:36.008Z"
   },
   {
    "duration": 315,
    "start_time": "2025-06-23T08:32:37.287Z"
   },
   {
    "duration": 14,
    "start_time": "2025-06-23T08:32:37.604Z"
   },
   {
    "duration": 19,
    "start_time": "2025-06-23T08:32:37.620Z"
   },
   {
    "duration": 1072,
    "start_time": "2025-06-23T08:32:37.641Z"
   },
   {
    "duration": 461,
    "start_time": "2025-06-23T08:32:38.714Z"
   },
   {
    "duration": 476,
    "start_time": "2025-06-23T08:32:39.181Z"
   },
   {
    "duration": 276,
    "start_time": "2025-06-23T08:32:39.659Z"
   },
   {
    "duration": 7,
    "start_time": "2025-06-23T08:32:39.939Z"
   },
   {
    "duration": 44,
    "start_time": "2025-06-23T08:32:39.948Z"
   },
   {
    "duration": 4,
    "start_time": "2025-06-23T08:32:39.994Z"
   },
   {
    "duration": 130,
    "start_time": "2025-06-23T08:32:40.001Z"
   },
   {
    "duration": 0,
    "start_time": "2025-06-23T08:32:40.133Z"
   },
   {
    "duration": 0,
    "start_time": "2025-06-23T08:32:40.134Z"
   },
   {
    "duration": 0,
    "start_time": "2025-06-23T08:32:40.136Z"
   },
   {
    "duration": 0,
    "start_time": "2025-06-23T08:32:40.137Z"
   },
   {
    "duration": 0,
    "start_time": "2025-06-23T08:32:40.139Z"
   },
   {
    "duration": 5,
    "start_time": "2025-06-23T08:36:43.220Z"
   },
   {
    "duration": 6375,
    "start_time": "2025-06-23T08:36:48.181Z"
   },
   {
    "duration": 25,
    "start_time": "2025-06-23T08:38:23.570Z"
   },
   {
    "duration": 17,
    "start_time": "2025-06-23T08:40:39.748Z"
   },
   {
    "duration": 33,
    "start_time": "2025-06-23T08:42:55.309Z"
   },
   {
    "duration": 4,
    "start_time": "2025-06-23T08:43:08.408Z"
   },
   {
    "duration": 34,
    "start_time": "2025-06-23T08:43:10.716Z"
   },
   {
    "duration": 7,
    "start_time": "2025-06-23T08:46:40.610Z"
   },
   {
    "duration": 7,
    "start_time": "2025-06-23T08:47:48.527Z"
   },
   {
    "duration": 10,
    "start_time": "2025-06-23T08:49:11.176Z"
   },
   {
    "duration": 1284,
    "start_time": "2025-06-23T08:49:13.944Z"
   },
   {
    "duration": 7,
    "start_time": "2025-06-23T08:50:29.115Z"
   },
   {
    "duration": 6063,
    "start_time": "2025-06-23T08:50:31.521Z"
   },
   {
    "duration": 2739,
    "start_time": "2025-06-23T08:52:23.441Z"
   },
   {
    "duration": 113,
    "start_time": "2025-06-23T08:52:26.184Z"
   },
   {
    "duration": 26,
    "start_time": "2025-06-23T08:52:26.298Z"
   },
   {
    "duration": 79,
    "start_time": "2025-06-23T08:52:26.326Z"
   },
   {
    "duration": 16,
    "start_time": "2025-06-23T08:52:26.407Z"
   },
   {
    "duration": 15,
    "start_time": "2025-06-23T08:52:26.425Z"
   },
   {
    "duration": 42,
    "start_time": "2025-06-23T08:52:26.442Z"
   },
   {
    "duration": 11,
    "start_time": "2025-06-23T08:52:26.487Z"
   },
   {
    "duration": 9,
    "start_time": "2025-06-23T08:52:26.500Z"
   },
   {
    "duration": 36,
    "start_time": "2025-06-23T08:52:26.510Z"
   },
   {
    "duration": 28,
    "start_time": "2025-06-23T08:52:26.547Z"
   },
   {
    "duration": 17,
    "start_time": "2025-06-23T08:52:26.581Z"
   },
   {
    "duration": 38,
    "start_time": "2025-06-23T08:52:26.600Z"
   },
   {
    "duration": 300,
    "start_time": "2025-06-23T08:52:26.641Z"
   },
   {
    "duration": 811,
    "start_time": "2025-06-23T08:52:26.943Z"
   },
   {
    "duration": 1659,
    "start_time": "2025-06-23T08:52:27.756Z"
   },
   {
    "duration": 2404,
    "start_time": "2025-06-23T08:52:29.417Z"
   },
   {
    "duration": 729,
    "start_time": "2025-06-23T08:52:31.823Z"
   },
   {
    "duration": 32,
    "start_time": "2025-06-23T08:52:32.553Z"
   },
   {
    "duration": 252,
    "start_time": "2025-06-23T08:52:32.587Z"
   },
   {
    "duration": 9,
    "start_time": "2025-06-23T08:52:32.841Z"
   },
   {
    "duration": 1874,
    "start_time": "2025-06-23T08:52:32.851Z"
   },
   {
    "duration": 287,
    "start_time": "2025-06-23T08:52:34.726Z"
   },
   {
    "duration": 392,
    "start_time": "2025-06-23T08:52:35.015Z"
   },
   {
    "duration": 209,
    "start_time": "2025-06-23T08:52:35.409Z"
   },
   {
    "duration": 205,
    "start_time": "2025-06-23T08:52:35.620Z"
   },
   {
    "duration": 339,
    "start_time": "2025-06-23T08:52:35.826Z"
   },
   {
    "duration": 282,
    "start_time": "2025-06-23T08:52:36.166Z"
   },
   {
    "duration": 55,
    "start_time": "2025-06-23T08:52:36.450Z"
   },
   {
    "duration": 17,
    "start_time": "2025-06-23T08:52:36.507Z"
   },
   {
    "duration": 27,
    "start_time": "2025-06-23T08:52:36.525Z"
   },
   {
    "duration": 48,
    "start_time": "2025-06-23T08:52:36.554Z"
   },
   {
    "duration": 1031,
    "start_time": "2025-06-23T08:52:36.604Z"
   },
   {
    "duration": 464,
    "start_time": "2025-06-23T08:52:37.637Z"
   },
   {
    "duration": 12,
    "start_time": "2025-06-23T08:52:38.103Z"
   },
   {
    "duration": 91,
    "start_time": "2025-06-23T08:52:38.117Z"
   },
   {
    "duration": 1024,
    "start_time": "2025-06-23T08:52:38.210Z"
   },
   {
    "duration": 438,
    "start_time": "2025-06-23T08:52:39.236Z"
   },
   {
    "duration": 505,
    "start_time": "2025-06-23T08:52:39.676Z"
   },
   {
    "duration": 261,
    "start_time": "2025-06-23T08:52:40.184Z"
   },
   {
    "duration": 6,
    "start_time": "2025-06-23T08:52:40.449Z"
   },
   {
    "duration": 35,
    "start_time": "2025-06-23T08:52:40.457Z"
   },
   {
    "duration": 7,
    "start_time": "2025-06-23T08:52:40.494Z"
   },
   {
    "duration": 6319,
    "start_time": "2025-06-23T08:52:40.503Z"
   },
   {
    "duration": 13,
    "start_time": "2025-06-23T08:52:46.824Z"
   },
   {
    "duration": 0,
    "start_time": "2025-06-23T08:52:46.839Z"
   },
   {
    "duration": 0,
    "start_time": "2025-06-23T08:52:46.840Z"
   },
   {
    "duration": 0,
    "start_time": "2025-06-23T08:52:46.841Z"
   },
   {
    "duration": 0,
    "start_time": "2025-06-23T08:52:46.843Z"
   },
   {
    "duration": 5758,
    "start_time": "2025-06-23T08:55:28.886Z"
   },
   {
    "duration": 2661,
    "start_time": "2025-06-23T08:55:54.556Z"
   },
   {
    "duration": 94,
    "start_time": "2025-06-23T08:55:57.220Z"
   },
   {
    "duration": 26,
    "start_time": "2025-06-23T08:55:57.315Z"
   },
   {
    "duration": 25,
    "start_time": "2025-06-23T08:55:57.343Z"
   },
   {
    "duration": 28,
    "start_time": "2025-06-23T08:55:57.370Z"
   },
   {
    "duration": 15,
    "start_time": "2025-06-23T08:55:57.400Z"
   },
   {
    "duration": 23,
    "start_time": "2025-06-23T08:55:57.417Z"
   },
   {
    "duration": 37,
    "start_time": "2025-06-23T08:55:57.441Z"
   },
   {
    "duration": 11,
    "start_time": "2025-06-23T08:55:57.484Z"
   },
   {
    "duration": 35,
    "start_time": "2025-06-23T08:55:57.498Z"
   },
   {
    "duration": 48,
    "start_time": "2025-06-23T08:55:57.534Z"
   },
   {
    "duration": 12,
    "start_time": "2025-06-23T08:55:57.584Z"
   },
   {
    "duration": 85,
    "start_time": "2025-06-23T08:55:57.597Z"
   },
   {
    "duration": 257,
    "start_time": "2025-06-23T08:55:57.684Z"
   },
   {
    "duration": 713,
    "start_time": "2025-06-23T08:55:57.943Z"
   },
   {
    "duration": 1858,
    "start_time": "2025-06-23T08:55:58.658Z"
   },
   {
    "duration": 2236,
    "start_time": "2025-06-23T08:56:00.518Z"
   },
   {
    "duration": 898,
    "start_time": "2025-06-23T08:56:02.756Z"
   },
   {
    "duration": 32,
    "start_time": "2025-06-23T08:56:03.656Z"
   },
   {
    "duration": 239,
    "start_time": "2025-06-23T08:56:03.690Z"
   },
   {
    "duration": 9,
    "start_time": "2025-06-23T08:56:03.931Z"
   },
   {
    "duration": 1822,
    "start_time": "2025-06-23T08:56:03.942Z"
   },
   {
    "duration": 256,
    "start_time": "2025-06-23T08:56:05.771Z"
   },
   {
    "duration": 390,
    "start_time": "2025-06-23T08:56:06.029Z"
   },
   {
    "duration": 191,
    "start_time": "2025-06-23T08:56:06.421Z"
   },
   {
    "duration": 277,
    "start_time": "2025-06-23T08:56:06.614Z"
   },
   {
    "duration": 299,
    "start_time": "2025-06-23T08:56:06.893Z"
   },
   {
    "duration": 254,
    "start_time": "2025-06-23T08:56:07.195Z"
   },
   {
    "duration": 53,
    "start_time": "2025-06-23T08:56:07.451Z"
   },
   {
    "duration": 19,
    "start_time": "2025-06-23T08:56:07.506Z"
   },
   {
    "duration": 26,
    "start_time": "2025-06-23T08:56:07.527Z"
   },
   {
    "duration": 30,
    "start_time": "2025-06-23T08:56:07.555Z"
   },
   {
    "duration": 1088,
    "start_time": "2025-06-23T08:56:07.586Z"
   },
   {
    "duration": 319,
    "start_time": "2025-06-23T08:56:08.680Z"
   },
   {
    "duration": 14,
    "start_time": "2025-06-23T08:56:09.001Z"
   },
   {
    "duration": 26,
    "start_time": "2025-06-23T08:56:09.017Z"
   },
   {
    "duration": 1195,
    "start_time": "2025-06-23T08:56:09.044Z"
   },
   {
    "duration": 455,
    "start_time": "2025-06-23T08:56:10.240Z"
   },
   {
    "duration": 514,
    "start_time": "2025-06-23T08:56:10.697Z"
   },
   {
    "duration": 243,
    "start_time": "2025-06-23T08:56:11.213Z"
   },
   {
    "duration": 26,
    "start_time": "2025-06-23T08:56:11.458Z"
   },
   {
    "duration": 19,
    "start_time": "2025-06-23T08:56:11.486Z"
   },
   {
    "duration": 10,
    "start_time": "2025-06-23T08:56:11.507Z"
   },
   {
    "duration": 6279,
    "start_time": "2025-06-23T08:56:11.518Z"
   },
   {
    "duration": 5895,
    "start_time": "2025-06-23T08:56:17.799Z"
   },
   {
    "duration": 66207,
    "start_time": "2025-06-23T08:56:23.696Z"
   },
   {
    "duration": 574,
    "start_time": "2025-06-23T08:57:29.905Z"
   },
   {
    "duration": 10,
    "start_time": "2025-06-23T08:57:30.487Z"
   },
   {
    "duration": 799,
    "start_time": "2025-06-23T08:57:30.499Z"
   }
  ],
  "colab": {
   "provenance": []
  },
  "kernelspec": {
   "display_name": "Python 3 (ipykernel)",
   "language": "python",
   "name": "python3"
  },
  "language_info": {
   "codemirror_mode": {
    "name": "ipython",
    "version": 3
   },
   "file_extension": ".py",
   "mimetype": "text/x-python",
   "name": "python",
   "nbconvert_exporter": "python",
   "pygments_lexer": "ipython3",
   "version": "3.13.5"
  },
  "toc": {
   "base_numbering": 1,
   "nav_menu": {},
   "number_sections": true,
   "sideBar": true,
   "skip_h1_title": true,
   "title_cell": "Table of Contents",
   "title_sidebar": "Contents",
   "toc_cell": false,
   "toc_position": {},
   "toc_section_display": true,
   "toc_window_display": false
  }
 },
 "nbformat": 4,
 "nbformat_minor": 4
}
